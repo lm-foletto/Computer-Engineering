{
 "cells": [
  {
   "cell_type": "markdown",
   "metadata": {
    "id": "wrSRKjTeo34N"
   },
   "source": [
    "# Entropia Cruzada vs. Erro Médio Quadrático\n",
    "\n",
    "Este material é um estudo dirigido que apresenta a teoria por trás do uso da função _softmax_ e da entropia cruzada como função de custo, quando projetamos redes neurais para lidar com problemas de classificação, com saída desejada no formato _one-hot_.\n",
    "\n",
    "Esta teoria acompanha o [exercício F06](https://docs.google.com/forms/d/e/1FAIpQLSc1_kUBIi0Y1uBwC_p9YA7pcAHB6q9Z_QlpaYzQ6O4Y4iDLQQ/viewform?usp=sf_link).\n",
    "\n",
    "## MSE\n",
    "\n",
    "A função de custo mais conhecida é o Erro Médio Quadrático (MSE - Mean Squared Error). Esta é uma função simples de entender e derivar, e por isso é a que frequentemente aprendemos primeiro. Ela é dada pela fórmula:\n",
    "\n",
    "$E_{MSE} = \\frac{1}{2MN} \\sum^M_{k=1} \\sum^N_{i=1} (y_{ik} - \\hat{y}_{ik})^2$\n",
    "\n",
    "Que em palavras, significa que subtraímos o valor desejado do valor observado na saída, elevamos ao quadrado, e fazemos isso para cada saída $i$ e amostra $k$, somando e normalizando o resultado.\n",
    "\n",
    "Essencialmente, se olharmos para uma única amostra $k$ específica temos:\n",
    "$E_{MSE_k} = \\frac{1}{2N} \\sum^N_{i=1} (y_{i} - \\hat{y}_{i})^2$\n",
    "\n",
    "## CE\n",
    "\n",
    "Entretanto para problemas de classificação, a função mais comumente empregada é a Entropia Cruzada (CE - Cross Entropy), que é definida como:\n",
    "\n",
    "$E_{CE} = - \\frac{1}{M} \\sum_{k=1}^{M} \\sum_{i=1}^{N} \\hat{y}_{ik} \\log(y_{ik})$\n",
    "\n",
    "Olhando para uma amostra $k$ específica temos:\n",
    "\n",
    "$E_{CE_k} = - \\sum_{i=1}^{N} \\hat{y}_{i} \\log(y_{i})$\n",
    "\n",
    "Este Jupyter Notebook é um estudo dirigido sobre o tema do uso de codificação _one-hot_, função _softmax_ e entropia cruzada, para problemas de classificação em redes neurais artificiais.\n",
    "\n",
    "Nessas funções da CE acima, note que diferentemente do MSE, na CE não podemos trocar simetricamente $y$ por $\\hat{y}$ na equação. Como $\\hat{y}$ geralmente é um vetor no formato _one-hot_, isso causaria $\\log 0$ que não tem valor definido (tende a infinito, conforme se aproxima de zero).\n",
    "\n",
    "Neste Jupyter Notebook vamos examinar mais de perto a diferença entre essas duas funções de perda, quando empregadas em um problema de classificação. Abaixo ignoraremos o índice da amostra $k$ para simplificar a notação.\n",
    "\n",
    "## One-Hot Encoding\n",
    "\n",
    "Aqui vale lembrarmos que num problema de classificação entre $N$ possíveis classes, temos $N$ saídas, cada uma representando uma classe. As etiquetas (saídas desejadas) $\\hat{y}$ são codificadas no formato _one-hot_, ou seja, são vetores de $N$ componentes, onde apenas a componente referente à classe desejada é $1$, sendo todas demais componentes igual a $0$. Essas etiquetas são comparadas com a saída calculada, através da função de custo.\n",
    "\n",
    "<center><img src=\"https://drive.google.com/uc?id=1UZ8m6dnU9x7HGPWLZeGF3LgSTFxiBjhW\" width=\"500\" /></center>\n",
    "\n",
    "## Softmax\n",
    "\n",
    "Nesse tipo de problema a saída $y$ é ativada pela função _softmax_ onde:\n",
    "\n",
    "$y_i = \\frac{\\exp(s_i)}{\\sum_j\\exp(s_j)}$\n",
    "\n",
    "Isso resulta que todas saídas ficam contidas no intervalo entre $0$ e $1$, e somam exatamente no valor $1$, onde a saída maior se sobressai em relação às demais, já que a diferença aparece na potência da exponencial.\n",
    "\n",
    "<img src=\"https://drive.google.com/uc?id=1d3sG1C3ON215tuhHmBR_fPpsKg1C6H0i\" width=\"700\" />\n",
    "\n",
    "Nesse caso, quando formos comparar $y$ (gerado pela função _softmax_) e $\\hat{y}$ (etiqueta no formato _one-hot_) que diferença faz usar MSE ou CE como função de custo?\n",
    "\n",
    "## Código\n",
    "\n",
    "Para examinar a diferença entre essas funções de custo, definimos estas funções no código abaixo."
   ]
  },
  {
   "cell_type": "code",
   "execution_count": 1,
   "metadata": {
    "id": "5FAyXhAPoX1t"
   },
   "outputs": [],
   "source": [
    "import numpy as np\n",
    "import matplotlib.pyplot as plt\n",
    "\n",
    "np.set_printoptions(formatter={'float': '{: 0.1f}'.format})"
   ]
  },
  {
   "cell_type": "code",
   "execution_count": null,
   "metadata": {
    "id": "iHA9y3UXnUK4"
   },
   "outputs": [],
   "source": [
    "def mse(y,y_hat):\n",
    "  ''' Erro médio quadrático\n",
    "        y     : saída observada\n",
    "        y_hat : saída desejada\n",
    "  '''\n",
    "  return 0.5*np.sum((y - y_hat)**2,axis=0)"
   ]
  },
  {
   "cell_type": "code",
   "execution_count": null,
   "metadata": {
    "id": "8YIsoEBIn-TW"
   },
   "outputs": [],
   "source": [
    "def ce(y,y_hat):\n",
    "  ''' Entropia cruzada\n",
    "        y     : saída observada\n",
    "        y_hat : saída desejada\n",
    "  '''\n",
    "  return - np.sum(y_hat * np.log(y),axis=0)"
   ]
  },
  {
   "cell_type": "markdown",
   "metadata": {
    "id": "_cOGGKYvnwJ6"
   },
   "source": [
    "Abaixo criamos uma matriz, onde cada coluna representa a simulação de uma saída _softmax_ possível, para um problema de classificação de duas classes. Na primeira linha os valores variam de 0,01 a 0,99 e na segunda linha os mesmos valores são subtraídos de 1,00 para garantir que a soma seja 1,00 em todas colunas."
   ]
  },
  {
   "cell_type": "code",
   "execution_count": null,
   "metadata": {
    "colab": {
     "base_uri": "https://localhost:8080/"
    },
    "id": "GGjvmsDFn6jz",
    "outputId": "d8555def-dd7e-499b-cf2e-aa9863f05370"
   },
   "outputs": [
    {
     "name": "stdout",
     "output_type": "stream",
     "text": [
      "[[ 0.0  0.1  0.2  0.3  0.4  0.6  0.7  0.8  0.9  1.0]\n",
      " [ 1.0  0.9  0.8  0.7  0.6  0.4  0.3  0.2  0.1  0.0]]\n"
     ]
    }
   ],
   "source": [
    "y0 = np.linspace(0.01,0.99,10)\n",
    "y1 = 1.0 - y0\n",
    "y = np.array([y0,y1])\n",
    "print(y)"
   ]
  },
  {
   "cell_type": "markdown",
   "metadata": {
    "id": "jXefUus6pgV_"
   },
   "source": [
    "Definimos abaixo nosso rótudo, a saída desejada"
   ]
  },
  {
   "cell_type": "code",
   "execution_count": 5,
   "metadata": {
    "colab": {
     "base_uri": "https://localhost:8080/"
    },
    "id": "FWK1UiQdpDl6",
    "outputId": "09ba5c3f-d0fd-446f-8c2b-5e8f8a842144"
   },
   "outputs": [
    {
     "name": "stdout",
     "output_type": "stream",
     "text": [
      "[[ 1.0]\n",
      " [ 0.0]]\n"
     ]
    }
   ],
   "source": [
    "y_hat = np.array([[1.0],[0.0]])\n",
    "print(y_hat)"
   ]
  },
  {
   "cell_type": "markdown",
   "metadata": {
    "id": "2G6dUTcKOTiz"
   },
   "source": [
    "Observando os valores de $y$ e de $\\hat{y}$, vemos que os valores das colunas de $y$, olhando da esquerda para a direita, coluna a coluna, vão variando da classe incorreta $[0 \\; 1]^T$ até a classe correta $[1 \\; 0]^T$, pouco a pouco, criando valores intermediários em cada coluna de $y$."
   ]
  },
  {
   "cell_type": "markdown",
   "metadata": {
    "id": "IYtV5HajrglK"
   },
   "source": [
    "Agora podemos calcular o MSE e a CE para esses dados e verificar como essas funções de custo se comportam para cada um desses valores intermediários."
   ]
  },
  {
   "cell_type": "code",
   "execution_count": 6,
   "metadata": {
    "colab": {
     "base_uri": "https://localhost:8080/"
    },
    "id": "CAjz4ba9pkvY",
    "outputId": "76fa8c37-03a3-4c48-c2bd-b0a57a5d8152"
   },
   "outputs": [
    {
     "name": "stdout",
     "output_type": "stream",
     "text": [
      "[ 1.0  0.8  0.6  0.4  0.3  0.2  0.1  0.1  0.0  0.0]\n"
     ]
    }
   ],
   "source": [
    "c0 = mse(y,y_hat)\n",
    "print(c0)"
   ]
  },
  {
   "cell_type": "code",
   "execution_count": 7,
   "metadata": {
    "colab": {
     "base_uri": "https://localhost:8080/"
    },
    "id": "iPKggiAXp-b_",
    "outputId": "cf75323c-6d37-4df0-9a70-08b97c146133"
   },
   "outputs": [
    {
     "name": "stdout",
     "output_type": "stream",
     "text": [
      "[ 4.6  2.1  1.5  1.1  0.8  0.6  0.4  0.3  0.1  0.0]\n"
     ]
    }
   ],
   "source": [
    "c1 = ce(y,y_hat)\n",
    "print(c1)"
   ]
  },
  {
   "cell_type": "markdown",
   "metadata": {
    "id": "zw8jJhTGPQdv"
   },
   "source": [
    "Comparando as saídas acima já podemos perceber como os custos da CE são maiores que os custos do MSE para as colunas mais à esquerda, convergindo ambos para zero nas colunas mais à direita."
   ]
  },
  {
   "cell_type": "markdown",
   "metadata": {
    "id": "pzzvuZO6ro0y"
   },
   "source": [
    "Plotando o gráfico abaixo, vemos como o CE penaliza de forma mais agressiva que o MSE os valores que representam classificações diferentes da desejada."
   ]
  },
  {
   "cell_type": "code",
   "execution_count": 8,
   "metadata": {
    "colab": {
     "base_uri": "https://localhost:8080/",
     "height": 430
    },
    "id": "2YpkR0a7qPD2",
    "outputId": "bcafa12d-294c-417f-d16e-89a37ed9be4a"
   },
   "outputs": [
    {
     "data": {
      "image/png": "[encoded data removed]",
      "text/plain": [
       "<Figure size 640x480 with 1 Axes>"
      ]
     },
     "metadata": {},
     "output_type": "display_data"
    }
   ],
   "source": [
    "plt.plot(c0,label='MSE')\n",
    "plt.plot(c1,label='CE')\n",
    "plt.legend()\n",
    "plt.grid()\n",
    "plt.show()"
   ]
  },
  {
   "cell_type": "markdown",
   "metadata": {
    "id": "Z9udobztQMCP"
   },
   "source": [
    "Para observar mais de perto, vamos examinar as componentes individuais das saídas de ambas funções de custo. Para isso vamos colar abaixo as expressões principais, de dentro do somatório, e calcular a contribuição de cada saída no custo final.\n",
    "\n",
    "Abaixo, para o MSE, vemos que ambas componentes dão resultados simétricos."
   ]
  },
  {
   "cell_type": "code",
   "execution_count": null,
   "metadata": {
    "colab": {
     "base_uri": "https://localhost:8080/"
    },
    "id": "a97Kl-FPP9I2",
    "outputId": "eecf4225-d10b-46ee-d612-e1f96400ba72"
   },
   "outputs": [
    {
     "data": {
      "text/plain": [
       "array([[ 1.0,  0.8,  0.6,  0.4,  0.3,  0.2,  0.1,  0.1,  0.0,  0.0],\n",
       "       [ 1.0,  0.8,  0.6,  0.4,  0.3,  0.2,  0.1,  0.1,  0.0,  0.0]])"
      ]
     },
     "execution_count": 9,
     "metadata": {},
     "output_type": "execute_result"
    }
   ],
   "source": [
    "(y - y_hat)**2"
   ]
  },
  {
   "cell_type": "markdown",
   "metadata": {
    "id": "mBSWutmiccby"
   },
   "source": [
    "Já para o caso da CE, temos"
   ]
  },
  {
   "cell_type": "code",
   "execution_count": 10,
   "metadata": {
    "colab": {
     "base_uri": "https://localhost:8080/"
    },
    "id": "4TybBr37cU6h",
    "outputId": "53be357b-d69d-4090-dff3-badda54ff7bd"
   },
   "outputs": [
    {
     "data": {
      "text/plain": [
       "array([[ 4.6,  2.1,  1.5,  1.1,  0.8,  0.6,  0.4,  0.3,  0.1,  0.0],\n",
       "       [ 0.0,  0.0,  0.0,  0.0,  0.0,  0.0,  0.0,  0.0,  0.0,  0.0]])"
      ]
     },
     "execution_count": 10,
     "metadata": {},
     "output_type": "execute_result"
    }
   ],
   "source": [
    "- y_hat * np.log(y)"
   ]
  },
  {
   "cell_type": "markdown",
   "metadata": {
    "id": "Ivlaysc_chco"
   },
   "source": [
    "Veja acima como a segunda componente da saída, referente, neste caso, à classe incorreta, resulta sempre em custo zero. Para etiquetas no formato _one-hot_ custo é diferente de zero apenas na saída referente à classe desejada.\n",
    "\n",
    "Isso fica evidente se pensar que cada componente $i$ é:\n",
    "\n",
    "$E_{CE_i} = - \\hat{y}_i \\log (y_i)$\n",
    "\n",
    "Então, no formato _one-hot_ apenas para a saída $i$ referente à classe correta temos que $\\hat{y}_i$ = 1, resultando em $E_{CE_i} = - \\log (y_i)$ para a classe correta, e $E_{CE_i} = 0$ para as classes incorretas (todas as demais).\n",
    "\n",
    "<center><img src=\"https://drive.google.com/uc?id=1_6O7KyvjVZZOMS4OIDCU0JF8AH9Oj-Bu\" width=\"250\" /></center>\n",
    "\n",
    "De fato, se consideramos saídas desejadas no formato _one-hot_, podemos ignorar todas as demais e nem fazer a soma, calculando apenas $- \\log(y_i)$ para a classe correta. Isso é chamado de _categorical cross-entropy_."
   ]
  },
  {
   "cell_type": "markdown",
   "metadata": {
    "id": "Knlne_NI1ReW"
   },
   "source": [
    "Se focarmos na saída não nula, podemos plotar a função $-\\log(y_i)$"
   ]
  },
  {
   "cell_type": "code",
   "execution_count": 11,
   "metadata": {
    "colab": {
     "base_uri": "https://localhost:8080/",
     "height": 430
    },
    "id": "-rQNw5Zd1Ql2",
    "outputId": "7ead8aa9-5a03-418b-df4f-a58c62aaa6c5"
   },
   "outputs": [
    {
     "data": {
      "image/png": "[encoded data removed]",
      "text/plain": [
       "<Figure size 640x480 with 1 Axes>"
      ]
     },
     "metadata": {},
     "output_type": "display_data"
    }
   ],
   "source": [
    "x = np.linspace(0.01,0.99,100)\n",
    "y = -np.log(x)\n",
    "plt.plot(x,y)\n",
    "plt.show()"
   ]
  },
  {
   "cell_type": "markdown",
   "metadata": {
    "id": "OdqrLXQv13Qi"
   },
   "source": [
    "Esta função acima mostra o quanto a CE penaliza o erro de classificação, de acordo com a probabilidade que a rede estimou na saída para a classe correta. Por exemplo, podemos ver que para $y_i \\approx 0.2$ temos $E_{CE} \\approx 1.6$. Isso significa que quando a rede atribui $20\\%$ de probabilidade à classe correta (que deveria ser idealmente $100\\%$), o custo é $1.6$. Note que não importam as probabilidades estimadas para as outras classes, já que as classes erradas não contribuem para o custo.\n",
    "\n",
    "Veja que, como na saída _softmax_ a soma das saídas é sempre $1$, não importa o valor das saídas nas classes erradas. Mas quaisquer que sejam os valores nas saídas erradas, este valor acaba sendo subtraído da classe certa, que acaba indiretamente aumentando a entropia cruzada.\n",
    "\n",
    "Quando menos probabilidade for atribuída à classe correta, mais nos movemos para a esquerda no gráfico acima, aumentando o custo de forma exponencial à medida que nos aproximamos da probabilidade zero.\n",
    "\n",
    "PS.: Note que uma probabilidade zero causaria um erro no código, já que $\\log 0$ não é definido. Entretanto, usando uma saída _softmax_ garantimos que isso não pode acontecer."
   ]
  },
  {
   "cell_type": "markdown",
   "metadata": {
    "id": "YWSfIDO40079"
   },
   "source": [
    "## Backpropagation usando MSE vs. CE\n",
    "\n",
    "Na hora de implementar o algoritmo _backpropagation_, empregando uma saída _softmax_ e o erro CE implica em mudanças nas derivadas parciais referente aos parâmetros de peso e bias da última camada da rede neural.\n",
    "\n",
    "Aqui vamos usar a mesma notação do vídeo abaixo.\n",
    "\n"
   ]
  },
  {
   "cell_type": "code",
   "execution_count": 12,
   "metadata": {
    "colab": {
     "base_uri": "https://localhost:8080/",
     "height": 322
    },
    "id": "BvxI2XTJcgWU",
    "outputId": "b08d0784-3e76-4850-b5e4-463a65710cdd"
   },
   "outputs": [
    {
     "data": {
      "image/jpeg": "[encoded data removed]",
      "text/html": [
       "\n",
       "        <iframe\n",
       "            width=\"400\"\n",
       "            height=\"300\"\n",
       "            src=\"https://www.youtube.com/embed/FvOY-IIhwHM\"\n",
       "            frameborder=\"0\"\n",
       "            allowfullscreen\n",
       "            \n",
       "        ></iframe>\n",
       "        "
      ],
      "text/plain": [
       "<IPython.lib.display.YouTubeVideo at 0x732e75fb7ce0>"
      ]
     },
     "execution_count": 12,
     "metadata": {},
     "output_type": "execute_result"
    }
   ],
   "source": [
    "from IPython.display import YouTubeVideo\n",
    "YouTubeVideo('FvOY-IIhwHM')"
   ]
  },
  {
   "cell_type": "markdown",
   "metadata": {
    "id": "PZcWKAJT7YQ9"
   },
   "source": [
    "Para a CE, a derivada parcial do custo em relação a $s^L$ é dada por:\n",
    "\n",
    "$\\delta^L =  \\frac{\\partial{E_{CE}}}{\\partial{s^L}} = y - \\hat{y}$\n",
    "\n",
    "Esta é a mesma expressão usada para calcular os deltas no algoritmo backpropagation usando MSE, para casos onde não há função de ativação na última camada (no vídeo acima consideramos que há, [por isso o $\\delta^L$ era ligeiramente diferente](https://youtu.be/FvOY-IIhwHM?t=1653)). Note que aqui os valores de $y$ são na realidade as saídas da função _softmax_ (não há função de ativação).\n",
    "\n",
    "E para as demais camadas, seguimos como deduzido no vídeo\n",
    "\n",
    "$\\delta^l=(W^{l+1})^T\\delta^{l+1}\\odot\\sigma'(s^l)$\n",
    "\n",
    "Para calcular as derivadas parciais relativas aos pesos e biases de todas camadas (incluindo a última), podemos aplicar a regra da cadeia, da mesma forma que demonstrado no vídeo.\n",
    "\n",
    "$\\frac{\\partial{E_{CE}}}{\\partial{W^l}} = \\frac{\\partial{E_{CE}}}{\\partial{s^l}} \\frac{\\partial{s^l}}{\\partial{W^l}} = \\delta^l \\times \\left(z^{l-1}\\right)^T $\n",
    "\n",
    "$\\frac{\\partial{E_{CE}}}{\\partial{b^l}} = \\frac{\\partial{E_{CE}}}{\\partial{s^l}} \\frac{\\partial{s^l}}{\\partial{b^l}} = \\delta^l $\n",
    "\n",
    "PS.: Para uma dedução passo-a-passo da derivada da entropia cruzada com saída softmax, veja a página 3 [neste documento](https://www.ics.uci.edu/~pjsadows/notes.pdf) ou ainda [este vídeo](https://youtu.be/5-rVLSc2XdE). Mas cuidado, as notações nesses materiais são diferentes da nossa!"
   ]
  },
  {
   "cell_type": "markdown",
   "metadata": {
    "id": "QU2c1UroIMgb"
   },
   "source": [
    "# Exercício F07\n",
    "\n",
    "Implemente o treinamento de uma rede neural que utilize _softmax_ na saída e CE. Tome como ponto de partida o código disponível [neste Jupyter Notebook](https://colab.research.google.com/drive/1NruTndsSkIipkZGZt_p9Ojwb-sLejj9i?usp=sharing).\n",
    "\n",
    "Este exercício deve ser entregue [neste link](https://docs.google.com/forms/d/e/1FAIpQLSc1_kUBIi0Y1uBwC_p9YA7pcAHB6q9Z_QlpaYzQ6O4Y4iDLQQ/viewform?usp=sf_link)."
   ]
  }
 ],
 "metadata": {
  "colab": {
   "provenance": []
  },
  "kernelspec": {
   "display_name": "Python 3",
   "name": "python3"
  },
  "language_info": {
   "codemirror_mode": {
    "name": "ipython",
    "version": 3
   },
   "file_extension": ".py",
   "mimetype": "text/x-python",
   "name": "python",
   "nbconvert_exporter": "python",
   "pygments_lexer": "ipython3",
   "version": "3.12.1"
  }
 },
 "nbformat": 4,
 "nbformat_minor": 0
}
