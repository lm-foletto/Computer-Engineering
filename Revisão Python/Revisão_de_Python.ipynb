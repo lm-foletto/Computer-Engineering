{
  "nbformat": 4,
  "nbformat_minor": 0,
  "metadata": {
    "colab": {
      "provenance": [],
      "include_colab_link": true
    },
    "kernelspec": {
      "name": "python3",
      "display_name": "Python 3"
    },
    "language_info": {
      "name": "python"
    }
  },
  "cells": [
    {
      "cell_type": "markdown",
      "metadata": {
        "id": "view-in-github",
        "colab_type": "text"
      },
      "source": [
        "<a href=\"https://colab.research.google.com/github/Leo-Foletto98/Deep_Learning/blob/main/E01_Revis%C3%A3o_de_Python.ipynb\" target=\"_parent\"><img src=\"https://colab.research.google.com/assets/colab-badge.svg\" alt=\"Open In Colab\"/></a>"
      ]
    },
    {
      "cell_type": "code",
      "metadata": {
        "id": "eMRulnnoZ-mf"
      },
      "source": [
        "#@title\n",
        "%%capture\n",
        "!rm -rf *\n",
        "!gdown --id '1FthkfI1LhyO4pyg_yFr0CkCjXeEe3VJ3'\n",
        "!unzip *.zip\n",
        "!pip install git+https://github.com/grading/gradememaybe.git\n",
        "\n",
        "from IPython.display import YouTubeVideo\n",
        "from gofer import ok"
      ],
      "execution_count": null,
      "outputs": []
    },
    {
      "cell_type": "markdown",
      "metadata": {
        "id": "Q9sF-_ZoqXUM"
      },
      "source": [
        "#E01 - Revisão de Python\n",
        "\n",
        "Faça uma cópia deste documento e siga as instruções abaixo para solucionar os exercícios de $1$ a $7$. Após concluir todos exercícios, preencha o formulário de auto-avaliação para efetuar a entrega."
      ]
    },
    {
      "cell_type": "markdown",
      "metadata": {
        "id": "Z38hdMqo7gdu"
      },
      "source": [
        "# Parte 1 - Álgebra Linear"
      ]
    },
    {
      "cell_type": "code",
      "metadata": {
        "id": "xJoOX1MfamwE",
        "colab": {
          "base_uri": "https://localhost:8080/",
          "height": 322
        },
        "outputId": "7bb41c75-3d25-4fc6-a03b-2780716c8c73"
      },
      "source": [
        "YouTubeVideo('7oYe5Wikdxk')"
      ],
      "execution_count": 3,
      "outputs": [
        {
          "output_type": "execute_result",
          "data": {
            "text/plain": [
              "<IPython.lib.display.YouTubeVideo at 0x79873994a7d0>"
            ],
            "text/html": [
              "\n",
              "        <iframe\n",
              "            width=\"400\"\n",
              "            height=\"300\"\n",
              "            src=\"https://www.youtube.com/embed/7oYe5Wikdxk\"\n",
              "            frameborder=\"0\"\n",
              "            allowfullscreen\n",
              "            \n",
              "        ></iframe>\n",
              "        "
            ],
            "image/jpeg": "[encoded data removed]"
          },
          "metadata": {},
          "execution_count": 3
        }
      ]
    },
    {
      "cell_type": "markdown",
      "metadata": {
        "id": "Cgv2ooRMuoJ8"
      },
      "source": [
        "## 1\n",
        "\n",
        "Após assistir ao vídeo acima, faça um código que importe a função \"cos\" do módulo \"math\" trocando o nome da função para \"cos1\". No mesmo código, também importe a função \"cos\" do módulo \"numpy\" e troque o nome para \"cos2\"."
      ]
    },
    {
      "cell_type": "code",
      "metadata": {
        "id": "BW3mXuDFV7td",
        "colab": {
          "base_uri": "https://localhost:8080/"
        },
        "outputId": "fd316c15-f4b8-4ff3-e052-5281b192fbac"
      },
      "source": [
        "# Importando a função \"cos\" do módulo \"math\" e dê a ela o nome \"cos1\"\n",
        "from math import cos as cos1\n",
        "\n",
        "# Importando a função \"cos\" do módulo \"numpy\" e dê a ela o nome \"cos2\"\n",
        "import numpy as np\n",
        "cos2 = np.cos\n",
        "\n",
        "# Agora podemos usar as funções com os novos nomes\n",
        "resultado1 = cos1(0)\n",
        "resultado2 = cos2(0)\n",
        "\n",
        "print(\"Resultado da função cos1:\", resultado1)\n",
        "print(\"Resultado da função cos2:\", resultado2)"
      ],
      "execution_count": 5,
      "outputs": [
        {
          "output_type": "stream",
          "name": "stdout",
          "text": [
            "Resultado da função cos1: 1.0\n",
            "Resultado da função cos2: 1.0\n"
          ]
        }
      ]
    },
    {
      "cell_type": "code",
      "metadata": {
        "id": "v059ORwIegV9",
        "colab": {
          "base_uri": "https://localhost:8080/",
          "height": 46
        },
        "outputId": "e1387155-3301-4764-92ef-1f648145139a"
      },
      "source": [
        "ok.check('e01_1.py')"
      ],
      "execution_count": 6,
      "outputs": [
        {
          "output_type": "execute_result",
          "data": {
            "text/plain": [
              "<gofer.ok.OKTestsResult at 0x798738aafa90>"
            ],
            "text/html": [
              "\n",
              "    \n",
              "    \n",
              "        <p>All tests passed!</p>\n",
              "    \n",
              "    "
            ]
          },
          "metadata": {},
          "execution_count": 6
        }
      ]
    },
    {
      "cell_type": "code",
      "metadata": {
        "id": "JyM9JPJDvNVm",
        "colab": {
          "base_uri": "https://localhost:8080/",
          "height": 322
        },
        "outputId": "e81b2ba0-1bf0-489e-e46b-377448edc89a"
      },
      "source": [
        "YouTubeVideo('Hv8JslLk4M0')"
      ],
      "execution_count": 7,
      "outputs": [
        {
          "output_type": "execute_result",
          "data": {
            "text/plain": [
              "<IPython.lib.display.YouTubeVideo at 0x798738277a60>"
            ],
            "text/html": [
              "\n",
              "        <iframe\n",
              "            width=\"400\"\n",
              "            height=\"300\"\n",
              "            src=\"https://www.youtube.com/embed/Hv8JslLk4M0\"\n",
              "            frameborder=\"0\"\n",
              "            allowfullscreen\n",
              "            \n",
              "        ></iframe>\n",
              "        "
            ],
            "image/jpeg": "[encoded data removed]"
          },
          "metadata": {},
          "execution_count": 7
        }
      ]
    },
    {
      "cell_type": "markdown",
      "metadata": {
        "id": "S1_2Bdbkvnp7"
      },
      "source": [
        "## 2\n",
        "\n",
        "Mostre o que acontece ao tentar multiplicar uma lista nativa do Python por um número inteiro. Para fazer isso, tome como ponto de partida a lista de nome `a` abaixo, multiplique esta lista por `5`, e salve o resultado numa variável de nome `b`."
      ]
    },
    {
      "cell_type": "code",
      "metadata": {
        "id": "wdtkTDX9vUdU",
        "colab": {
          "base_uri": "https://localhost:8080/"
        },
        "outputId": "f5cee458-fd5a-4089-e914-247b90bc0473"
      },
      "source": [
        "# Definindo a lista a\n",
        "a = [1, 2, 3]\n",
        "\n",
        "# Multiplicando a lista a por 5\n",
        "b = a * 5\n",
        "\n",
        "# Exibindo a lista resultante b\n",
        "print(b)"
      ],
      "execution_count": 8,
      "outputs": [
        {
          "output_type": "stream",
          "name": "stdout",
          "text": [
            "[1, 2, 3, 1, 2, 3, 1, 2, 3, 1, 2, 3, 1, 2, 3]\n"
          ]
        }
      ]
    },
    {
      "cell_type": "code",
      "metadata": {
        "id": "suBMZunAx_vH",
        "colab": {
          "base_uri": "https://localhost:8080/",
          "height": 46
        },
        "outputId": "bb9127b8-403a-43a9-e146-5d2a40f6ce94"
      },
      "source": [
        "ok.check('e01_2.py')"
      ],
      "execution_count": 9,
      "outputs": [
        {
          "output_type": "execute_result",
          "data": {
            "text/plain": [
              "<gofer.ok.OKTestsResult at 0x798738277940>"
            ],
            "text/html": [
              "\n",
              "    \n",
              "    \n",
              "        <p>All tests passed!</p>\n",
              "    \n",
              "    "
            ]
          },
          "metadata": {},
          "execution_count": 9
        }
      ]
    },
    {
      "cell_type": "markdown",
      "metadata": {
        "id": "1pxt4NzrzCvN"
      },
      "source": [
        "##3\n",
        "\n",
        "Crie uma matriz usando `array` do NumPy, com $100$ linhas (numeradas de $0$ a $99$) e $5$ colunas (numeradas de $0$ a $4$), onde cada elemento da linha $i$ e coluna $j$ é o resultado da multiplicação $i*j$ (onde $i$ e $j$ são inteiros). Grave o resultado na variável `c`."
      ]
    },
    {
      "cell_type": "code",
      "source": [
        "import numpy as np\n",
        "\n",
        "# Criando uma matriz de 100 linhas e 5 colunas\n",
        "c = np.zeros((100, 5))\n",
        "\n",
        "# Preenchendo a matriz com o resultado da multiplicação i*j\n",
        "for i in range(100):\n",
        "    for j in range(5):\n",
        "        c[i, j] = i * j\n",
        "\n",
        "# Exibindo a matriz resultante\n",
        "print(c)"
      ],
      "metadata": {
        "id": "-TQAaY9eMLct",
        "colab": {
          "base_uri": "https://localhost:8080/"
        },
        "outputId": "90bfe154-c01f-41bc-d8c8-210a4ca00075"
      },
      "execution_count": 10,
      "outputs": [
        {
          "output_type": "stream",
          "name": "stdout",
          "text": [
            "[[  0.   0.   0.   0.   0.]\n",
            " [  0.   1.   2.   3.   4.]\n",
            " [  0.   2.   4.   6.   8.]\n",
            " [  0.   3.   6.   9.  12.]\n",
            " [  0.   4.   8.  12.  16.]\n",
            " [  0.   5.  10.  15.  20.]\n",
            " [  0.   6.  12.  18.  24.]\n",
            " [  0.   7.  14.  21.  28.]\n",
            " [  0.   8.  16.  24.  32.]\n",
            " [  0.   9.  18.  27.  36.]\n",
            " [  0.  10.  20.  30.  40.]\n",
            " [  0.  11.  22.  33.  44.]\n",
            " [  0.  12.  24.  36.  48.]\n",
            " [  0.  13.  26.  39.  52.]\n",
            " [  0.  14.  28.  42.  56.]\n",
            " [  0.  15.  30.  45.  60.]\n",
            " [  0.  16.  32.  48.  64.]\n",
            " [  0.  17.  34.  51.  68.]\n",
            " [  0.  18.  36.  54.  72.]\n",
            " [  0.  19.  38.  57.  76.]\n",
            " [  0.  20.  40.  60.  80.]\n",
            " [  0.  21.  42.  63.  84.]\n",
            " [  0.  22.  44.  66.  88.]\n",
            " [  0.  23.  46.  69.  92.]\n",
            " [  0.  24.  48.  72.  96.]\n",
            " [  0.  25.  50.  75. 100.]\n",
            " [  0.  26.  52.  78. 104.]\n",
            " [  0.  27.  54.  81. 108.]\n",
            " [  0.  28.  56.  84. 112.]\n",
            " [  0.  29.  58.  87. 116.]\n",
            " [  0.  30.  60.  90. 120.]\n",
            " [  0.  31.  62.  93. 124.]\n",
            " [  0.  32.  64.  96. 128.]\n",
            " [  0.  33.  66.  99. 132.]\n",
            " [  0.  34.  68. 102. 136.]\n",
            " [  0.  35.  70. 105. 140.]\n",
            " [  0.  36.  72. 108. 144.]\n",
            " [  0.  37.  74. 111. 148.]\n",
            " [  0.  38.  76. 114. 152.]\n",
            " [  0.  39.  78. 117. 156.]\n",
            " [  0.  40.  80. 120. 160.]\n",
            " [  0.  41.  82. 123. 164.]\n",
            " [  0.  42.  84. 126. 168.]\n",
            " [  0.  43.  86. 129. 172.]\n",
            " [  0.  44.  88. 132. 176.]\n",
            " [  0.  45.  90. 135. 180.]\n",
            " [  0.  46.  92. 138. 184.]\n",
            " [  0.  47.  94. 141. 188.]\n",
            " [  0.  48.  96. 144. 192.]\n",
            " [  0.  49.  98. 147. 196.]\n",
            " [  0.  50. 100. 150. 200.]\n",
            " [  0.  51. 102. 153. 204.]\n",
            " [  0.  52. 104. 156. 208.]\n",
            " [  0.  53. 106. 159. 212.]\n",
            " [  0.  54. 108. 162. 216.]\n",
            " [  0.  55. 110. 165. 220.]\n",
            " [  0.  56. 112. 168. 224.]\n",
            " [  0.  57. 114. 171. 228.]\n",
            " [  0.  58. 116. 174. 232.]\n",
            " [  0.  59. 118. 177. 236.]\n",
            " [  0.  60. 120. 180. 240.]\n",
            " [  0.  61. 122. 183. 244.]\n",
            " [  0.  62. 124. 186. 248.]\n",
            " [  0.  63. 126. 189. 252.]\n",
            " [  0.  64. 128. 192. 256.]\n",
            " [  0.  65. 130. 195. 260.]\n",
            " [  0.  66. 132. 198. 264.]\n",
            " [  0.  67. 134. 201. 268.]\n",
            " [  0.  68. 136. 204. 272.]\n",
            " [  0.  69. 138. 207. 276.]\n",
            " [  0.  70. 140. 210. 280.]\n",
            " [  0.  71. 142. 213. 284.]\n",
            " [  0.  72. 144. 216. 288.]\n",
            " [  0.  73. 146. 219. 292.]\n",
            " [  0.  74. 148. 222. 296.]\n",
            " [  0.  75. 150. 225. 300.]\n",
            " [  0.  76. 152. 228. 304.]\n",
            " [  0.  77. 154. 231. 308.]\n",
            " [  0.  78. 156. 234. 312.]\n",
            " [  0.  79. 158. 237. 316.]\n",
            " [  0.  80. 160. 240. 320.]\n",
            " [  0.  81. 162. 243. 324.]\n",
            " [  0.  82. 164. 246. 328.]\n",
            " [  0.  83. 166. 249. 332.]\n",
            " [  0.  84. 168. 252. 336.]\n",
            " [  0.  85. 170. 255. 340.]\n",
            " [  0.  86. 172. 258. 344.]\n",
            " [  0.  87. 174. 261. 348.]\n",
            " [  0.  88. 176. 264. 352.]\n",
            " [  0.  89. 178. 267. 356.]\n",
            " [  0.  90. 180. 270. 360.]\n",
            " [  0.  91. 182. 273. 364.]\n",
            " [  0.  92. 184. 276. 368.]\n",
            " [  0.  93. 186. 279. 372.]\n",
            " [  0.  94. 188. 282. 376.]\n",
            " [  0.  95. 190. 285. 380.]\n",
            " [  0.  96. 192. 288. 384.]\n",
            " [  0.  97. 194. 291. 388.]\n",
            " [  0.  98. 196. 294. 392.]\n",
            " [  0.  99. 198. 297. 396.]]\n"
          ]
        }
      ]
    },
    {
      "cell_type": "code",
      "metadata": {
        "id": "xxnQR3gG4Ecl",
        "colab": {
          "base_uri": "https://localhost:8080/",
          "height": 46
        },
        "outputId": "718738ba-355c-42c7-efb1-ff6e7d4d78ce"
      },
      "source": [
        "ok.check('e01_3.py')"
      ],
      "execution_count": 11,
      "outputs": [
        {
          "output_type": "execute_result",
          "data": {
            "text/plain": [
              "<gofer.ok.OKTestsResult at 0x798738277d30>"
            ],
            "text/html": [
              "\n",
              "    \n",
              "    \n",
              "        <p>All tests passed!</p>\n",
              "    \n",
              "    "
            ]
          },
          "metadata": {},
          "execution_count": 11
        }
      ]
    },
    {
      "cell_type": "markdown",
      "metadata": {
        "id": "-oVA5xfG6EwQ"
      },
      "source": [
        "## 4\n",
        "\n",
        "Faça um gráfico da função `y = 1.0 / (1.0 + np.exp(-x))` para $100$ valores de `x` igualmente distribuídos no intervalo entre $-5$ e $+5$. Seguindo o exemplo do vídeo, use linspsace do numpy, e a função plot do pyplot, submódulo do matplotlib. Salve a imagem para fazer upload no formulário de entrega desse exercício.\n"
      ]
    },
    {
      "cell_type": "code",
      "metadata": {
        "id": "s7LODpe16ZUH",
        "colab": {
          "base_uri": "https://localhost:8080/",
          "height": 472
        },
        "outputId": "8d489663-d32a-432e-ee80-519a66e56f3a"
      },
      "source": [
        "import numpy as np\n",
        "import matplotlib.pyplot as plt\n",
        "\n",
        "# Criando 100 valores de x igualmente distribuídos no intervalo entre -5 e 5\n",
        "x = np.linspace(-5, 5, 100)\n",
        "\n",
        "# Calculando a função y\n",
        "y = 1.0 / (1.0 + np.exp(-x))\n",
        "\n",
        "# Criando o gráfico\n",
        "plt.plot(x, y)\n",
        "\n",
        "# Configurando rótulos e título\n",
        "plt.xlabel('x')\n",
        "plt.ylabel('y')\n",
        "plt.title('Gráfico da Função y = 1.0 / (1.0 + exp(-x))')\n",
        "\n",
        "# Salvando o gráfico em um arquivo de imagem\n",
        "plt.savefig('grafico_funcao.png')\n",
        "\n",
        "# Exibindo o gráfico\n",
        "plt.show()"
      ],
      "execution_count": 12,
      "outputs": [
        {
          "output_type": "display_data",
          "data": {
            "text/plain": [
              "<Figure size 640x480 with 1 Axes>"
            ],
            "image/png": "[encoded data removed]"
          },
          "metadata": {}
        }
      ]
    },
    {
      "cell_type": "markdown",
      "metadata": {
        "id": "6iBiZeWg7lXd"
      },
      "source": [
        "# Parte 2 - Orientação a Objetos"
      ]
    },
    {
      "cell_type": "code",
      "metadata": {
        "id": "r7NCvQK-7J5c",
        "colab": {
          "base_uri": "https://localhost:8080/",
          "height": 322
        },
        "outputId": "9a71087c-9b3c-4283-cc71-acb2b9e4d91c"
      },
      "source": [
        "YouTubeVideo('TP1aAmGojPg')"
      ],
      "execution_count": 13,
      "outputs": [
        {
          "output_type": "execute_result",
          "data": {
            "text/plain": [
              "<IPython.lib.display.YouTubeVideo at 0x7987380b4b50>"
            ],
            "text/html": [
              "\n",
              "        <iframe\n",
              "            width=\"400\"\n",
              "            height=\"300\"\n",
              "            src=\"https://www.youtube.com/embed/TP1aAmGojPg\"\n",
              "            frameborder=\"0\"\n",
              "            allowfullscreen\n",
              "            \n",
              "        ></iframe>\n",
              "        "
            ],
            "image/jpeg": "[encoded data removed]"
          },
          "metadata": {},
          "execution_count": 13
        }
      ]
    },
    {
      "cell_type": "markdown",
      "metadata": {
        "id": "nKyjsxI-775f"
      },
      "source": [
        "##5\n",
        "\n",
        "Implemente o código das classes `Quadrado` e `Triangulo` como mostrado no vídeo."
      ]
    },
    {
      "cell_type": "code",
      "metadata": {
        "id": "dnmIlMvM77P8",
        "colab": {
          "base_uri": "https://localhost:8080/"
        },
        "outputId": "440ea82c-b628-4540-e292-c4c85cfe727e"
      },
      "source": [
        "class Quadrado:\n",
        "    def __init__(self, lado):\n",
        "        self.lado = lado\n",
        "\n",
        "    def area(self):\n",
        "        return self.lado * self.lado\n",
        "\n",
        "class Triangulo:\n",
        "    def __init__(self, base, altura):\n",
        "        self.base = base\n",
        "        self.altura = altura\n",
        "\n",
        "    def area(self):\n",
        "        return 0.5 * self.base * self.altura\n",
        "\n",
        "# Exemplo de uso da classe Quadrado\n",
        "quadrado = Quadrado(5)\n",
        "area_quadrado = quadrado.area()\n",
        "print(f\"A área do quadrado é: {area_quadrado}\")\n",
        "\n",
        "# Exemplo de uso da classe Triângulo\n",
        "triangulo = Triangulo(4, 3)\n",
        "area_triangulo = triangulo.area()\n",
        "print(f\"A área do triângulo é: {area_triangulo}\")"
      ],
      "execution_count": 17,
      "outputs": [
        {
          "output_type": "stream",
          "name": "stdout",
          "text": [
            "A área do quadrado é: 25\n",
            "A área do triângulo é: 6.0\n"
          ]
        }
      ]
    },
    {
      "cell_type": "code",
      "metadata": {
        "id": "aADwXuQHozDy",
        "colab": {
          "base_uri": "https://localhost:8080/",
          "height": 46
        },
        "outputId": "98d5f731-51cd-4209-cf22-9b74212b3554"
      },
      "source": [
        "ok.check('e01_5.py')"
      ],
      "execution_count": 18,
      "outputs": [
        {
          "output_type": "execute_result",
          "data": {
            "text/plain": [
              "<gofer.ok.OKTestsResult at 0x798709f01540>"
            ],
            "text/html": [
              "\n",
              "    \n",
              "    \n",
              "        <p>All tests passed!</p>\n",
              "    \n",
              "    "
            ]
          },
          "metadata": {},
          "execution_count": 18
        }
      ]
    },
    {
      "cell_type": "markdown",
      "metadata": {
        "id": "zFsVK1rG791c"
      },
      "source": [
        "## 6\n",
        "\n",
        "No mesmo código acrescente também o código da classe `Circulo`, recebendo o parâmetro `raio` no construtor definindo sua propriedade `raio` e método `area()`. Siga o exemplo das classes `Quadrado` e `Triangulo` modificando apenas onde for necessário.\n"
      ]
    },
    {
      "cell_type": "code",
      "metadata": {
        "id": "l8MkwVpv8CT1",
        "colab": {
          "base_uri": "https://localhost:8080/"
        },
        "outputId": "523f8103-40aa-4a4c-ad6b-16531537e31f"
      },
      "source": [
        "import math\n",
        "\n",
        "class Circulo:\n",
        "    def __init__(self, raio):\n",
        "        self.raio = raio\n",
        "\n",
        "    def area(self):\n",
        "        return math.pi * self.raio ** 2\n",
        "\n",
        "# Exemplo de uso da classe Circulo\n",
        "circulo = Circulo(3)\n",
        "area_circulo = circulo.area()\n",
        "print(f\"A área do círculo é: {area_circulo}\")"
      ],
      "execution_count": 19,
      "outputs": [
        {
          "output_type": "stream",
          "name": "stdout",
          "text": [
            "A área do círculo é: 28.274333882308138\n"
          ]
        }
      ]
    },
    {
      "cell_type": "code",
      "metadata": {
        "id": "rWtHNS-4c91w",
        "colab": {
          "base_uri": "https://localhost:8080/",
          "height": 46
        },
        "outputId": "77e30d3a-0697-4f1f-9764-cbc911a771fc"
      },
      "source": [
        "ok.check('e01_6.py')"
      ],
      "execution_count": 20,
      "outputs": [
        {
          "output_type": "execute_result",
          "data": {
            "text/plain": [
              "<gofer.ok.OKTestsResult at 0x79872418dfc0>"
            ],
            "text/html": [
              "\n",
              "    \n",
              "    \n",
              "        <p>All tests passed!</p>\n",
              "    \n",
              "    "
            ]
          },
          "metadata": {},
          "execution_count": 20
        }
      ]
    },
    {
      "cell_type": "markdown",
      "metadata": {
        "id": "EYdTM5Bud3q_"
      },
      "source": [
        "## 7\n",
        "\n",
        "Utilizando as classes acima, crie uma lista com $20$ objetos de cada classe (total de $60$ objetos), todos com propriedades, tais como `lado`, `base`, `altura` e `raio` aleatórias, todas com valores sorteados no intervalo entre `1` e `10`. Para fazer isso, utilize laço `for` (criando $20$ objetos de cada classe) e para criar as propriedades aleatórias use a função `randint(1,10)` do submódulo `random` do `numpy` (por exemplo, use `from numpy.random import randint` no início do código). Coloque todos objetos em uma única lista (não faça uma lista de listas, mas sim uma única lista, que vai sendo preenchida em cada laço com os $60$ objetos). O nome da variável que deve conter essa lista final deve ser `objs`.\n"
      ]
    },
    {
      "cell_type": "code",
      "metadata": {
        "id": "9SxgVRR-fcoK"
      },
      "source": [
        "from numpy.random import randint\n",
        "\n",
        "# Criando uma lista para armazenar os objetos\n",
        "objs = []\n",
        "\n",
        "# Criando 20 objetos da classe Quadrado com lados aleatórios entre 1 e 10\n",
        "for _ in range(20):\n",
        "    lado = randint(1, 11)  # Lado aleatório entre 1 e 10\n",
        "    quadrado = Quadrado(lado)\n",
        "    objs.append(quadrado)\n",
        "\n",
        "# Criando 20 objetos da classe Triangulo com bases e alturas aleatórias entre 1 e 10\n",
        "for _ in range(20):\n",
        "    base = randint(1, 11)  # Base aleatória entre 1 e 10\n",
        "    altura = randint(1, 11)  # Altura aleatória entre 1 e 10\n",
        "    triangulo = Triangulo(base, altura)\n",
        "    objs.append(triangulo)\n",
        "\n",
        "# Criando 20 objetos da classe Circulo com raios aleatórios entre 1 e 10\n",
        "for _ in range(20):\n",
        "    raio = randint(1, 11)  # Raio aleatório entre 1 e 10\n",
        "    circulo = Circulo(raio)\n",
        "    objs.append(circulo)\n",
        "\n",
        "# Agora, objs contém a lista com os 60 objetos"
      ],
      "execution_count": 21,
      "outputs": []
    },
    {
      "cell_type": "code",
      "metadata": {
        "id": "LyFHcLlkgZgt",
        "colab": {
          "base_uri": "https://localhost:8080/",
          "height": 46
        },
        "outputId": "3400d5a6-2d6e-4430-aa2d-a69c0dad4c28"
      },
      "source": [
        "ok.check('e01_7.py')"
      ],
      "execution_count": 22,
      "outputs": [
        {
          "output_type": "execute_result",
          "data": {
            "text/plain": [
              "<gofer.ok.OKTestsResult at 0x798709f52890>"
            ],
            "text/html": [
              "\n",
              "    \n",
              "    \n",
              "        <p>All tests passed!</p>\n",
              "    \n",
              "    "
            ]
          },
          "metadata": {},
          "execution_count": 22
        }
      ]
    },
    {
      "cell_type": "markdown",
      "metadata": {
        "id": "5kCoNfZslgtG"
      },
      "source": [
        "## 8\n",
        "Use a função `shuffle()` para embaralhar a ordem dos elementos na lista. A função `shuffle` também está no submódulo `random` do módulo `numpy`, ou seja, precisa ser importada.\n",
        "\n",
        "Após tudo isso calcule a soma total de todas as áreas desses objetos que estão contidos na lista, e mostre o resultado.\n",
        "\n",
        "Salve a área total numa variável de nome `soma`"
      ]
    },
    {
      "cell_type": "code",
      "metadata": {
        "id": "g6Z3nBPZl88h",
        "colab": {
          "base_uri": "https://localhost:8080/"
        },
        "outputId": "2da5f73b-fb4d-4fb3-8133-2bceb49cbbc9"
      },
      "source": [
        "import numpy as np\n",
        "\n",
        "# Embaralhando a ordem dos elementos na lista objs\n",
        "shuffle(objs)\n",
        "\n",
        "# Usando a função np.sum para calcular a soma total das áreas\n",
        "soma = np.sum([o.area() for o in objs])\n",
        "\n",
        "# Mostrando o resultado\n",
        "print(\"A soma total das áreas dos objetos é:\", soma)"
      ],
      "execution_count": 29,
      "outputs": [
        {
          "output_type": "stream",
          "name": "stdout",
          "text": [
            "A soma total das áreas dos objetos é: 3663.1015351590177\n"
          ]
        }
      ]
    },
    {
      "cell_type": "code",
      "metadata": {
        "id": "SDygbVVOmGZj",
        "colab": {
          "base_uri": "https://localhost:8080/",
          "height": 46
        },
        "outputId": "d4878b51-590c-4234-fb11-df721670d197"
      },
      "source": [
        "ok.check('e01_8.py')"
      ],
      "execution_count": 30,
      "outputs": [
        {
          "output_type": "execute_result",
          "data": {
            "text/plain": [
              "<gofer.ok.OKTestsResult at 0x798709f53760>"
            ],
            "text/html": [
              "\n",
              "    \n",
              "    \n",
              "        <p>All tests passed!</p>\n",
              "    \n",
              "    "
            ]
          },
          "metadata": {},
          "execution_count": 30
        }
      ]
    }
  ]
}