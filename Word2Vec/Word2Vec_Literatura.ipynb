{
  "nbformat": 4,
  "nbformat_minor": 0,
  "metadata": {
    "colab": {
      "provenance": []
    },
    "kernelspec": {
      "name": "python3",
      "display_name": "Python 3"
    }
  },
  "cells": [
    {
      "cell_type": "markdown",
      "metadata": {
        "id": "3jaNTU2-5nwj"
      },
      "source": [
        "# Word2Vec\n",
        "\n",
        "Neste código vamos treinar um modelo Word2Vec para fazer o embedding de palavras presentes em um [corpus de literatura em língua portuguesa](https://www.kaggle.com/rtatman/brazilian-portuguese-literature-corpus).\n",
        "\n",
        "## Baixando os Dados\n",
        "\n",
        "Começamos fazendo o download do corpus."
      ]
    },
    {
      "cell_type": "code",
      "metadata": {
        "id": "ajieeKzwo9S9",
        "colab": {
          "base_uri": "https://localhost:8080/"
        },
        "outputId": "6f183cd4-f646-4f41-decf-d1ac4cc2023f"
      },
      "source": [
        "# O comando abaixo baixa um arquivo disponível no Google Drive\n",
        "\n",
        "!gdown https://drive.google.com/uc?id=1RmtZ6LUWTdDvVrBNzUIVziKlpfZV2veY"
      ],
      "execution_count": null,
      "outputs": [
        {
          "output_type": "stream",
          "name": "stdout",
          "text": [
            "Downloading...\n",
            "From: https://drive.google.com/uc?id=1RmtZ6LUWTdDvVrBNzUIVziKlpfZV2veY\n",
            "To: /content/Brazilian_Portugese_Corpus.zip\n",
            "100% 9.00M/9.00M [00:00<00:00, 59.9MB/s]\n"
          ]
        }
      ]
    },
    {
      "cell_type": "markdown",
      "metadata": {
        "id": "AOKyiTvIGqLd"
      },
      "source": [
        "Em seguida fazemos a descompressão."
      ]
    },
    {
      "cell_type": "code",
      "metadata": {
        "id": "uBEGdjRTpQyB",
        "colab": {
          "base_uri": "https://localhost:8080/"
        },
        "outputId": "2015b725-e739-4810-a87d-83acadc3db62"
      },
      "source": [
        "# Esse comando faz a descompressão do arquivo \"zipado\"\n",
        "\n",
        "!unzip Brazilian_Portugese_Corpus.zip"
      ],
      "execution_count": null,
      "outputs": [
        {
          "output_type": "stream",
          "name": "stdout",
          "text": [
            "Archive:  Brazilian_Portugese_Corpus.zip\n",
            "   creating: Brazilian_Portugese_Corpus/\n",
            "  inflating: __MACOSX/._Brazilian_Portugese_Corpus  \n",
            "  inflating: Brazilian_Portugese_Corpus/Memorias Postumas de Bras Cubas.txt  \n",
            "  inflating: __MACOSX/Brazilian_Portugese_Corpus/._Memorias Postumas de Bras Cubas.txt  \n",
            "  inflating: Brazilian_Portugese_Corpus/O Guarani.txt  \n",
            "  inflating: __MACOSX/Brazilian_Portugese_Corpus/._O Guarani.txt  \n",
            "  inflating: Brazilian_Portugese_Corpus/Demonios.txt  \n",
            "  inflating: __MACOSX/Brazilian_Portugese_Corpus/._Demonios.txt  \n",
            "  inflating: Brazilian_Portugese_Corpus/Memorial de Aires.txt  \n",
            "  inflating: __MACOSX/Brazilian_Portugese_Corpus/._Memorial de Aires.txt  \n",
            "  inflating: Brazilian_Portugese_Corpus/A Moreninha.txt  \n",
            "  inflating: __MACOSX/Brazilian_Portugese_Corpus/._A Moreninha.txt  \n",
            "  inflating: Brazilian_Portugese_Corpus/Mae.txt  \n",
            "  inflating: __MACOSX/Brazilian_Portugese_Corpus/._Mae.txt  \n",
            "  inflating: Brazilian_Portugese_Corpus/Historias da Meia-Noite.txt  \n",
            "  inflating: __MACOSX/Brazilian_Portugese_Corpus/._Historias da Meia-Noite.txt  \n",
            "  inflating: Brazilian_Portugese_Corpus/Historias e Tradicoes da Provincia de Minas Gerais.txt  \n",
            "  inflating: __MACOSX/Brazilian_Portugese_Corpus/._Historias e Tradicoes da Provincia de Minas Gerais.txt  \n",
            "  inflating: Brazilian_Portugese_Corpus/A Escrava Isaura.txt  \n",
            "  inflating: __MACOSX/Brazilian_Portugese_Corpus/._A Escrava Isaura.txt  \n",
            "  inflating: Brazilian_Portugese_Corpus/Ressurreicao.txt  \n",
            "  inflating: __MACOSX/Brazilian_Portugese_Corpus/._Ressurreicao.txt  \n",
            "  inflating: Brazilian_Portugese_Corpus/.DS_Store  \n",
            "  inflating: __MACOSX/Brazilian_Portugese_Corpus/._.DS_Store  \n",
            "  inflating: Brazilian_Portugese_Corpus/Iracema.txt  \n",
            "  inflating: __MACOSX/Brazilian_Portugese_Corpus/._Iracema.txt  \n",
            "  inflating: Brazilian_Portugese_Corpus/A Alma do Lazaro.txt  \n",
            "  inflating: __MACOSX/Brazilian_Portugese_Corpus/._A Alma do Lazaro.txt  \n",
            "  inflating: Brazilian_Portugese_Corpus/Memorias de um Sargento de Milicias.txt  \n",
            "  inflating: __MACOSX/Brazilian_Portugese_Corpus/._Memorias de um Sargento de Milicias.txt  \n",
            "  inflating: Brazilian_Portugese_Corpus/Esau e Jaco.txt  \n",
            "  inflating: __MACOSX/Brazilian_Portugese_Corpus/._Esau e Jaco.txt  \n",
            "  inflating: Brazilian_Portugese_Corpus/O Seminarista.txt  \n",
            "  inflating: __MACOSX/Brazilian_Portugese_Corpus/._O Seminarista.txt  \n",
            "  inflating: Brazilian_Portugese_Corpus/Contos Fluminenses.txt  \n",
            "  inflating: __MACOSX/Brazilian_Portugese_Corpus/._Contos Fluminenses.txt  \n",
            "  inflating: Brazilian_Portugese_Corpus/Casa Velha.txt  \n",
            "  inflating: __MACOSX/Brazilian_Portugese_Corpus/._Casa Velha.txt  \n",
            "  inflating: Brazilian_Portugese_Corpus/O Japao.txt  \n",
            "  inflating: __MACOSX/Brazilian_Portugese_Corpus/._O Japao.txt  \n",
            "  inflating: Brazilian_Portugese_Corpus/Amor e Patria.txt  \n",
            "  inflating: __MACOSX/Brazilian_Portugese_Corpus/._Amor e Patria.txt  \n",
            "  inflating: Brazilian_Portugese_Corpus/A Mao e a Luva.txt  \n",
            "  inflating: __MACOSX/Brazilian_Portugese_Corpus/._A Mao e a Luva.txt  \n",
            "  inflating: Brazilian_Portugese_Corpus/A Condessa Vesper.txt  \n",
            "  inflating: __MACOSX/Brazilian_Portugese_Corpus/._A Condessa Vesper.txt  \n",
            "  inflating: Brazilian_Portugese_Corpus/A Viuvinha.txt  \n",
            "  inflating: __MACOSX/Brazilian_Portugese_Corpus/._A Viuvinha.txt  \n",
            "  inflating: Brazilian_Portugese_Corpus/O Moco Loiro.txt  \n",
            "  inflating: __MACOSX/Brazilian_Portugese_Corpus/._O Moco Loiro.txt  \n",
            "  inflating: Brazilian_Portugese_Corpus/Til.txt  \n",
            "  inflating: __MACOSX/Brazilian_Portugese_Corpus/._Til.txt  \n",
            "  inflating: Brazilian_Portugese_Corpus/Helena.txt  \n",
            "  inflating: __MACOSX/Brazilian_Portugese_Corpus/._Helena.txt  \n",
            "  inflating: Brazilian_Portugese_Corpus/A Pata da Gazela.txt  \n",
            "  inflating: __MACOSX/Brazilian_Portugese_Corpus/._A Pata da Gazela.txt  \n",
            "  inflating: Brazilian_Portugese_Corpus/A Mortalha de Alzira.txt  \n",
            "  inflating: __MACOSX/Brazilian_Portugese_Corpus/._A Mortalha de Alzira.txt  \n",
            "  inflating: Brazilian_Portugese_Corpus/O Garatuja.txt  \n",
            "  inflating: __MACOSX/Brazilian_Portugese_Corpus/._O Garatuja.txt  \n",
            "  inflating: Brazilian_Portugese_Corpus/Ao Correr da Pena.txt  \n",
            "  inflating: __MACOSX/Brazilian_Portugese_Corpus/._Ao Correr da Pena.txt  \n",
            "  inflating: Brazilian_Portugese_Corpus/Paginas Recolhidas.txt  \n",
            "  inflating: __MACOSX/Brazilian_Portugese_Corpus/._Paginas Recolhidas.txt  \n",
            "  inflating: Brazilian_Portugese_Corpus/O Livro de uma Sogra.txt  \n",
            "  inflating: __MACOSX/Brazilian_Portugese_Corpus/._O Livro de uma Sogra.txt  \n",
            "  inflating: Brazilian_Portugese_Corpus/O Cortico.txt  \n",
            "  inflating: __MACOSX/Brazilian_Portugese_Corpus/._O Cortico.txt  \n",
            "  inflating: Brazilian_Portugese_Corpus/Reliquias de Casa Velha.txt  \n",
            "  inflating: __MACOSX/Brazilian_Portugese_Corpus/._Reliquias de Casa Velha.txt  \n",
            "  inflating: Brazilian_Portugese_Corpus/Girandola de amores.txt  \n",
            "  inflating: __MACOSX/Brazilian_Portugese_Corpus/._Girandola de amores.txt  \n",
            "  inflating: Brazilian_Portugese_Corpus/Luciola.txt  \n",
            "  inflating: __MACOSX/Brazilian_Portugese_Corpus/._Luciola.txt  \n",
            "  inflating: Brazilian_Portugese_Corpus/Antonica da Silva.txt  \n",
            "  inflating: __MACOSX/Brazilian_Portugese_Corpus/._Antonica da Silva.txt  \n",
            "  inflating: Brazilian_Portugese_Corpus/Sonhos Doro.txt  \n",
            "  inflating: __MACOSX/Brazilian_Portugese_Corpus/._Sonhos Doro.txt  \n",
            "  inflating: Brazilian_Portugese_Corpus/Encarnacao.txt  \n",
            "  inflating: __MACOSX/Brazilian_Portugese_Corpus/._Encarnacao.txt  \n",
            "  inflating: Brazilian_Portugese_Corpus/Mattos Malta ou Matta.txt  \n",
            "  inflating: __MACOSX/Brazilian_Portugese_Corpus/._Mattos Malta ou Matta.txt  \n",
            "  inflating: Brazilian_Portugese_Corpus/Varias Historias.txt  \n",
            "  inflating: __MACOSX/Brazilian_Portugese_Corpus/._Varias Historias.txt  \n",
            "  inflating: Brazilian_Portugese_Corpus/Os Dois Amores.txt  \n",
            "  inflating: __MACOSX/Brazilian_Portugese_Corpus/._Os Dois Amores.txt  \n",
            "  inflating: Brazilian_Portugese_Corpus/O Sertanejo.txt  \n",
            "  inflating: __MACOSX/Brazilian_Portugese_Corpus/._O Sertanejo.txt  \n",
            "  inflating: Brazilian_Portugese_Corpus/Luneta Magica.txt  \n",
            "  inflating: __MACOSX/Brazilian_Portugese_Corpus/._Luneta Magica.txt  \n",
            "  inflating: Brazilian_Portugese_Corpus/O Ermitao de Muquem.txt  \n",
            "  inflating: __MACOSX/Brazilian_Portugese_Corpus/._O Ermitao de Muquem.txt  \n",
            "  inflating: Brazilian_Portugese_Corpus/O que e o casamento.txt  \n",
            "  inflating: __MACOSX/Brazilian_Portugese_Corpus/._O que e o casamento.txt  \n",
            "  inflating: Brazilian_Portugese_Corpus/Bom Crioulo.txt  \n",
            "  inflating: __MACOSX/Brazilian_Portugese_Corpus/._Bom Crioulo.txt  \n",
            "  inflating: Brazilian_Portugese_Corpus/Memorias da Rua do Ouvidor.txt  \n",
            "  inflating: __MACOSX/Brazilian_Portugese_Corpus/._Memorias da Rua do Ouvidor.txt  \n",
            "  inflating: Brazilian_Portugese_Corpus/Os Romances da Semana.txt  \n",
            "  inflating: __MACOSX/Brazilian_Portugese_Corpus/._Os Romances da Semana.txt  \n",
            "  inflating: Brazilian_Portugese_Corpus/O Rio de Janeiro Verso e Reverso.txt  \n",
            "  inflating: __MACOSX/Brazilian_Portugese_Corpus/._O Rio de Janeiro Verso e Reverso.txt  \n",
            "  inflating: Brazilian_Portugese_Corpus/Remissao de Pecados.txt  \n",
            "  inflating: __MACOSX/Brazilian_Portugese_Corpus/._Remissao de Pecados.txt  \n",
            "  inflating: Brazilian_Portugese_Corpus/As Vitima-Algozes.txt  \n",
            "  inflating: __MACOSX/Brazilian_Portugese_Corpus/._As Vitima-Algozes.txt  \n",
            "  inflating: Brazilian_Portugese_Corpus/Romance de uma Velha.txt  \n",
            "  inflating: __MACOSX/Brazilian_Portugese_Corpus/._Romance de uma Velha.txt  \n",
            "  inflating: Brazilian_Portugese_Corpus/Quincas Borba.txt  \n",
            "  inflating: __MACOSX/Brazilian_Portugese_Corpus/._Quincas Borba.txt  \n",
            "  inflating: Brazilian_Portugese_Corpus/Historias Sem Data.txt  \n",
            "  inflating: __MACOSX/Brazilian_Portugese_Corpus/._Historias Sem Data.txt  \n",
            "  inflating: Brazilian_Portugese_Corpus/O Garimpeiro.txt  \n",
            "  inflating: __MACOSX/Brazilian_Portugese_Corpus/._O Garimpeiro.txt  \n",
            "  inflating: Brazilian_Portugese_Corpus/Ubirajara.txt  \n",
            "  inflating: __MACOSX/Brazilian_Portugese_Corpus/._Ubirajara.txt  \n",
            "  inflating: Brazilian_Portugese_Corpus/Tentacao.txt  \n",
            "  inflating: __MACOSX/Brazilian_Portugese_Corpus/._Tentacao.txt  \n",
            "  inflating: Brazilian_Portugese_Corpus/As Mulheres de Mantilha.txt  \n",
            "  inflating: __MACOSX/Brazilian_Portugese_Corpus/._As Mulheres de Mantilha.txt  \n",
            "  inflating: Brazilian_Portugese_Corpus/Senhora.txt  \n",
            "  inflating: __MACOSX/Brazilian_Portugese_Corpus/._Senhora.txt  \n",
            "  inflating: Brazilian_Portugese_Corpus/Uma Lagrima de Mulher.txt  \n",
            "  inflating: __MACOSX/Brazilian_Portugese_Corpus/._Uma Lagrima de Mulher.txt  \n",
            "  inflating: Brazilian_Portugese_Corpus/Uma Pupila Rica.txt  \n",
            "  inflating: __MACOSX/Brazilian_Portugese_Corpus/._Uma Pupila Rica.txt  \n",
            "  inflating: Brazilian_Portugese_Corpus/O Touro Negro.txt  \n",
            "  inflating: __MACOSX/Brazilian_Portugese_Corpus/._O Touro Negro.txt  \n",
            "  inflating: Brazilian_Portugese_Corpus/Filomena Borges.txt  \n",
            "  inflating: __MACOSX/Brazilian_Portugese_Corpus/._Filomena Borges.txt  \n",
            "  inflating: Brazilian_Portugese_Corpus/As Minas de Prata.txt  \n",
            "  inflating: __MACOSX/Brazilian_Portugese_Corpus/._As Minas de Prata.txt  \n",
            "  inflating: Brazilian_Portugese_Corpus/O Homem.txt  \n",
            "  inflating: __MACOSX/Brazilian_Portugese_Corpus/._O Homem.txt  \n",
            "  inflating: Brazilian_Portugese_Corpus/Alfarrabios_O Ermitao da Gloria.txt  \n",
            "  inflating: __MACOSX/Brazilian_Portugese_Corpus/._Alfarrabios_O Ermitao da Gloria.txt  \n",
            "  inflating: Brazilian_Portugese_Corpus/O Gaucho.txt  \n",
            "  inflating: __MACOSX/Brazilian_Portugese_Corpus/._O Gaucho.txt  \n",
            "  inflating: Brazilian_Portugese_Corpus/Dom Casmurro.txt  \n",
            "  inflating: __MACOSX/Brazilian_Portugese_Corpus/._Dom Casmurro.txt  \n",
            "  inflating: Brazilian_Portugese_Corpus/O Demonio Familiar.txt  \n",
            "  inflating: __MACOSX/Brazilian_Portugese_Corpus/._O Demonio Familiar.txt  \n",
            "  inflating: Brazilian_Portugese_Corpus/O Mulato.txt  \n",
            "  inflating: __MACOSX/Brazilian_Portugese_Corpus/._O Mulato.txt  \n",
            "  inflating: Brazilian_Portugese_Corpus/Casa de pensao.txt  \n",
            "  inflating: __MACOSX/Brazilian_Portugese_Corpus/._Casa de pensao.txt  \n",
            "  inflating: Brazilian_Portugese_Corpus/A Normalista.txt  \n",
            "  inflating: __MACOSX/Brazilian_Portugese_Corpus/._A Normalista.txt  \n",
            "  inflating: Brazilian_Portugese_Corpus/O Primo da California.txt  \n",
            "  inflating: __MACOSX/Brazilian_Portugese_Corpus/._O Primo da California.txt  \n",
            "  inflating: Brazilian_Portugese_Corpus/O Esqueleto.txt  \n",
            "  inflating: __MACOSX/Brazilian_Portugese_Corpus/._O Esqueleto.txt  \n",
            "  inflating: Brazilian_Portugese_Corpus/No pais dos ianques.txt  \n",
            "  inflating: __MACOSX/Brazilian_Portugese_Corpus/._No pais dos ianques.txt  \n",
            "  inflating: Brazilian_Portugese_Corpus/Diva.txt  \n",
            "  inflating: __MACOSX/Brazilian_Portugese_Corpus/._Diva.txt  \n",
            "  inflating: Brazilian_Portugese_Corpus/Cinco Minutos.txt  \n",
            "  inflating: __MACOSX/Brazilian_Portugese_Corpus/._Cinco Minutos.txt  \n",
            "  inflating: Brazilian_Portugese_Corpus/A Danca dos Ossos.txt  \n",
            "  inflating: __MACOSX/Brazilian_Portugese_Corpus/._A Danca dos Ossos.txt  \n",
            "  inflating: Brazilian_Portugese_Corpus/Papeis Avulsos.txt  \n",
            "  inflating: __MACOSX/Brazilian_Portugese_Corpus/._Papeis Avulsos.txt  \n",
            "  inflating: Brazilian_Portugese_Corpus/Iaia Garcia.txt  \n",
            "  inflating: __MACOSX/Brazilian_Portugese_Corpus/._Iaia Garcia.txt  \n",
            "  inflating: Brazilian_Portugese_Corpus/Luxo e Vaidade.txt  \n",
            "  inflating: __MACOSX/Brazilian_Portugese_Corpus/._Luxo e Vaidade.txt  \n"
          ]
        }
      ]
    },
    {
      "cell_type": "markdown",
      "metadata": {
        "id": "aPhlYJwbHKcT"
      },
      "source": [
        "## Leitura dos Dados\n",
        "\n",
        "Agora nas linhas abaixo fazemos a leitura do texto nos arquivos do corpus, criando uma grande lista de palavras."
      ]
    },
    {
      "cell_type": "code",
      "metadata": {
        "id": "IH79D8sSpc03"
      },
      "source": [
        "# Esse módulo serve para facilitar listar as pastas\n",
        "# e arquivos\n",
        "\n",
        "import glob"
      ],
      "execution_count": null,
      "outputs": []
    },
    {
      "cell_type": "code",
      "metadata": {
        "id": "-R4G6IorwKfX"
      },
      "source": [
        "# O código abaixo serve para suprimir alguns warnings.\n",
        "# Tome cuidado ao suprimir warnings. Só faça isso se\n",
        "# tiver certeza do quê está fazendo. Neste caso, como\n",
        "# o objetivo do código é ser didático e o warning foi\n",
        "# verificado e não influencia no funcionamento do código,\n",
        "# decidi suprimir para manter as saídas enxutas, com\n",
        "# menos distrações.\n",
        "\n",
        "import warnings\n",
        "warnings.filterwarnings(\"ignore\")"
      ],
      "execution_count": null,
      "outputs": []
    },
    {
      "cell_type": "code",
      "metadata": {
        "id": "hzRROA-JphXH"
      },
      "source": [
        "# Aqui usamos a função glob do módulo de mesmo nome para\n",
        "# listar todos os arquivos terminados com '.txt' dentro\n",
        "# da pasta 'Brazilian_Portugese_Corpus', que foi a pasta\n",
        "# gerada ao expandir os arquivos contidos no zip. Ao final\n",
        "# desse comando, em filenames teremos uma lista de strings,\n",
        "# onde cada string é o caminho completo para cada um\n",
        "# dos arquivos da pasta que atendem o critério de ter\n",
        "# extensão '.txt'.\n",
        "\n",
        "filenames = glob.glob('Brazilian_Portugese_Corpus/*.txt')"
      ],
      "execution_count": null,
      "outputs": []
    },
    {
      "cell_type": "code",
      "metadata": {
        "id": "XD6_EuNGv4gM"
      },
      "source": [
        "# O módulo gensim é onde se encontram as ferramentas para\n",
        "# preparação dos dados e treinamento de modelos word2vec,\n",
        "# além de muitas outras ferramentas para diversos outros\n",
        "# algoritmos e modelos ligados ao processamento de textos\n",
        "# em linguagem natural\n",
        "\n",
        "import gensim"
      ],
      "execution_count": null,
      "outputs": []
    },
    {
      "cell_type": "code",
      "metadata": {
        "id": "FUQar24-prjH"
      },
      "source": [
        "# Aqui faremos a leitura de todos os textos de todos os\n",
        "# arquivos, coletando cada palavra em uma gigante lista\n",
        "# de strings.\n",
        "\n",
        "# A lista de palavras será armazenada na variável abaixo\n",
        "data = []\n",
        "\n",
        "# Neste laço, vamos percorrendo os nomes de arquivos (que\n",
        "# foram originalmente colhidos pela função glob()). Aqui\n",
        "# vale lembrar que cada string é o caminho completo,\n",
        "# incluindo pasta, barra invertida e nome do arquivo,\n",
        "# no estilo 'pasta/nome.txt'.\n",
        "for filename in filenames:\n",
        "  # Aqui abrimos o arquivo para leitura usando o\n",
        "  # encoding que interpreta corretamente a acentuação.\n",
        "  # Esse encoding 'lating-1' foi testado antes.\n",
        "  # Para saber mais, vale a pena pesquisar um pouco\n",
        "  # sobre como funcionam os diferentes encodings.\n",
        "  # Como não é o foco desse projeto, aqui só vamos\n",
        "  # mencionar que o encoding define como símbolos\n",
        "  # símbolos especiais (em particular, caracteres\n",
        "  # de acentuação nesse caso) são representados\n",
        "  # (codificados) nos bytes do arquivo.\n",
        "  file = open(filename, 'r', encoding='latin-1')\n",
        "\n",
        "  # Aqui a variável lines será uma lista com todas\n",
        "  # as strings que representam todas as linhas do\n",
        "  # arquivo (faremos isso para cada arquivo, um a um,\n",
        "  # dentro do laço). Cada elemento da lista é uma\n",
        "  # string com toda sequência de palavras, incluindo\n",
        "  # pontuação, espaços e terminada no caracter especial\n",
        "  # '\\n' que representa uma nova linha.\n",
        "  lines = file.readlines()\n",
        "\n",
        "  # Neste outro laço interno, processamos linha a linha\n",
        "  # usando gensim.utils.simple_preprocess(). Essa função\n",
        "  # remove caracteres especiais, remove acentuação e coloca\n",
        "  # todos caracteres em letra minúscula. A função retorna\n",
        "  # uma lista de strings, onde cada string é uma palavra\n",
        "  # sem nenhum caractere especial. Essas palavras são então,\n",
        "  # finalmente, adicionadas à lista data que é onde teremos\n",
        "  # todas palavras de todas obras listerárias que foram\n",
        "  # processadas, de nosso corpus.\n",
        "  for line in lines:\n",
        "    data.append(gensim.utils.simple_preprocess(line))"
      ],
      "execution_count": null,
      "outputs": []
    },
    {
      "cell_type": "code",
      "metadata": {
        "id": "8PofJwNNwB9P",
        "colab": {
          "base_uri": "https://localhost:8080/"
        },
        "outputId": "dffe1e54-30b0-4eb3-be4f-22f74047c18b"
      },
      "source": [
        "# Aqui podemos verificar o número total de palavras lidas.\n",
        "\n",
        "len(data)"
      ],
      "execution_count": null,
      "outputs": [
        {
          "output_type": "execute_result",
          "data": {
            "text/plain": [
              "435914"
            ]
          },
          "metadata": {},
          "execution_count": 8
        }
      ]
    },
    {
      "cell_type": "markdown",
      "metadata": {
        "id": "02dkKpe6izks"
      },
      "source": [
        "## Treinamento do Modelo Word2Vec\n",
        "\n",
        "No código abaixo fazemos o treinamento do modelo Word2Vec, usando toda facilidade oferecida pelo gensim."
      ]
    },
    {
      "cell_type": "code",
      "metadata": {
        "id": "Px9_yE8EwOUz"
      },
      "source": [
        "# Neste único comando abaixo fazemos o treinamento do\n",
        "# modelo word2vec. O principal parâmetro (único parâmetro\n",
        "# obrigatório) é a lista de palavras. Essa é a lista que\n",
        "# entrega a sequência de palavras na ordem que aparecem\n",
        "# nos textos originais, palavra após palavra, linha após\n",
        "# linha, reproduzindo de forma fiel a série de palavras\n",
        "# de cada um dos textos do corpus, um a um.\n",
        "\n",
        "# Os parâmetros opcionais são:\n",
        "#   - size: tamanho do vetor de embedding gerado\n",
        "#   - window: tamanho da vizinhança de palavras\n",
        "#             antes e após cada palavra central,\n",
        "#             para o treinamento do embedding.\n",
        "#   - min_count: número mínimo de vezes que uma\n",
        "#                palavra deve aparecer no vocabulário,\n",
        "#                para que esta palavra seja incluída\n",
        "#                no embedding. Geralmente se eliminam\n",
        "#                palavras muito raras, já que a baixa\n",
        "#                frequência de uso do termo no corpus\n",
        "#                não permite oferecer quantidade suficiente\n",
        "#                de dados para assim estimar com qualidade\n",
        "#                o contexto de uso daquela palavra.\n",
        "#   - workers: quantidade de threads separados para\n",
        "#              processamento paralelo do treinamento,\n",
        "#              permitindo um treinamento mais rápido\n",
        "#              em máquinas que possuem múltiplos cores.\n",
        "#   - iter: quantas vezes o algoritmo de treinamento\n",
        "#           irá repetir passando por todo o corpus e\n",
        "#           ajustando os pesos, para fazer um ajuste\n",
        "#           mais fino (mas quanto mais iterações, mais\n",
        "#           demora o treinamento também)\n",
        "\n",
        "# O código abaixo na realidade é um construtor que\n",
        "# roda o treinamento do word2vec e já retorna o objeto\n",
        "# que representa o modelo treinado.\n",
        "\n",
        "model = gensim.models.Word2Vec(data, \\\n",
        "                               vector_size=50, \\\n",
        "                               window=5, \\\n",
        "                               min_count=15, \\\n",
        "                               workers=10, \\\n",
        "                               epochs=10)"
      ],
      "execution_count": null,
      "outputs": []
    },
    {
      "cell_type": "markdown",
      "metadata": {
        "id": "evTi_ZF4kxpJ"
      },
      "source": [
        "## Examinando e Usando o Resultado\n",
        "\n",
        "Aqui mostramos como explorar e como usar o modelo treinado para fazer algumas consultas de palavras semelhantes ou analogias."
      ]
    },
    {
      "cell_type": "code",
      "metadata": {
        "id": "xmJSh2ePxgns",
        "colab": {
          "base_uri": "https://localhost:8080/"
        },
        "outputId": "bcbfb268-8816-4eec-bb05-31c309731623"
      },
      "source": [
        "# Aqui podemos verificar quantas palavras ao todo\n",
        "# foram incluídas ao vocabulário do embedding,\n",
        "# após descartar palavras de baixa frequência.\n",
        "# Esse é o total de termos únicos (cada termo\n",
        "# conta apenas uma vez, independente do número\n",
        "# de vezes que apareceu em cada obra do corpus)\n",
        "\n",
        "print(len(model.wv.key_to_index))"
      ],
      "execution_count": null,
      "outputs": [
        {
          "output_type": "stream",
          "name": "stdout",
          "text": [
            "14957\n"
          ]
        }
      ]
    },
    {
      "cell_type": "code",
      "metadata": {
        "id": "ML_24VNMxmrH",
        "colab": {
          "base_uri": "https://localhost:8080/"
        },
        "outputId": "ee109c5a-41f8-4bd9-8695-71b5e620a6ac"
      },
      "source": [
        "# O código abaixo mostra como pode-se ter um\n",
        "# acesso mais 'cru' às strings que representam\n",
        "# cada uma das palavras do vocabulário do modelo.\n",
        "\n",
        "print(model.wv.index_to_key[1000:1010])"
      ],
      "execution_count": null,
      "outputs": [
        {
          "output_type": "stream",
          "name": "stdout",
          "text": [
            "['soube', 'primo', 'prova', 'tomando', 'amores', 'vingança', 'contudo', 'índio', 'tantos', 'chamava']\n"
          ]
        }
      ]
    },
    {
      "cell_type": "code",
      "metadata": {
        "id": "WScyynFnxsfY",
        "colab": {
          "base_uri": "https://localhost:8080/"
        },
        "outputId": "9bbbd46c-7fb7-442e-e715-cc7ec67f0a66"
      },
      "source": [
        "# O méotodo most_similar() usa distância de cossenos\n",
        "# para retornar as palavras mais próximas à palavra\n",
        "# passada no argumento, considerando os embeddings\n",
        "# dessa palavra e os embeddings das demais palavras.\n",
        "# Aqui listamos as 10 palavras mais próximas.\n",
        "\n",
        "model.wv.most_similar(positive='eu')"
      ],
      "execution_count": null,
      "outputs": [
        {
          "output_type": "execute_result",
          "data": {
            "text/plain": [
              "[('agora', 0.7325819730758667),\n",
              " ('não', 0.7096932530403137),\n",
              " ('confesso', 0.6785415410995483),\n",
              " ('sª', 0.6670977473258972),\n",
              " ('juro', 0.6423553228378296),\n",
              " ('repito', 0.6403916478157043),\n",
              " ('já', 0.6222023963928223),\n",
              " ('sim', 0.6191886067390442),\n",
              " ('confessar', 0.617072582244873),\n",
              " ('mentir', 0.616661012172699)]"
            ]
          },
          "metadata": {},
          "execution_count": 14
        }
      ]
    },
    {
      "cell_type": "code",
      "metadata": {
        "id": "mhmmJbplxvLQ",
        "colab": {
          "base_uri": "https://localhost:8080/"
        },
        "outputId": "1dafce75-ac6d-4d1a-e361-9a70ef71e19e"
      },
      "source": [
        "# Mesmo para outra palavra\n",
        "\n",
        "model.wv.most_similar(positive='ônibus')"
      ],
      "execution_count": null,
      "outputs": [
        {
          "output_type": "execute_result",
          "data": {
            "text/plain": [
              "[('beco', 0.788139283657074),\n",
              " ('bonde', 0.7857646942138672),\n",
              " ('escaler', 0.7714866995811462),\n",
              " ('cemitério', 0.765675961971283),\n",
              " ('rancho', 0.749541699886322),\n",
              " ('terraço', 0.7469218373298645),\n",
              " ('ginásio', 0.7456062436103821),\n",
              " ('saguão', 0.7364926934242249),\n",
              " ('arraial', 0.7290038466453552),\n",
              " ('cais', 0.7260913252830505)]"
            ]
          },
          "metadata": {},
          "execution_count": 15
        }
      ]
    },
    {
      "cell_type": "code",
      "metadata": {
        "id": "kU8LTsL4x3y8",
        "colab": {
          "base_uri": "https://localhost:8080/"
        },
        "outputId": "95e8536f-392e-420d-f8a5-b0a14e142281"
      },
      "source": [
        "# Novamente, para mais outra palavra\n",
        "\n",
        "model.wv.most_similar(positive='vinho')"
      ],
      "execution_count": null,
      "outputs": [
        {
          "output_type": "execute_result",
          "data": {
            "text/plain": [
              "[('pão', 0.825002908706665),\n",
              " ('queijo', 0.7769240140914917),\n",
              " ('aguardente', 0.7736008167266846),\n",
              " ('cerveja', 0.7550274729728699),\n",
              " ('copo', 0.7461820840835571),\n",
              " ('açúcar', 0.7391736507415771),\n",
              " ('gole', 0.734620213508606),\n",
              " ('parati', 0.7339085936546326),\n",
              " ('champanha', 0.7208474278450012),\n",
              " ('assado', 0.7186951637268066)]"
            ]
          },
          "metadata": {},
          "execution_count": 16
        }
      ]
    },
    {
      "cell_type": "code",
      "metadata": {
        "id": "kPaOBcSc1bSZ",
        "colab": {
          "base_uri": "https://localhost:8080/"
        },
        "outputId": "da9598ee-91e4-4dcb-c02a-4c4e43dd8f24"
      },
      "source": [
        "# Esse código retorna a distância de\n",
        "# cossenos entre duas palavras passadas\n",
        "# como parâmetro.\n",
        "\n",
        "model.wv.similarity('água','vinho')"
      ],
      "execution_count": null,
      "outputs": [
        {
          "output_type": "execute_result",
          "data": {
            "text/plain": [
              "0.5518884"
            ]
          },
          "metadata": {},
          "execution_count": 17
        }
      ]
    },
    {
      "cell_type": "code",
      "metadata": {
        "id": "94mRoHZI2G5R",
        "colab": {
          "base_uri": "https://localhost:8080/"
        },
        "outputId": "b1b35cf1-cf4d-4125-a19c-2c463a278e31"
      },
      "source": [
        "# Mesmo exemplo para outro par de palavras.\n",
        "\n",
        "model.wv.similarity('cerveja','vinho')"
      ],
      "execution_count": null,
      "outputs": [
        {
          "output_type": "execute_result",
          "data": {
            "text/plain": [
              "0.75502735"
            ]
          },
          "metadata": {},
          "execution_count": 18
        }
      ]
    },
    {
      "cell_type": "code",
      "metadata": {
        "id": "jUNPDt892QXs",
        "colab": {
          "base_uri": "https://localhost:8080/"
        },
        "outputId": "232f8d1b-aa71-46bc-a62f-a6d97968c848"
      },
      "source": [
        "# Aqui fazemos uma  consulta um pouco mais interessante.\n",
        "# Neste caso usamos novamente a função most_similar(),\n",
        "# Mas neste caso colocamos alguns vetores positivos e outro\n",
        "# negativo. Isso faz com que a combinação vetorial seja\n",
        "# calculada, somando os vetores de embedding das palavras\n",
        "# listadas como positive e subtraindo o vetor de embedding\n",
        "# das palavras listada como negativas. Isso permite perguntar\n",
        "# analogias no estilo:\n",
        "#      A está para B assim como o quê está para C?\n",
        "\n",
        "# Por exemplo, da palavra noivo, subtraimos homem e adicionamos\n",
        "# mulher, encontrando a palavra mais semelhante naquela região,\n",
        "# que é noiva.\n",
        "\n",
        "model.wv.most_similar(positive=['noivo','mulher'],negative=['homem'])"
      ],
      "execution_count": null,
      "outputs": [
        {
          "output_type": "execute_result",
          "data": {
            "text/plain": [
              "[('irmã', 0.6995465755462646),\n",
              " ('noiva', 0.6793529391288757),\n",
              " ('esposa', 0.6630049347877502),\n",
              " ('filha', 0.6153792142868042),\n",
              " ('amiga', 0.6107313632965088),\n",
              " ('sobrinha', 0.6054960489273071),\n",
              " ('menina', 0.6030551791191101),\n",
              " ('moça', 0.5877891182899475),\n",
              " ('órfã', 0.5875165462493896),\n",
              " ('marido', 0.5842547416687012)]"
            ]
          },
          "metadata": {},
          "execution_count": 19
        }
      ]
    },
    {
      "cell_type": "code",
      "metadata": {
        "id": "NjIuUeeE2jbE",
        "colab": {
          "base_uri": "https://localhost:8080/"
        },
        "outputId": "cd70ecdd-9126-4f8a-9721-12a24bfbceea"
      },
      "source": [
        "# Aqui partimos da palavra fome, subtraindo comida\n",
        "# e adicionando bebida, encontrando o vocábulo mais\n",
        "# próximo como sede.\n",
        "\n",
        "model.wv.most_similar(positive=['fome','bebida'],negative=['comida'])"
      ],
      "execution_count": null,
      "outputs": [
        {
          "output_type": "execute_result",
          "data": {
            "text/plain": [
              "[('fatalmente', 0.6764169335365295),\n",
              " ('cometido', 0.6323184370994568),\n",
              " ('merecido', 0.6276087164878845),\n",
              " ('presunção', 0.6133427023887634),\n",
              " ('sede', 0.6123523712158203),\n",
              " ('opressão', 0.6015538573265076),\n",
              " ('provado', 0.5892648696899414),\n",
              " ('historia', 0.5853191614151001),\n",
              " ('mania', 0.5730797052383423),\n",
              " ('condenado', 0.5630033612251282)]"
            ]
          },
          "metadata": {},
          "execution_count": 20
        }
      ]
    },
    {
      "cell_type": "code",
      "metadata": {
        "id": "RvnI5Eeb4F64",
        "colab": {
          "base_uri": "https://localhost:8080/"
        },
        "outputId": "a1f74798-1b3a-4a5c-a41d-c6f524e49211"
      },
      "source": [
        "# Aqui mais alguns testes aleatórios\n",
        "\n",
        "model.wv.most_similar(positive='pão')"
      ],
      "execution_count": null,
      "outputs": [
        {
          "output_type": "execute_result",
          "data": {
            "text/plain": [
              "[('vinho', 0.8250029683113098),\n",
              " ('queijo', 0.7394397258758545),\n",
              " ('pedaço', 0.7280658483505249),\n",
              " ('açúcar', 0.6979299783706665),\n",
              " ('prata', 0.6974899768829346),\n",
              " ('cerveja', 0.6950749754905701),\n",
              " ('assado', 0.6822541952133179),\n",
              " ('bocado', 0.6798545122146606),\n",
              " ('feijão', 0.6786535978317261),\n",
              " ('farinha', 0.6733737587928772)]"
            ]
          },
          "metadata": {},
          "execution_count": 21
        }
      ]
    },
    {
      "cell_type": "markdown",
      "metadata": {
        "id": "BUNpBn3lnUXG"
      },
      "source": [
        "## Plotando o Espaço de Embeddings\n",
        "\n",
        "Infelizmente, como o embedding gerado possui 50 dimensões, fica extremamente complicado visualizar\n",
        "as distâncias entre cada entidade.\n",
        "\n",
        "No código abaixo mostro como projetar o embedding em um espaço de apenas duas dimensões, para assim visualizar um pouco da distribuição dos vocábulos. Ainda assim, esse tipo de representação não mostra corretamente\n",
        "a distância entre todos vocábulos, já que mesmo palavras\n",
        "que aparecem distantes no gráfico 2D, podem estar muito\n",
        "próximas no espaço 50D."
      ]
    },
    {
      "cell_type": "code",
      "metadata": {
        "id": "hWp4tIA53nlX"
      },
      "source": [
        "from sklearn.manifold import TSNE\n",
        "import matplotlib.pyplot as plt\n",
        "import matplotlib as mpl\n",
        "mpl.rcParams['figure.dpi'] = 100\n",
        "mpl.rcParams[\"figure.figsize\"] = [12, 9]"
      ],
      "execution_count": null,
      "outputs": []
    },
    {
      "cell_type": "code",
      "metadata": {
        "id": "ZH5vPsFa5uUr"
      },
      "source": [
        "import pandas as pd"
      ],
      "execution_count": null,
      "outputs": []
    },
    {
      "cell_type": "code",
      "metadata": {
        "id": "ZksEiJeX3rDa"
      },
      "source": [
        "vocab = list(model.wv.key_to_index.keys())\n",
        "X = model.wv[vocab]\n",
        "tsne = TSNE(n_components=2)\n",
        "X_tsne = tsne.fit_transform(X)\n",
        "df = pd.DataFrame(X_tsne, index=vocab, columns=['x', 'y'])"
      ],
      "execution_count": null,
      "outputs": []
    },
    {
      "cell_type": "code",
      "metadata": {
        "id": "4DzRCeF64940",
        "colab": {
          "base_uri": "https://localhost:8080/",
          "height": 676
        },
        "outputId": "5de7981a-5e03-4271-e08f-1d35cf38ac6a"
      },
      "source": [
        "df[:20]"
      ],
      "execution_count": null,
      "outputs": [
        {
          "output_type": "execute_result",
          "data": {
            "text/plain": [
              "              x          y\n",
              "de    42.867359  14.775705\n",
              "que   46.470234 -36.291031\n",
              "se    16.002491 -30.117569\n",
              "não   44.409599 -37.194649\n",
              "do     4.890448 -41.031944\n",
              "um     3.594056 -41.418861\n",
              "da   -24.917736 -37.411480\n",
              "com   -0.738965  27.355171\n",
              "os   -12.705447  51.996811\n",
              "uma  -23.789860 -36.862190\n",
              "em     1.137075  -1.031746\n",
              "para  45.019440  26.824844\n",
              "lhe   37.363117 -46.726315\n",
              "as   -27.149071  55.023418\n",
              "me    58.586948   2.397596\n",
              "por   30.451759   5.024559\n",
              "no     6.230160 -42.434887\n",
              "ao     5.345692 -39.814617\n",
              "mas   46.700657 -35.586803\n",
              "como  46.533478 -36.446159"
            ],
            "text/html": [
              "\n",
              "  <div id=\"df-7ec01033-fed9-40dc-9bb7-db21cf1ab63c\" class=\"colab-df-container\">\n",
              "    <div>\n",
              "<style scoped>\n",
              "    .dataframe tbody tr th:only-of-type {\n",
              "        vertical-align: middle;\n",
              "    }\n",
              "\n",
              "    .dataframe tbody tr th {\n",
              "        vertical-align: top;\n",
              "    }\n",
              "\n",
              "    .dataframe thead th {\n",
              "        text-align: right;\n",
              "    }\n",
              "</style>\n",
              "<table border=\"1\" class=\"dataframe\">\n",
              "  <thead>\n",
              "    <tr style=\"text-align: right;\">\n",
              "      <th></th>\n",
              "      <th>x</th>\n",
              "      <th>y</th>\n",
              "    </tr>\n",
              "  </thead>\n",
              "  <tbody>\n",
              "    <tr>\n",
              "      <th>de</th>\n",
              "      <td>42.867359</td>\n",
              "      <td>14.775705</td>\n",
              "    </tr>\n",
              "    <tr>\n",
              "      <th>que</th>\n",
              "      <td>46.470234</td>\n",
              "      <td>-36.291031</td>\n",
              "    </tr>\n",
              "    <tr>\n",
              "      <th>se</th>\n",
              "      <td>16.002491</td>\n",
              "      <td>-30.117569</td>\n",
              "    </tr>\n",
              "    <tr>\n",
              "      <th>não</th>\n",
              "      <td>44.409599</td>\n",
              "      <td>-37.194649</td>\n",
              "    </tr>\n",
              "    <tr>\n",
              "      <th>do</th>\n",
              "      <td>4.890448</td>\n",
              "      <td>-41.031944</td>\n",
              "    </tr>\n",
              "    <tr>\n",
              "      <th>um</th>\n",
              "      <td>3.594056</td>\n",
              "      <td>-41.418861</td>\n",
              "    </tr>\n",
              "    <tr>\n",
              "      <th>da</th>\n",
              "      <td>-24.917736</td>\n",
              "      <td>-37.411480</td>\n",
              "    </tr>\n",
              "    <tr>\n",
              "      <th>com</th>\n",
              "      <td>-0.738965</td>\n",
              "      <td>27.355171</td>\n",
              "    </tr>\n",
              "    <tr>\n",
              "      <th>os</th>\n",
              "      <td>-12.705447</td>\n",
              "      <td>51.996811</td>\n",
              "    </tr>\n",
              "    <tr>\n",
              "      <th>uma</th>\n",
              "      <td>-23.789860</td>\n",
              "      <td>-36.862190</td>\n",
              "    </tr>\n",
              "    <tr>\n",
              "      <th>em</th>\n",
              "      <td>1.137075</td>\n",
              "      <td>-1.031746</td>\n",
              "    </tr>\n",
              "    <tr>\n",
              "      <th>para</th>\n",
              "      <td>45.019440</td>\n",
              "      <td>26.824844</td>\n",
              "    </tr>\n",
              "    <tr>\n",
              "      <th>lhe</th>\n",
              "      <td>37.363117</td>\n",
              "      <td>-46.726315</td>\n",
              "    </tr>\n",
              "    <tr>\n",
              "      <th>as</th>\n",
              "      <td>-27.149071</td>\n",
              "      <td>55.023418</td>\n",
              "    </tr>\n",
              "    <tr>\n",
              "      <th>me</th>\n",
              "      <td>58.586948</td>\n",
              "      <td>2.397596</td>\n",
              "    </tr>\n",
              "    <tr>\n",
              "      <th>por</th>\n",
              "      <td>30.451759</td>\n",
              "      <td>5.024559</td>\n",
              "    </tr>\n",
              "    <tr>\n",
              "      <th>no</th>\n",
              "      <td>6.230160</td>\n",
              "      <td>-42.434887</td>\n",
              "    </tr>\n",
              "    <tr>\n",
              "      <th>ao</th>\n",
              "      <td>5.345692</td>\n",
              "      <td>-39.814617</td>\n",
              "    </tr>\n",
              "    <tr>\n",
              "      <th>mas</th>\n",
              "      <td>46.700657</td>\n",
              "      <td>-35.586803</td>\n",
              "    </tr>\n",
              "    <tr>\n",
              "      <th>como</th>\n",
              "      <td>46.533478</td>\n",
              "      <td>-36.446159</td>\n",
              "    </tr>\n",
              "  </tbody>\n",
              "</table>\n",
              "</div>\n",
              "    <div class=\"colab-df-buttons\">\n",
              "\n",
              "  <div class=\"colab-df-container\">\n",
              "    <button class=\"colab-df-convert\" onclick=\"convertToInteractive('df-7ec01033-fed9-40dc-9bb7-db21cf1ab63c')\"\n",
              "            title=\"Convert this dataframe to an interactive table.\"\n",
              "            style=\"display:none;\">\n",
              "\n",
              "  <svg xmlns=\"http://www.w3.org/2000/svg\" height=\"24px\" viewBox=\"0 -960 960 960\">\n",
              "    <path d=\"M120-120v-720h720v720H120Zm60-500h600v-160H180v160Zm220 220h160v-160H400v160Zm0 220h160v-160H400v160ZM180-400h160v-160H180v160Zm440 0h160v-160H620v160ZM180-180h160v-160H180v160Zm440 0h160v-160H620v160Z\"/>\n",
              "  </svg>\n",
              "    </button>\n",
              "\n",
              "  <style>\n",
              "    .colab-df-container {\n",
              "      display:flex;\n",
              "      gap: 12px;\n",
              "    }\n",
              "\n",
              "    .colab-df-convert {\n",
              "      background-color: #E8F0FE;\n",
              "      border: none;\n",
              "      border-radius: 50%;\n",
              "      cursor: pointer;\n",
              "      display: none;\n",
              "      fill: #1967D2;\n",
              "      height: 32px;\n",
              "      padding: 0 0 0 0;\n",
              "      width: 32px;\n",
              "    }\n",
              "\n",
              "    .colab-df-convert:hover {\n",
              "      background-color: #E2EBFA;\n",
              "      box-shadow: 0px 1px 2px rgba(60, 64, 67, 0.3), 0px 1px 3px 1px rgba(60, 64, 67, 0.15);\n",
              "      fill: #174EA6;\n",
              "    }\n",
              "\n",
              "    .colab-df-buttons div {\n",
              "      margin-bottom: 4px;\n",
              "    }\n",
              "\n",
              "    [theme=dark] .colab-df-convert {\n",
              "      background-color: #3B4455;\n",
              "      fill: #D2E3FC;\n",
              "    }\n",
              "\n",
              "    [theme=dark] .colab-df-convert:hover {\n",
              "      background-color: #434B5C;\n",
              "      box-shadow: 0px 1px 3px 1px rgba(0, 0, 0, 0.15);\n",
              "      filter: drop-shadow(0px 1px 2px rgba(0, 0, 0, 0.3));\n",
              "      fill: #FFFFFF;\n",
              "    }\n",
              "  </style>\n",
              "\n",
              "    <script>\n",
              "      const buttonEl =\n",
              "        document.querySelector('#df-7ec01033-fed9-40dc-9bb7-db21cf1ab63c button.colab-df-convert');\n",
              "      buttonEl.style.display =\n",
              "        google.colab.kernel.accessAllowed ? 'block' : 'none';\n",
              "\n",
              "      async function convertToInteractive(key) {\n",
              "        const element = document.querySelector('#df-7ec01033-fed9-40dc-9bb7-db21cf1ab63c');\n",
              "        const dataTable =\n",
              "          await google.colab.kernel.invokeFunction('convertToInteractive',\n",
              "                                                    [key], {});\n",
              "        if (!dataTable) return;\n",
              "\n",
              "        const docLinkHtml = 'Like what you see? Visit the ' +\n",
              "          '<a target=\"_blank\" href=https://colab.research.google.com/notebooks/data_table.ipynb>data table notebook</a>'\n",
              "          + ' to learn more about interactive tables.';\n",
              "        element.innerHTML = '';\n",
              "        dataTable['output_type'] = 'display_data';\n",
              "        await google.colab.output.renderOutput(dataTable, element);\n",
              "        const docLink = document.createElement('div');\n",
              "        docLink.innerHTML = docLinkHtml;\n",
              "        element.appendChild(docLink);\n",
              "      }\n",
              "    </script>\n",
              "  </div>\n",
              "\n",
              "\n",
              "<div id=\"df-da48d959-1051-4110-9682-6f803fc58e7d\">\n",
              "  <button class=\"colab-df-quickchart\" onclick=\"quickchart('df-da48d959-1051-4110-9682-6f803fc58e7d')\"\n",
              "            title=\"Suggest charts\"\n",
              "            style=\"display:none;\">\n",
              "\n",
              "<svg xmlns=\"http://www.w3.org/2000/svg\" height=\"24px\"viewBox=\"0 0 24 24\"\n",
              "     width=\"24px\">\n",
              "    <g>\n",
              "        <path d=\"M19 3H5c-1.1 0-2 .9-2 2v14c0 1.1.9 2 2 2h14c1.1 0 2-.9 2-2V5c0-1.1-.9-2-2-2zM9 17H7v-7h2v7zm4 0h-2V7h2v10zm4 0h-2v-4h2v4z\"/>\n",
              "    </g>\n",
              "</svg>\n",
              "  </button>\n",
              "\n",
              "<style>\n",
              "  .colab-df-quickchart {\n",
              "      --bg-color: #E8F0FE;\n",
              "      --fill-color: #1967D2;\n",
              "      --hover-bg-color: #E2EBFA;\n",
              "      --hover-fill-color: #174EA6;\n",
              "      --disabled-fill-color: #AAA;\n",
              "      --disabled-bg-color: #DDD;\n",
              "  }\n",
              "\n",
              "  [theme=dark] .colab-df-quickchart {\n",
              "      --bg-color: #3B4455;\n",
              "      --fill-color: #D2E3FC;\n",
              "      --hover-bg-color: #434B5C;\n",
              "      --hover-fill-color: #FFFFFF;\n",
              "      --disabled-bg-color: #3B4455;\n",
              "      --disabled-fill-color: #666;\n",
              "  }\n",
              "\n",
              "  .colab-df-quickchart {\n",
              "    background-color: var(--bg-color);\n",
              "    border: none;\n",
              "    border-radius: 50%;\n",
              "    cursor: pointer;\n",
              "    display: none;\n",
              "    fill: var(--fill-color);\n",
              "    height: 32px;\n",
              "    padding: 0;\n",
              "    width: 32px;\n",
              "  }\n",
              "\n",
              "  .colab-df-quickchart:hover {\n",
              "    background-color: var(--hover-bg-color);\n",
              "    box-shadow: 0 1px 2px rgba(60, 64, 67, 0.3), 0 1px 3px 1px rgba(60, 64, 67, 0.15);\n",
              "    fill: var(--button-hover-fill-color);\n",
              "  }\n",
              "\n",
              "  .colab-df-quickchart-complete:disabled,\n",
              "  .colab-df-quickchart-complete:disabled:hover {\n",
              "    background-color: var(--disabled-bg-color);\n",
              "    fill: var(--disabled-fill-color);\n",
              "    box-shadow: none;\n",
              "  }\n",
              "\n",
              "  .colab-df-spinner {\n",
              "    border: 2px solid var(--fill-color);\n",
              "    border-color: transparent;\n",
              "    border-bottom-color: var(--fill-color);\n",
              "    animation:\n",
              "      spin 1s steps(1) infinite;\n",
              "  }\n",
              "\n",
              "  @keyframes spin {\n",
              "    0% {\n",
              "      border-color: transparent;\n",
              "      border-bottom-color: var(--fill-color);\n",
              "      border-left-color: var(--fill-color);\n",
              "    }\n",
              "    20% {\n",
              "      border-color: transparent;\n",
              "      border-left-color: var(--fill-color);\n",
              "      border-top-color: var(--fill-color);\n",
              "    }\n",
              "    30% {\n",
              "      border-color: transparent;\n",
              "      border-left-color: var(--fill-color);\n",
              "      border-top-color: var(--fill-color);\n",
              "      border-right-color: var(--fill-color);\n",
              "    }\n",
              "    40% {\n",
              "      border-color: transparent;\n",
              "      border-right-color: var(--fill-color);\n",
              "      border-top-color: var(--fill-color);\n",
              "    }\n",
              "    60% {\n",
              "      border-color: transparent;\n",
              "      border-right-color: var(--fill-color);\n",
              "    }\n",
              "    80% {\n",
              "      border-color: transparent;\n",
              "      border-right-color: var(--fill-color);\n",
              "      border-bottom-color: var(--fill-color);\n",
              "    }\n",
              "    90% {\n",
              "      border-color: transparent;\n",
              "      border-bottom-color: var(--fill-color);\n",
              "    }\n",
              "  }\n",
              "</style>\n",
              "\n",
              "  <script>\n",
              "    async function quickchart(key) {\n",
              "      const quickchartButtonEl =\n",
              "        document.querySelector('#' + key + ' button');\n",
              "      quickchartButtonEl.disabled = true;  // To prevent multiple clicks.\n",
              "      quickchartButtonEl.classList.add('colab-df-spinner');\n",
              "      try {\n",
              "        const charts = await google.colab.kernel.invokeFunction(\n",
              "            'suggestCharts', [key], {});\n",
              "      } catch (error) {\n",
              "        console.error('Error during call to suggestCharts:', error);\n",
              "      }\n",
              "      quickchartButtonEl.classList.remove('colab-df-spinner');\n",
              "      quickchartButtonEl.classList.add('colab-df-quickchart-complete');\n",
              "    }\n",
              "    (() => {\n",
              "      let quickchartButtonEl =\n",
              "        document.querySelector('#df-da48d959-1051-4110-9682-6f803fc58e7d button');\n",
              "      quickchartButtonEl.style.display =\n",
              "        google.colab.kernel.accessAllowed ? 'block' : 'none';\n",
              "    })();\n",
              "  </script>\n",
              "</div>\n",
              "\n",
              "    </div>\n",
              "  </div>\n"
            ],
            "application/vnd.google.colaboratory.intrinsic+json": {
              "type": "dataframe",
              "summary": "{\n  \"name\": \"df[:20]\",\n  \"rows\": 20,\n  \"fields\": [\n    {\n      \"column\": \"x\",\n      \"properties\": {\n        \"dtype\": \"float32\",\n        \"num_unique_values\": 20,\n        \"samples\": [\n          42.86735916137695,\n          5.345691680908203,\n          30.451759338378906\n        ],\n        \"semantic_type\": \"\",\n        \"description\": \"\"\n      }\n    },\n    {\n      \"column\": \"y\",\n      \"properties\": {\n        \"dtype\": \"float32\",\n        \"num_unique_values\": 20,\n        \"samples\": [\n          14.775705337524414,\n          -39.81461715698242,\n          5.024559497833252\n        ],\n        \"semantic_type\": \"\",\n        \"description\": \"\"\n      }\n    }\n  ]\n}"
            }
          },
          "metadata": {},
          "execution_count": 28
        }
      ]
    },
    {
      "cell_type": "code",
      "metadata": {
        "id": "MVHfcd-15BST",
        "colab": {
          "base_uri": "https://localhost:8080/",
          "height": 550
        },
        "outputId": "384669e4-76a0-422e-8bd5-3bc9bd3d4edb"
      },
      "source": [
        "m = 250\n",
        "fig = plt.figure()\n",
        "ax = fig.add_subplot(1, 1, 1)\n",
        "ax.scatter(df[:m]['x'], df[:m]['y'])\n",
        "for word, pos in df[:m].iterrows():\n",
        "    ax.annotate(word, pos)\n",
        "plt.show()"
      ],
      "execution_count": null,
      "outputs": [
        {
          "output_type": "display_data",
          "data": {
            "text/plain": [
              "<Figure size 1200x900 with 1 Axes>"
            ],
            "image/png": "[encoded data removed]"
          },
          "metadata": {}
        }
      ]
    }
  ]
}