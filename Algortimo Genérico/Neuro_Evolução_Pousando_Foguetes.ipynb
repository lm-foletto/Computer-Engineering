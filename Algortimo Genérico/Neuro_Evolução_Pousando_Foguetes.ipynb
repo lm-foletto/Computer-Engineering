{
 "cells": [
  {
   "cell_type": "code",
   "execution_count": 1,
   "metadata": {
    "id": "_JJDnWc90EVa"
   },
   "outputs": [],
   "source": [
    "#@title\n",
    "%%capture\n",
    "!pip install swig\n",
    "!pip install gymnasium[box2d]\n",
    "!pip install renderlab"
   ]
  },
  {
   "cell_type": "code",
   "execution_count": 2,
   "metadata": {
    "colab": {
     "base_uri": "https://localhost:8080/"
    },
    "id": "LHBvJpgTpJDs",
    "outputId": "d34bae04-9622-4522-b015-4eab58992768"
   },
   "outputs": [
    {
     "name": "stderr",
     "output_type": "stream",
     "text": [
      "WARNING:py.warnings:/usr/local/lib/python3.10/dist-packages/moviepy/video/io/sliders.py:61: SyntaxWarning: \"is\" with a literal. Did you mean \"==\"?\n",
      "  if event.key is 'enter':\n",
      "\n"
     ]
    }
   ],
   "source": [
    "#@title\n",
    "%%capture\n",
    "\n",
    "import gymnasium as gym\n",
    "import renderlab as rl\n",
    "import numpy as np\n",
    "from matplotlib import pyplot as plt\n",
    "from IPython import display\n",
    "from IPython.display import clear_output"
   ]
  },
  {
   "cell_type": "code",
   "execution_count": 3,
   "metadata": {
    "id": "OrS82yMqWTiI"
   },
   "outputs": [],
   "source": [
    "class Net():\n",
    "  def __init__(self, chromosome):\n",
    "    # 8 => 10 => 4\n",
    "    self.w1 = chromosome[:80].reshape((10,8))\n",
    "    self.b1 = chromosome[80:90].reshape((10,))\n",
    "    self.w2 = chromosome[90:130].reshape((4,10))\n",
    "    self.b2 = chromosome[130:].reshape((4,))\n",
    "  def forward(self, x):\n",
    "    s1 = np.dot(self.w1, x) + self.b1\n",
    "    z1 = s1 * (s1 > 0.0)\n",
    "    s2 = np.dot(self.w2, z1) + self.b2\n",
    "    z2 = s2 * (s2 > 0.0)\n",
    "    return z2.argmax()"
   ]
  },
  {
   "cell_type": "code",
   "execution_count": 4,
   "metadata": {
    "id": "qypaYO1SYAyd"
   },
   "outputs": [],
   "source": [
    "def create_individual():\n",
    "  ''' Esta função cria o genótipo de um indivíduo\n",
    "      completamente aleatório\n",
    "  '''\n",
    "  N = 8*10+10+10*4+4\n",
    "  chromosome = np.random.normal(0, 10, size=(N,))\n",
    "  return chromosome, None"
   ]
  },
  {
   "cell_type": "code",
   "execution_count": 5,
   "metadata": {
    "id": "-iFgTmovYk-j"
   },
   "outputs": [],
   "source": [
    "def create_population(size):\n",
    "  ''' Aqui geramos uma população inteira\n",
    "  '''\n",
    "  # Nossa população será uma lista\n",
    "  population = list()\n",
    "  # Nesse laço criamos cada indivíduo\n",
    "  # e adicionamos à população\n",
    "  for _ in range(size):\n",
    "    population.append(create_individual())\n",
    "  return population"
   ]
  },
  {
   "cell_type": "code",
   "execution_count": 6,
   "metadata": {
    "id": "fGjEBG8-YxTG"
   },
   "outputs": [],
   "source": [
    "def get_phenotype(chromosome):\n",
    "  ''' Esta função gera a imagem a partir do\n",
    "      gene.\n",
    "  '''\n",
    "  n = Net(chromosome)\n",
    "  return n"
   ]
  },
  {
   "cell_type": "code",
   "execution_count": 7,
   "metadata": {
    "id": "TWC-698lY8Ru"
   },
   "outputs": [],
   "source": [
    "def fitness(n):\n",
    "  R = 0.0\n",
    "  trials = 6\n",
    "  env = gym.make('LunarLander-v3')\n",
    "  for _ in range(trials):\n",
    "    obs, _ = env.reset()\n",
    "    while True:\n",
    "      action = n.forward(obs)\n",
    "      obs, reward, term, trunc, info = env.step(action)\n",
    "      R += reward\n",
    "      if term or trunc:\n",
    "        break\n",
    "  env.close()\n",
    "  return (10000.0 + R/trials) / 10000.0"
   ]
  },
  {
   "cell_type": "code",
   "execution_count": 8,
   "metadata": {
    "id": "F8wc66wqaZO9"
   },
   "outputs": [],
   "source": [
    "def crossover2point(chr1, chr2):\n",
    "  ''' Esta função combina os genes de\n",
    "      dois indivíduos, gerando um novo\n",
    "      cromossomo\n",
    "  '''\n",
    "  N = len(chr1)\n",
    "  idx1 = np.random.randint(0,N)\n",
    "  idx2 = np.random.randint(0,N)\n",
    "  if idx1 > idx2:\n",
    "    idx1, idx2 = idx2, idx1\n",
    "  new_chr1 = np.concatenate((chr1[0:idx1], chr2[idx1:idx2], chr1[idx2:]))\n",
    "  new_chr2 = np.concatenate((chr2[0:idx1], chr1[idx1:idx2], chr2[idx2:]))\n",
    "  return new_chr1, new_chr2"
   ]
  },
  {
   "cell_type": "code",
   "execution_count": 9,
   "metadata": {
    "id": "cIqsJUFjah3c"
   },
   "outputs": [],
   "source": [
    "def mutation(chr, p):\n",
    "  ''' Esta função aplica a mutação em um dos\n",
    "      genes de nosso cromossomo\n",
    "  '''\n",
    "  N = len(chr)\n",
    "  total = int(np.random.normal(p*N, p*N))\n",
    "  if total < 0:\n",
    "    total = 0\n",
    "  elif total > N:\n",
    "    total = N\n",
    "  for _ in range(total):\n",
    "    idx = np.random.randint(0, N)\n",
    "    if np.random.rand() > 0.5:\n",
    "      chr[idx] += np.random.normal(0, 1)\n",
    "    else:\n",
    "      chr[idx] = np.random.normal(0, 10)\n",
    "  return chr"
   ]
  },
  {
   "cell_type": "code",
   "execution_count": 10,
   "metadata": {
    "id": "JmUo9vIibezR"
   },
   "outputs": [],
   "source": [
    "def compute_fitness(population):\n",
    "  ''' Esta função avalia cada indivíduo\n",
    "      e adiciona o seu score.\n",
    "  '''\n",
    "  scored = list()\n",
    "  for chromosome, score in population:\n",
    "    n = get_phenotype(chromosome)\n",
    "    score = fitness(n)\n",
    "    scored.append((chromosome, score))\n",
    "  scored.sort(key=lambda x:x[1], reverse=True)\n",
    "  return scored"
   ]
  },
  {
   "cell_type": "code",
   "execution_count": 11,
   "metadata": {
    "id": "uAC179ZScFeH"
   },
   "outputs": [],
   "source": [
    "def roulette(population):\n",
    "  fitnesses = np.array([np.exp(fitness) \\\n",
    "                       for _, fitness in population])\n",
    "  total = np.sum(fitnesses)\n",
    "  fitnesses /= total\n",
    "  choice = np.random.rand()\n",
    "  subtotal = 0\n",
    "  idx = 0\n",
    "  for f in fitnesses:\n",
    "    subtotal += f\n",
    "    if subtotal >= choice or idx == len(fitnesses)-1:\n",
    "      break\n",
    "    idx += 1\n",
    "  return idx"
   ]
  },
  {
   "cell_type": "code",
   "execution_count": 12,
   "metadata": {
    "id": "963DTgCLcd0r"
   },
   "outputs": [],
   "source": [
    "def new_generation(population, size, mutation_rate):\n",
    "  new_population = list()\n",
    "  while len(new_population) < size:\n",
    "    idx1 = roulette(population)\n",
    "    idx2 = roulette(population)\n",
    "    if idx1 == idx2:\n",
    "      continue\n",
    "    chr1, _ = population[idx1]\n",
    "    chr2, _ = population[idx2]\n",
    "    new_chr1, new_chr2 = crossover2point(chr1, chr2)\n",
    "    new_chr1 = mutation(new_chr1, mutation_rate)\n",
    "    new_chr2 = mutation(new_chr2, mutation_rate)\n",
    "    new_population.append((new_chr1, None))\n",
    "    new_population.append((new_chr2, None))\n",
    "  return new_population[:size]"
   ]
  },
  {
   "cell_type": "code",
   "execution_count": 13,
   "metadata": {
    "id": "f6EfRBbGdEan"
   },
   "outputs": [],
   "source": [
    "def genalg(pop_size, elite_size, \\\n",
    "           epochs, mutation_rate):\n",
    "  x = list()\n",
    "  y = list()\n",
    "\n",
    "  population = create_population(pop_size)\n",
    "\n",
    "  for generation in range(epochs+1):\n",
    "\n",
    "    population = compute_fitness(population)\n",
    "\n",
    "    chr, fit = population[0]\n",
    "    _, worst = population[-1]\n",
    "    n = get_phenotype(chr)\n",
    "    y.append(fit)\n",
    "    x.append(generation)\n",
    "\n",
    "    if generation % 5 == 0:\n",
    "      R = 0.0\n",
    "      env1 = gym.make('LunarLander-v3', render_mode = 'rgb_array')\n",
    "      env2 = rl.RenderFrame(env1, './output')\n",
    "      obs, _ = env2.reset()\n",
    "      while True:\n",
    "        action = n.forward(obs)\n",
    "        obs, reward, term, trunc, info = env2.step(action)\n",
    "        R += reward\n",
    "        if term or trunc:\n",
    "          break\n",
    "      # env2.close()\n",
    "      clear_output()\n",
    "\n",
    "      print('Geração', generation, ', melhor:', fit, ', pior', worst)\n",
    "      env2.play()\n",
    "\n",
    "      plt.plot(x, y)\n",
    "      plt.show()\n",
    "\n",
    "    elite = population[:elite_size]\n",
    "    population = new_generation(population, pop_size - elite_size,\\\n",
    "                                mutation_rate) + elite\n",
    "  return n, x, y"
   ]
  },
  {
   "cell_type": "code",
   "execution_count": 14,
   "metadata": {
    "colab": {
     "base_uri": "https://localhost:8080/",
     "height": 1000
    },
    "id": "6aASS0aKejpa",
    "outputId": "d9e97a38-61c4-43ba-fecd-c904252ec686"
   },
   "outputs": [
    {
     "name": "stdout",
     "output_type": "stream",
     "text": [
      "Geração 10 , melhor: 0.9911842638272302 , pior 0.8769456991585949\n",
      "Moviepy - Building video temp-{start}.mp4.\n",
      "Moviepy - Writing video temp-{start}.mp4\n",
      "\n"
     ]
    },
    {
     "name": "stderr",
     "output_type": "stream",
     "text": [
      "t:  77%|███████▋  | 72/93 [00:00<00:00, 269.46it/s, now=None]WARNING:py.warnings:/usr/local/lib/python3.10/dist-packages/moviepy/video/io/ffmpeg_reader.py:123: UserWarning: Warning: in file ./output/1731180942.042317.mp4, 720000 bytes wanted but 0 bytes read,at frame 92/93, at time 3.07/3.07 sec. Using the last valid frame instead.\n",
      "  warnings.warn(\"Warning: in file %s, \"%(self.filename)+\n",
      "\n",
      "                                                             "
     ]
    },
    {
     "name": "stdout",
     "output_type": "stream",
     "text": [
      "Moviepy - Done !\n",
      "Moviepy - video ready temp-{start}.mp4\n"
     ]
    },
    {
     "name": "stderr",
     "output_type": "stream",
     "text": [
      "\r"
     ]
    },
    {
     "data": {
      "text/html": [
       "<video controls  >\n",
       " <source src=\"data:video/mp4;base64,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\" type=\"video/mp4\">\n",
       " Your browser does not support the video tag.\n",
       " </video>"
      ],
      "text/plain": [
       "<IPython.core.display.Video object>"
      ]
     },
     "metadata": {},
     "output_type": "display_data"
    },
    {
     "data": {
      "image/png": "[encoded data removed]",
      "text/plain": [
       "<Figure size 640x480 with 1 Axes>"
      ]
     },
     "metadata": {},
     "output_type": "display_data"
    }
   ],
   "source": [
    "#n, x, y = genalg(50, 3, 1000, 0.03)\n",
    "n, x, y = genalg(50, 3, 10, 0.03)"
   ]
  },
  {
   "cell_type": "code",
   "execution_count": 15,
   "metadata": {
    "colab": {
     "base_uri": "https://localhost:8080/",
     "height": 211
    },
    "id": "Sl3K20iRlBTn",
    "outputId": "0bae8343-70fc-464f-9b5c-7b5c18705184"
   },
   "outputs": [
    {
     "ename": "NameError",
     "evalue": "name 'wrap_env' is not defined",
     "output_type": "error",
     "traceback": [
      "\u001b[0;31m---------------------------------------------------------------------------\u001b[0m",
      "\u001b[0;31mNameError\u001b[0m                                 Traceback (most recent call last)",
      "\u001b[0;32m<ipython-input-15-aa1830755b76>\u001b[0m in \u001b[0;36m<cell line: 1>\u001b[0;34m()\u001b[0m\n\u001b[0;32m----> 1\u001b[0;31m \u001b[0menv\u001b[0m \u001b[0;34m=\u001b[0m \u001b[0mwrap_env\u001b[0m\u001b[0;34m(\u001b[0m\u001b[0mgym\u001b[0m\u001b[0;34m.\u001b[0m\u001b[0mmake\u001b[0m\u001b[0;34m(\u001b[0m\u001b[0;34m'LunarLander-v3'\u001b[0m\u001b[0;34m)\u001b[0m\u001b[0;34m)\u001b[0m\u001b[0;34m\u001b[0m\u001b[0;34m\u001b[0m\u001b[0m\n\u001b[0m\u001b[1;32m      2\u001b[0m \u001b[0;34m\u001b[0m\u001b[0m\n\u001b[1;32m      3\u001b[0m \u001b[0mR\u001b[0m \u001b[0;34m=\u001b[0m \u001b[0;36m0.0\u001b[0m\u001b[0;34m\u001b[0m\u001b[0;34m\u001b[0m\u001b[0m\n\u001b[1;32m      4\u001b[0m \u001b[0mobs\u001b[0m \u001b[0;34m=\u001b[0m \u001b[0menv\u001b[0m\u001b[0;34m.\u001b[0m\u001b[0mreset\u001b[0m\u001b[0;34m(\u001b[0m\u001b[0;34m)\u001b[0m\u001b[0;34m\u001b[0m\u001b[0;34m\u001b[0m\u001b[0m\n\u001b[1;32m      5\u001b[0m \u001b[0;32mwhile\u001b[0m \u001b[0;32mTrue\u001b[0m\u001b[0;34m:\u001b[0m\u001b[0;34m\u001b[0m\u001b[0;34m\u001b[0m\u001b[0m\n",
      "\u001b[0;31mNameError\u001b[0m: name 'wrap_env' is not defined"
     ]
    }
   ],
   "source": [
    "env = wrap_env(gym.make('LunarLander-v3'))\n",
    "\n",
    "R = 0.0\n",
    "obs = env.reset()\n",
    "while True:\n",
    "  action = np.random.randint(0,4)\n",
    "  obs, reward, done, info = env.step(action)\n",
    "  env.render()\n",
    "  R += reward\n",
    "  if done:\n",
    "    break\n",
    "\n",
    "print(R)\n",
    "\n",
    "env.close()\n",
    "show_video()"
   ]
  }
 ],
 "metadata": {
  "accelerator": "GPU",
  "colab": {
   "gpuType": "T4",
   "provenance": []
  },
  "kernelspec": {
   "display_name": "Python 3",
   "name": "python3"
  }
 },
 "nbformat": 4,
 "nbformat_minor": 0
}
