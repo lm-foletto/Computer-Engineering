{
  "nbformat": 4,
  "nbformat_minor": 0,
  "metadata": {
    "colab": {
      "provenance": [],
      "include_colab_link": true
    },
    "kernelspec": {
      "name": "python3",
      "display_name": "Python 3"
    },
    "language_info": {
      "name": "python"
    }
  },
  "cells": [
    {
      "cell_type": "markdown",
      "metadata": {
        "id": "view-in-github",
        "colab_type": "text"
      },
      "source": [
        "<a href=\"https://colab.research.google.com/github/Leo-Foletto98/Deep_Learning/blob/main/E03_Leitura_de_Dados_Rev3.ipynb\" target=\"_parent\"><img src=\"https://colab.research.google.com/assets/colab-badge.svg\" alt=\"Open In Colab\"/></a>"
      ]
    },
    {
      "cell_type": "code",
      "metadata": {
        "id": "cKYMrg1_FpW_",
        "cellView": "form"
      },
      "source": [
        "#@title\n",
        "%%capture\n",
        "!rm -rf *\n",
        "!gdown 19b7ixRt9TU3Kb7r8NwiJ9UaK7Z34-9eH -O e03_ok.zip\n",
        "!cd /content\n",
        "!unzip e03_ok.zip\n",
        "!pip install git+https://github.com/grading/gradememaybe.git\n",
        "\n",
        "from IPython.display import YouTubeVideo\n",
        "from gofer import ok"
      ],
      "execution_count": null,
      "outputs": []
    },
    {
      "cell_type": "markdown",
      "metadata": {
        "id": "F9uRXrRQCPUT"
      },
      "source": [
        "# 1 Upload do Arquivo\n",
        "\n",
        "Use o espaço abaixo para fazer o upload do arquivo para o ambiente do Google Colab. Para isso você pode usar o comando `gdown` (lembre-se de colocar o sinal de exclamação `!` para chamar comandos na linha de comando, fora do Python)."
      ]
    },
    {
      "cell_type": "code",
      "metadata": {
        "id": "1_gkoGa0B2qK",
        "outputId": "a132d021-f5ed-4996-ffdb-64a49b7effe0",
        "colab": {
          "base_uri": "https://localhost:8080/",
          "height": 73
        }
      },
      "source": [
        "from google.colab import files\n",
        "import io\n",
        "\n",
        "upload = files.upload()\n",
        "f = io.BytesIO(upload['Iris.csv'])"
      ],
      "execution_count": null,
      "outputs": [
        {
          "output_type": "display_data",
          "data": {
            "text/plain": [
              "<IPython.core.display.HTML object>"
            ],
            "text/html": [
              "\n",
              "     <input type=\"file\" id=\"files-93392631-f80c-4c05-bc29-e6a66b6e7030\" name=\"files[]\" multiple disabled\n",
              "        style=\"border:none\" />\n",
              "     <output id=\"result-93392631-f80c-4c05-bc29-e6a66b6e7030\">\n",
              "      Upload widget is only available when the cell has been executed in the\n",
              "      current browser session. Please rerun this cell to enable.\n",
              "      </output>\n",
              "      <script>// Copyright 2017 Google LLC\n",
              "//\n",
              "// Licensed under the Apache License, Version 2.0 (the \"License\");\n",
              "// you may not use this file except in compliance with the License.\n",
              "// You may obtain a copy of the License at\n",
              "//\n",
              "//      http://www.apache.org/licenses/LICENSE-2.0\n",
              "//\n",
              "// Unless required by applicable law or agreed to in writing, software\n",
              "// distributed under the License is distributed on an \"AS IS\" BASIS,\n",
              "// WITHOUT WARRANTIES OR CONDITIONS OF ANY KIND, either express or implied.\n",
              "// See the License for the specific language governing permissions and\n",
              "// limitations under the License.\n",
              "\n",
              "/**\n",
              " * @fileoverview Helpers for google.colab Python module.\n",
              " */\n",
              "(function(scope) {\n",
              "function span(text, styleAttributes = {}) {\n",
              "  const element = document.createElement('span');\n",
              "  element.textContent = text;\n",
              "  for (const key of Object.keys(styleAttributes)) {\n",
              "    element.style[key] = styleAttributes[key];\n",
              "  }\n",
              "  return element;\n",
              "}\n",
              "\n",
              "// Max number of bytes which will be uploaded at a time.\n",
              "const MAX_PAYLOAD_SIZE = 100 * 1024;\n",
              "\n",
              "function _uploadFiles(inputId, outputId) {\n",
              "  const steps = uploadFilesStep(inputId, outputId);\n",
              "  const outputElement = document.getElementById(outputId);\n",
              "  // Cache steps on the outputElement to make it available for the next call\n",
              "  // to uploadFilesContinue from Python.\n",
              "  outputElement.steps = steps;\n",
              "\n",
              "  return _uploadFilesContinue(outputId);\n",
              "}\n",
              "\n",
              "// This is roughly an async generator (not supported in the browser yet),\n",
              "// where there are multiple asynchronous steps and the Python side is going\n",
              "// to poll for completion of each step.\n",
              "// This uses a Promise to block the python side on completion of each step,\n",
              "// then passes the result of the previous step as the input to the next step.\n",
              "function _uploadFilesContinue(outputId) {\n",
              "  const outputElement = document.getElementById(outputId);\n",
              "  const steps = outputElement.steps;\n",
              "\n",
              "  const next = steps.next(outputElement.lastPromiseValue);\n",
              "  return Promise.resolve(next.value.promise).then((value) => {\n",
              "    // Cache the last promise value to make it available to the next\n",
              "    // step of the generator.\n",
              "    outputElement.lastPromiseValue = value;\n",
              "    return next.value.response;\n",
              "  });\n",
              "}\n",
              "\n",
              "/**\n",
              " * Generator function which is called between each async step of the upload\n",
              " * process.\n",
              " * @param {string} inputId Element ID of the input file picker element.\n",
              " * @param {string} outputId Element ID of the output display.\n",
              " * @return {!Iterable<!Object>} Iterable of next steps.\n",
              " */\n",
              "function* uploadFilesStep(inputId, outputId) {\n",
              "  const inputElement = document.getElementById(inputId);\n",
              "  inputElement.disabled = false;\n",
              "\n",
              "  const outputElement = document.getElementById(outputId);\n",
              "  outputElement.innerHTML = '';\n",
              "\n",
              "  const pickedPromise = new Promise((resolve) => {\n",
              "    inputElement.addEventListener('change', (e) => {\n",
              "      resolve(e.target.files);\n",
              "    });\n",
              "  });\n",
              "\n",
              "  const cancel = document.createElement('button');\n",
              "  inputElement.parentElement.appendChild(cancel);\n",
              "  cancel.textContent = 'Cancel upload';\n",
              "  const cancelPromise = new Promise((resolve) => {\n",
              "    cancel.onclick = () => {\n",
              "      resolve(null);\n",
              "    };\n",
              "  });\n",
              "\n",
              "  // Wait for the user to pick the files.\n",
              "  const files = yield {\n",
              "    promise: Promise.race([pickedPromise, cancelPromise]),\n",
              "    response: {\n",
              "      action: 'starting',\n",
              "    }\n",
              "  };\n",
              "\n",
              "  cancel.remove();\n",
              "\n",
              "  // Disable the input element since further picks are not allowed.\n",
              "  inputElement.disabled = true;\n",
              "\n",
              "  if (!files) {\n",
              "    return {\n",
              "      response: {\n",
              "        action: 'complete',\n",
              "      }\n",
              "    };\n",
              "  }\n",
              "\n",
              "  for (const file of files) {\n",
              "    const li = document.createElement('li');\n",
              "    li.append(span(file.name, {fontWeight: 'bold'}));\n",
              "    li.append(span(\n",
              "        `(${file.type || 'n/a'}) - ${file.size} bytes, ` +\n",
              "        `last modified: ${\n",
              "            file.lastModifiedDate ? file.lastModifiedDate.toLocaleDateString() :\n",
              "                                    'n/a'} - `));\n",
              "    const percent = span('0% done');\n",
              "    li.appendChild(percent);\n",
              "\n",
              "    outputElement.appendChild(li);\n",
              "\n",
              "    const fileDataPromise = new Promise((resolve) => {\n",
              "      const reader = new FileReader();\n",
              "      reader.onload = (e) => {\n",
              "        resolve(e.target.result);\n",
              "      };\n",
              "      reader.readAsArrayBuffer(file);\n",
              "    });\n",
              "    // Wait for the data to be ready.\n",
              "    let fileData = yield {\n",
              "      promise: fileDataPromise,\n",
              "      response: {\n",
              "        action: 'continue',\n",
              "      }\n",
              "    };\n",
              "\n",
              "    // Use a chunked sending to avoid message size limits. See b/62115660.\n",
              "    let position = 0;\n",
              "    do {\n",
              "      const length = Math.min(fileData.byteLength - position, MAX_PAYLOAD_SIZE);\n",
              "      const chunk = new Uint8Array(fileData, position, length);\n",
              "      position += length;\n",
              "\n",
              "      const base64 = btoa(String.fromCharCode.apply(null, chunk));\n",
              "      yield {\n",
              "        response: {\n",
              "          action: 'append',\n",
              "          file: file.name,\n",
              "          data: base64,\n",
              "        },\n",
              "      };\n",
              "\n",
              "      let percentDone = fileData.byteLength === 0 ?\n",
              "          100 :\n",
              "          Math.round((position / fileData.byteLength) * 100);\n",
              "      percent.textContent = `${percentDone}% done`;\n",
              "\n",
              "    } while (position < fileData.byteLength);\n",
              "  }\n",
              "\n",
              "  // All done.\n",
              "  yield {\n",
              "    response: {\n",
              "      action: 'complete',\n",
              "    }\n",
              "  };\n",
              "}\n",
              "\n",
              "scope.google = scope.google || {};\n",
              "scope.google.colab = scope.google.colab || {};\n",
              "scope.google.colab._files = {\n",
              "  _uploadFiles,\n",
              "  _uploadFilesContinue,\n",
              "};\n",
              "})(self);\n",
              "</script> "
            ]
          },
          "metadata": {}
        },
        {
          "output_type": "stream",
          "name": "stdout",
          "text": [
            "Saving Iris.csv to Iris.csv\n"
          ]
        }
      ]
    },
    {
      "cell_type": "code",
      "metadata": {
        "id": "jUnzAmJaF-NA",
        "outputId": "336b80a3-8ae5-4c49-e28f-f43bee9185d7",
        "colab": {
          "base_uri": "https://localhost:8080/",
          "height": 46
        }
      },
      "source": [
        "ok.check('e03_1.py')"
      ],
      "execution_count": null,
      "outputs": [
        {
          "output_type": "execute_result",
          "data": {
            "text/plain": [
              "<gofer.ok.OKTestsResult at 0x7f6f29223280>"
            ],
            "text/html": [
              "\n",
              "    \n",
              "    \n",
              "        <p>All tests passed!</p>\n",
              "    \n",
              "    "
            ]
          },
          "metadata": {},
          "execution_count": 192
        }
      ]
    },
    {
      "cell_type": "markdown",
      "metadata": {
        "id": "jLT4YiBZInaI"
      },
      "source": [
        "# 2 Leitura do Arquivo\n",
        "\n",
        "Escreva um laço que leia todas as linhas do arquivo, criando uma lista numa variável de nome 'd0', onde cada elemento da lista é uma string que corresponde a uma linha do arquivo."
      ]
    },
    {
      "cell_type": "code",
      "metadata": {
        "id": "r0ErgTEHJFHa",
        "outputId": "237dcd7c-b855-4154-e2e4-204b0a3a5633",
        "colab": {
          "base_uri": "https://localhost:8080/"
        }
      },
      "source": [
        "# Abrindo o arquivo para leitura\n",
        "with open('/content/Iris.csv', 'r') as arquivo:\n",
        "    # Método readlines() para ler todas as linhas e armazená-las em 'd0'\n",
        "    d0 = arquivo.readlines()\n",
        "\n",
        "# Agora, 'd0' contém todas as linhas do arquivo como elementos da lista\n",
        "print(d0)\n",
        "total = len(d0)\n",
        "print(total)"
      ],
      "execution_count": null,
      "outputs": [
        {
          "output_type": "stream",
          "name": "stdout",
          "text": [
            "['Id,SepalLengthCm,SepalWidthCm,PetalLengthCm,PetalWidthCm,Species\\n', '1,5.1,3.5,1.4,0.2,Iris-setosa\\n', '2,4.9,3.0,1.4,0.2,Iris-setosa\\n', '3,4.7,3.2,1.3,0.2,Iris-setosa\\n', '4,4.6,3.1,1.5,0.2,Iris-setosa\\n', '5,5.0,3.6,1.4,0.2,Iris-setosa\\n', '6,5.4,3.9,1.7,0.4,Iris-setosa\\n', '7,4.6,3.4,1.4,0.3,Iris-setosa\\n', '8,5.0,3.4,1.5,0.2,Iris-setosa\\n', '9,4.4,2.9,1.4,0.2,Iris-setosa\\n', '10,4.9,3.1,1.5,0.1,Iris-setosa\\n', '11,5.4,3.7,1.5,0.2,Iris-setosa\\n', '12,4.8,3.4,1.6,0.2,Iris-setosa\\n', '13,4.8,3.0,1.4,0.1,Iris-setosa\\n', '14,4.3,3.0,1.1,0.1,Iris-setosa\\n', '15,5.8,4.0,1.2,0.2,Iris-setosa\\n', '16,5.7,4.4,1.5,0.4,Iris-setosa\\n', '17,5.4,3.9,1.3,0.4,Iris-setosa\\n', '18,5.1,3.5,1.4,0.3,Iris-setosa\\n', '19,5.7,3.8,1.7,0.3,Iris-setosa\\n', '20,5.1,3.8,1.5,0.3,Iris-setosa\\n', '21,5.4,3.4,1.7,0.2,Iris-setosa\\n', '22,5.1,3.7,1.5,0.4,Iris-setosa\\n', '23,4.6,3.6,1.0,0.2,Iris-setosa\\n', '24,5.1,3.3,1.7,0.5,Iris-setosa\\n', '25,4.8,3.4,1.9,0.2,Iris-setosa\\n', '26,5.0,3.0,1.6,0.2,Iris-setosa\\n', '27,5.0,3.4,1.6,0.4,Iris-setosa\\n', '28,5.2,3.5,1.5,0.2,Iris-setosa\\n', '29,5.2,3.4,1.4,0.2,Iris-setosa\\n', '30,4.7,3.2,1.6,0.2,Iris-setosa\\n', '31,4.8,3.1,1.6,0.2,Iris-setosa\\n', '32,5.4,3.4,1.5,0.4,Iris-setosa\\n', '33,5.2,4.1,1.5,0.1,Iris-setosa\\n', '34,5.5,4.2,1.4,0.2,Iris-setosa\\n', '35,4.9,3.1,1.5,0.1,Iris-setosa\\n', '36,5.0,3.2,1.2,0.2,Iris-setosa\\n', '37,5.5,3.5,1.3,0.2,Iris-setosa\\n', '38,4.9,3.1,1.5,0.1,Iris-setosa\\n', '39,4.4,3.0,1.3,0.2,Iris-setosa\\n', '40,5.1,3.4,1.5,0.2,Iris-setosa\\n', '41,5.0,3.5,1.3,0.3,Iris-setosa\\n', '42,4.5,2.3,1.3,0.3,Iris-setosa\\n', '43,4.4,3.2,1.3,0.2,Iris-setosa\\n', '44,5.0,3.5,1.6,0.6,Iris-setosa\\n', '45,5.1,3.8,1.9,0.4,Iris-setosa\\n', '46,4.8,3.0,1.4,0.3,Iris-setosa\\n', '47,5.1,3.8,1.6,0.2,Iris-setosa\\n', '48,4.6,3.2,1.4,0.2,Iris-setosa\\n', '49,5.3,3.7,1.5,0.2,Iris-setosa\\n', '50,5.0,3.3,1.4,0.2,Iris-setosa\\n', '51,7.0,3.2,4.7,1.4,Iris-versicolor\\n', '52,6.4,3.2,4.5,1.5,Iris-versicolor\\n', '53,6.9,3.1,4.9,1.5,Iris-versicolor\\n', '54,5.5,2.3,4.0,1.3,Iris-versicolor\\n', '55,6.5,2.8,4.6,1.5,Iris-versicolor\\n', '56,5.7,2.8,4.5,1.3,Iris-versicolor\\n', '57,6.3,3.3,4.7,1.6,Iris-versicolor\\n', '58,4.9,2.4,3.3,1.0,Iris-versicolor\\n', '59,6.6,2.9,4.6,1.3,Iris-versicolor\\n', '60,5.2,2.7,3.9,1.4,Iris-versicolor\\n', '61,5.0,2.0,3.5,1.0,Iris-versicolor\\n', '62,5.9,3.0,4.2,1.5,Iris-versicolor\\n', '63,6.0,2.2,4.0,1.0,Iris-versicolor\\n', '64,6.1,2.9,4.7,1.4,Iris-versicolor\\n', '65,5.6,2.9,3.6,1.3,Iris-versicolor\\n', '66,6.7,3.1,4.4,1.4,Iris-versicolor\\n', '67,5.6,3.0,4.5,1.5,Iris-versicolor\\n', '68,5.8,2.7,4.1,1.0,Iris-versicolor\\n', '69,6.2,2.2,4.5,1.5,Iris-versicolor\\n', '70,5.6,2.5,3.9,1.1,Iris-versicolor\\n', '71,5.9,3.2,4.8,1.8,Iris-versicolor\\n', '72,6.1,2.8,4.0,1.3,Iris-versicolor\\n', '73,6.3,2.5,4.9,1.5,Iris-versicolor\\n', '74,6.1,2.8,4.7,1.2,Iris-versicolor\\n', '75,6.4,2.9,4.3,1.3,Iris-versicolor\\n', '76,6.6,3.0,4.4,1.4,Iris-versicolor\\n', '77,6.8,2.8,4.8,1.4,Iris-versicolor\\n', '78,6.7,3.0,5.0,1.7,Iris-versicolor\\n', '79,6.0,2.9,4.5,1.5,Iris-versicolor\\n', '80,5.7,2.6,3.5,1.0,Iris-versicolor\\n', '81,5.5,2.4,3.8,1.1,Iris-versicolor\\n', '82,5.5,2.4,3.7,1.0,Iris-versicolor\\n', '83,5.8,2.7,3.9,1.2,Iris-versicolor\\n', '84,6.0,2.7,5.1,1.6,Iris-versicolor\\n', '85,5.4,3.0,4.5,1.5,Iris-versicolor\\n', '86,6.0,3.4,4.5,1.6,Iris-versicolor\\n', '87,6.7,3.1,4.7,1.5,Iris-versicolor\\n', '88,6.3,2.3,4.4,1.3,Iris-versicolor\\n', '89,5.6,3.0,4.1,1.3,Iris-versicolor\\n', '90,5.5,2.5,4.0,1.3,Iris-versicolor\\n', '91,5.5,2.6,4.4,1.2,Iris-versicolor\\n', '92,6.1,3.0,4.6,1.4,Iris-versicolor\\n', '93,5.8,2.6,4.0,1.2,Iris-versicolor\\n', '94,5.0,2.3,3.3,1.0,Iris-versicolor\\n', '95,5.6,2.7,4.2,1.3,Iris-versicolor\\n', '96,5.7,3.0,4.2,1.2,Iris-versicolor\\n', '97,5.7,2.9,4.2,1.3,Iris-versicolor\\n', '98,6.2,2.9,4.3,1.3,Iris-versicolor\\n', '99,5.1,2.5,3.0,1.1,Iris-versicolor\\n', '100,5.7,2.8,4.1,1.3,Iris-versicolor\\n', '101,6.3,3.3,6.0,2.5,Iris-virginica\\n', '102,5.8,2.7,5.1,1.9,Iris-virginica\\n', '103,7.1,3.0,5.9,2.1,Iris-virginica\\n', '104,6.3,2.9,5.6,1.8,Iris-virginica\\n', '105,6.5,3.0,5.8,2.2,Iris-virginica\\n', '106,7.6,3.0,6.6,2.1,Iris-virginica\\n', '107,4.9,2.5,4.5,1.7,Iris-virginica\\n', '108,7.3,2.9,6.3,1.8,Iris-virginica\\n', '109,6.7,2.5,5.8,1.8,Iris-virginica\\n', '110,7.2,3.6,6.1,2.5,Iris-virginica\\n', '111,6.5,3.2,5.1,2.0,Iris-virginica\\n', '112,6.4,2.7,5.3,1.9,Iris-virginica\\n', '113,6.8,3.0,5.5,2.1,Iris-virginica\\n', '114,5.7,2.5,5.0,2.0,Iris-virginica\\n', '115,5.8,2.8,5.1,2.4,Iris-virginica\\n', '116,6.4,3.2,5.3,2.3,Iris-virginica\\n', '117,6.5,3.0,5.5,1.8,Iris-virginica\\n', '118,7.7,3.8,6.7,2.2,Iris-virginica\\n', '119,7.7,2.6,6.9,2.3,Iris-virginica\\n', '120,6.0,2.2,5.0,1.5,Iris-virginica\\n', '121,6.9,3.2,5.7,2.3,Iris-virginica\\n', '122,5.6,2.8,4.9,2.0,Iris-virginica\\n', '123,7.7,2.8,6.7,2.0,Iris-virginica\\n', '124,6.3,2.7,4.9,1.8,Iris-virginica\\n', '125,6.7,3.3,5.7,2.1,Iris-virginica\\n', '126,7.2,3.2,6.0,1.8,Iris-virginica\\n', '127,6.2,2.8,4.8,1.8,Iris-virginica\\n', '128,6.1,3.0,4.9,1.8,Iris-virginica\\n', '129,6.4,2.8,5.6,2.1,Iris-virginica\\n', '130,7.2,3.0,5.8,1.6,Iris-virginica\\n', '131,7.4,2.8,6.1,1.9,Iris-virginica\\n', '132,7.9,3.8,6.4,2.0,Iris-virginica\\n', '133,6.4,2.8,5.6,2.2,Iris-virginica\\n', '134,6.3,2.8,5.1,1.5,Iris-virginica\\n', '135,6.1,2.6,5.6,1.4,Iris-virginica\\n', '136,7.7,3.0,6.1,2.3,Iris-virginica\\n', '137,6.3,3.4,5.6,2.4,Iris-virginica\\n', '138,6.4,3.1,5.5,1.8,Iris-virginica\\n', '139,6.0,3.0,4.8,1.8,Iris-virginica\\n', '140,6.9,3.1,5.4,2.1,Iris-virginica\\n', '141,6.7,3.1,5.6,2.4,Iris-virginica\\n', '142,6.9,3.1,5.1,2.3,Iris-virginica\\n', '143,5.8,2.7,5.1,1.9,Iris-virginica\\n', '144,6.8,3.2,5.9,2.3,Iris-virginica\\n', '145,6.7,3.3,5.7,2.5,Iris-virginica\\n', '146,6.7,3.0,5.2,2.3,Iris-virginica\\n', '147,6.3,2.5,5.0,1.9,Iris-virginica\\n', '148,6.5,3.0,5.2,2.0,Iris-virginica\\n', '149,6.2,3.4,5.4,2.3,Iris-virginica\\n', '150,5.9,3.0,5.1,1.8,Iris-virginica\\n']\n",
            "151\n"
          ]
        }
      ]
    },
    {
      "cell_type": "code",
      "metadata": {
        "id": "Qc2PA9M5K0Aj",
        "outputId": "6022217c-4491-4e7f-a6d4-e5d863530968",
        "colab": {
          "base_uri": "https://localhost:8080/",
          "height": 46
        }
      },
      "source": [
        "ok.check('e03_2.py')"
      ],
      "execution_count": null,
      "outputs": [
        {
          "output_type": "execute_result",
          "data": {
            "text/plain": [
              "<gofer.ok.OKTestsResult at 0x7f6f29222c80>"
            ],
            "text/html": [
              "\n",
              "    \n",
              "    \n",
              "        <p>All tests passed!</p>\n",
              "    \n",
              "    "
            ]
          },
          "metadata": {},
          "execution_count": 194
        }
      ]
    },
    {
      "cell_type": "markdown",
      "metadata": {
        "id": "l484x8LxMIuX"
      },
      "source": [
        "# 3 Remoção de Cabeçalho e Contagem de Linhas\n",
        "\n",
        "Utilizando a mesma variável `d0`, agora remova o cabeçalho (que deve ser o primeiro elemento da lista), e conte as linhas de dados. Grave o total de linhas numa variável de nome `total`."
      ]
    },
    {
      "cell_type": "code",
      "metadata": {
        "id": "wJf05VUmMG8S",
        "outputId": "e3b5b0af-0516-488d-dafc-76dc92fdb73f",
        "colab": {
          "base_uri": "https://localhost:8080/"
        }
      },
      "source": [
        "# Remoção do cabeçalho utilizando decode\n",
        "if d0:\n",
        "    d0.pop(0)  # Removendo o primeiro elemento (cabeçalho) da lista\n",
        "\n",
        "# Total de linhas de dados\n",
        "total = len(d0)\n",
        "print(total)\n",
        "# 'total' agora contém o número total de linhas de dados após a remoção do cabeçalho\n",
        "\n",
        "print(d0)"
      ],
      "execution_count": null,
      "outputs": [
        {
          "output_type": "stream",
          "name": "stdout",
          "text": [
            "150\n",
            "['1,5.1,3.5,1.4,0.2,Iris-setosa\\n', '2,4.9,3.0,1.4,0.2,Iris-setosa\\n', '3,4.7,3.2,1.3,0.2,Iris-setosa\\n', '4,4.6,3.1,1.5,0.2,Iris-setosa\\n', '5,5.0,3.6,1.4,0.2,Iris-setosa\\n', '6,5.4,3.9,1.7,0.4,Iris-setosa\\n', '7,4.6,3.4,1.4,0.3,Iris-setosa\\n', '8,5.0,3.4,1.5,0.2,Iris-setosa\\n', '9,4.4,2.9,1.4,0.2,Iris-setosa\\n', '10,4.9,3.1,1.5,0.1,Iris-setosa\\n', '11,5.4,3.7,1.5,0.2,Iris-setosa\\n', '12,4.8,3.4,1.6,0.2,Iris-setosa\\n', '13,4.8,3.0,1.4,0.1,Iris-setosa\\n', '14,4.3,3.0,1.1,0.1,Iris-setosa\\n', '15,5.8,4.0,1.2,0.2,Iris-setosa\\n', '16,5.7,4.4,1.5,0.4,Iris-setosa\\n', '17,5.4,3.9,1.3,0.4,Iris-setosa\\n', '18,5.1,3.5,1.4,0.3,Iris-setosa\\n', '19,5.7,3.8,1.7,0.3,Iris-setosa\\n', '20,5.1,3.8,1.5,0.3,Iris-setosa\\n', '21,5.4,3.4,1.7,0.2,Iris-setosa\\n', '22,5.1,3.7,1.5,0.4,Iris-setosa\\n', '23,4.6,3.6,1.0,0.2,Iris-setosa\\n', '24,5.1,3.3,1.7,0.5,Iris-setosa\\n', '25,4.8,3.4,1.9,0.2,Iris-setosa\\n', '26,5.0,3.0,1.6,0.2,Iris-setosa\\n', '27,5.0,3.4,1.6,0.4,Iris-setosa\\n', '28,5.2,3.5,1.5,0.2,Iris-setosa\\n', '29,5.2,3.4,1.4,0.2,Iris-setosa\\n', '30,4.7,3.2,1.6,0.2,Iris-setosa\\n', '31,4.8,3.1,1.6,0.2,Iris-setosa\\n', '32,5.4,3.4,1.5,0.4,Iris-setosa\\n', '33,5.2,4.1,1.5,0.1,Iris-setosa\\n', '34,5.5,4.2,1.4,0.2,Iris-setosa\\n', '35,4.9,3.1,1.5,0.1,Iris-setosa\\n', '36,5.0,3.2,1.2,0.2,Iris-setosa\\n', '37,5.5,3.5,1.3,0.2,Iris-setosa\\n', '38,4.9,3.1,1.5,0.1,Iris-setosa\\n', '39,4.4,3.0,1.3,0.2,Iris-setosa\\n', '40,5.1,3.4,1.5,0.2,Iris-setosa\\n', '41,5.0,3.5,1.3,0.3,Iris-setosa\\n', '42,4.5,2.3,1.3,0.3,Iris-setosa\\n', '43,4.4,3.2,1.3,0.2,Iris-setosa\\n', '44,5.0,3.5,1.6,0.6,Iris-setosa\\n', '45,5.1,3.8,1.9,0.4,Iris-setosa\\n', '46,4.8,3.0,1.4,0.3,Iris-setosa\\n', '47,5.1,3.8,1.6,0.2,Iris-setosa\\n', '48,4.6,3.2,1.4,0.2,Iris-setosa\\n', '49,5.3,3.7,1.5,0.2,Iris-setosa\\n', '50,5.0,3.3,1.4,0.2,Iris-setosa\\n', '51,7.0,3.2,4.7,1.4,Iris-versicolor\\n', '52,6.4,3.2,4.5,1.5,Iris-versicolor\\n', '53,6.9,3.1,4.9,1.5,Iris-versicolor\\n', '54,5.5,2.3,4.0,1.3,Iris-versicolor\\n', '55,6.5,2.8,4.6,1.5,Iris-versicolor\\n', '56,5.7,2.8,4.5,1.3,Iris-versicolor\\n', '57,6.3,3.3,4.7,1.6,Iris-versicolor\\n', '58,4.9,2.4,3.3,1.0,Iris-versicolor\\n', '59,6.6,2.9,4.6,1.3,Iris-versicolor\\n', '60,5.2,2.7,3.9,1.4,Iris-versicolor\\n', '61,5.0,2.0,3.5,1.0,Iris-versicolor\\n', '62,5.9,3.0,4.2,1.5,Iris-versicolor\\n', '63,6.0,2.2,4.0,1.0,Iris-versicolor\\n', '64,6.1,2.9,4.7,1.4,Iris-versicolor\\n', '65,5.6,2.9,3.6,1.3,Iris-versicolor\\n', '66,6.7,3.1,4.4,1.4,Iris-versicolor\\n', '67,5.6,3.0,4.5,1.5,Iris-versicolor\\n', '68,5.8,2.7,4.1,1.0,Iris-versicolor\\n', '69,6.2,2.2,4.5,1.5,Iris-versicolor\\n', '70,5.6,2.5,3.9,1.1,Iris-versicolor\\n', '71,5.9,3.2,4.8,1.8,Iris-versicolor\\n', '72,6.1,2.8,4.0,1.3,Iris-versicolor\\n', '73,6.3,2.5,4.9,1.5,Iris-versicolor\\n', '74,6.1,2.8,4.7,1.2,Iris-versicolor\\n', '75,6.4,2.9,4.3,1.3,Iris-versicolor\\n', '76,6.6,3.0,4.4,1.4,Iris-versicolor\\n', '77,6.8,2.8,4.8,1.4,Iris-versicolor\\n', '78,6.7,3.0,5.0,1.7,Iris-versicolor\\n', '79,6.0,2.9,4.5,1.5,Iris-versicolor\\n', '80,5.7,2.6,3.5,1.0,Iris-versicolor\\n', '81,5.5,2.4,3.8,1.1,Iris-versicolor\\n', '82,5.5,2.4,3.7,1.0,Iris-versicolor\\n', '83,5.8,2.7,3.9,1.2,Iris-versicolor\\n', '84,6.0,2.7,5.1,1.6,Iris-versicolor\\n', '85,5.4,3.0,4.5,1.5,Iris-versicolor\\n', '86,6.0,3.4,4.5,1.6,Iris-versicolor\\n', '87,6.7,3.1,4.7,1.5,Iris-versicolor\\n', '88,6.3,2.3,4.4,1.3,Iris-versicolor\\n', '89,5.6,3.0,4.1,1.3,Iris-versicolor\\n', '90,5.5,2.5,4.0,1.3,Iris-versicolor\\n', '91,5.5,2.6,4.4,1.2,Iris-versicolor\\n', '92,6.1,3.0,4.6,1.4,Iris-versicolor\\n', '93,5.8,2.6,4.0,1.2,Iris-versicolor\\n', '94,5.0,2.3,3.3,1.0,Iris-versicolor\\n', '95,5.6,2.7,4.2,1.3,Iris-versicolor\\n', '96,5.7,3.0,4.2,1.2,Iris-versicolor\\n', '97,5.7,2.9,4.2,1.3,Iris-versicolor\\n', '98,6.2,2.9,4.3,1.3,Iris-versicolor\\n', '99,5.1,2.5,3.0,1.1,Iris-versicolor\\n', '100,5.7,2.8,4.1,1.3,Iris-versicolor\\n', '101,6.3,3.3,6.0,2.5,Iris-virginica\\n', '102,5.8,2.7,5.1,1.9,Iris-virginica\\n', '103,7.1,3.0,5.9,2.1,Iris-virginica\\n', '104,6.3,2.9,5.6,1.8,Iris-virginica\\n', '105,6.5,3.0,5.8,2.2,Iris-virginica\\n', '106,7.6,3.0,6.6,2.1,Iris-virginica\\n', '107,4.9,2.5,4.5,1.7,Iris-virginica\\n', '108,7.3,2.9,6.3,1.8,Iris-virginica\\n', '109,6.7,2.5,5.8,1.8,Iris-virginica\\n', '110,7.2,3.6,6.1,2.5,Iris-virginica\\n', '111,6.5,3.2,5.1,2.0,Iris-virginica\\n', '112,6.4,2.7,5.3,1.9,Iris-virginica\\n', '113,6.8,3.0,5.5,2.1,Iris-virginica\\n', '114,5.7,2.5,5.0,2.0,Iris-virginica\\n', '115,5.8,2.8,5.1,2.4,Iris-virginica\\n', '116,6.4,3.2,5.3,2.3,Iris-virginica\\n', '117,6.5,3.0,5.5,1.8,Iris-virginica\\n', '118,7.7,3.8,6.7,2.2,Iris-virginica\\n', '119,7.7,2.6,6.9,2.3,Iris-virginica\\n', '120,6.0,2.2,5.0,1.5,Iris-virginica\\n', '121,6.9,3.2,5.7,2.3,Iris-virginica\\n', '122,5.6,2.8,4.9,2.0,Iris-virginica\\n', '123,7.7,2.8,6.7,2.0,Iris-virginica\\n', '124,6.3,2.7,4.9,1.8,Iris-virginica\\n', '125,6.7,3.3,5.7,2.1,Iris-virginica\\n', '126,7.2,3.2,6.0,1.8,Iris-virginica\\n', '127,6.2,2.8,4.8,1.8,Iris-virginica\\n', '128,6.1,3.0,4.9,1.8,Iris-virginica\\n', '129,6.4,2.8,5.6,2.1,Iris-virginica\\n', '130,7.2,3.0,5.8,1.6,Iris-virginica\\n', '131,7.4,2.8,6.1,1.9,Iris-virginica\\n', '132,7.9,3.8,6.4,2.0,Iris-virginica\\n', '133,6.4,2.8,5.6,2.2,Iris-virginica\\n', '134,6.3,2.8,5.1,1.5,Iris-virginica\\n', '135,6.1,2.6,5.6,1.4,Iris-virginica\\n', '136,7.7,3.0,6.1,2.3,Iris-virginica\\n', '137,6.3,3.4,5.6,2.4,Iris-virginica\\n', '138,6.4,3.1,5.5,1.8,Iris-virginica\\n', '139,6.0,3.0,4.8,1.8,Iris-virginica\\n', '140,6.9,3.1,5.4,2.1,Iris-virginica\\n', '141,6.7,3.1,5.6,2.4,Iris-virginica\\n', '142,6.9,3.1,5.1,2.3,Iris-virginica\\n', '143,5.8,2.7,5.1,1.9,Iris-virginica\\n', '144,6.8,3.2,5.9,2.3,Iris-virginica\\n', '145,6.7,3.3,5.7,2.5,Iris-virginica\\n', '146,6.7,3.0,5.2,2.3,Iris-virginica\\n', '147,6.3,2.5,5.0,1.9,Iris-virginica\\n', '148,6.5,3.0,5.2,2.0,Iris-virginica\\n', '149,6.2,3.4,5.4,2.3,Iris-virginica\\n', '150,5.9,3.0,5.1,1.8,Iris-virginica\\n']\n"
          ]
        }
      ]
    },
    {
      "cell_type": "code",
      "metadata": {
        "id": "enzMyPuXNStY",
        "outputId": "e24a17aa-f396-4ec4-c65b-580faf1f1530",
        "colab": {
          "base_uri": "https://localhost:8080/",
          "height": 46
        }
      },
      "source": [
        "ok.check('e03_3.py')"
      ],
      "execution_count": null,
      "outputs": [
        {
          "output_type": "execute_result",
          "data": {
            "text/plain": [
              "<gofer.ok.OKTestsResult at 0x7f6f29223b20>"
            ],
            "text/html": [
              "\n",
              "    \n",
              "    \n",
              "        <p>All tests passed!</p>\n",
              "    \n",
              "    "
            ]
          },
          "metadata": {},
          "execution_count": 196
        }
      ]
    },
    {
      "cell_type": "markdown",
      "metadata": {
        "id": "QkryWu5dOa76"
      },
      "source": [
        "# 4 Remoção de Novas Linhas\n",
        "\n",
        "Crie uma nova lista numa variável de nome `d1` onde cada elemento de `d1` corresponda à versão do mesmo elemento em `d0`, removendo o caractere de nova linha `\\n` que aparece ao final de cada item. Assegure-se de que cada elemento da lista `d1` seja uma string simples (dependendo como você fez o upload, pode acontecer dos elementos estarem codificados, então decodifique caso necessário)."
      ]
    },
    {
      "cell_type": "code",
      "metadata": {
        "id": "7Chnp2TNOxH8",
        "outputId": "1d871388-07c7-44bb-9eb0-ca77ea6b8e2f",
        "colab": {
          "base_uri": "https://localhost:8080/"
        }
      },
      "source": [
        "# Nova lista d1 para armazenar os elementos sem o '\\n'\n",
        "d1 = []\n",
        "\n",
        "# Iteração sobre os elementos em d0\n",
        "for elemento in d0:\n",
        "    # Método strip() para remover '\\n' do início e do final de cada elemento\n",
        "    data = elemento.strip()\n",
        "\n",
        "    # Adicionando o elemento modificado à lista d1\n",
        "    d1.append(data)\n",
        "\n",
        "# Agora d1 contém os elementos de d0 sem o '\\n'\n",
        "print(d1)"
      ],
      "execution_count": null,
      "outputs": [
        {
          "output_type": "stream",
          "name": "stdout",
          "text": [
            "['1,5.1,3.5,1.4,0.2,Iris-setosa', '2,4.9,3.0,1.4,0.2,Iris-setosa', '3,4.7,3.2,1.3,0.2,Iris-setosa', '4,4.6,3.1,1.5,0.2,Iris-setosa', '5,5.0,3.6,1.4,0.2,Iris-setosa', '6,5.4,3.9,1.7,0.4,Iris-setosa', '7,4.6,3.4,1.4,0.3,Iris-setosa', '8,5.0,3.4,1.5,0.2,Iris-setosa', '9,4.4,2.9,1.4,0.2,Iris-setosa', '10,4.9,3.1,1.5,0.1,Iris-setosa', '11,5.4,3.7,1.5,0.2,Iris-setosa', '12,4.8,3.4,1.6,0.2,Iris-setosa', '13,4.8,3.0,1.4,0.1,Iris-setosa', '14,4.3,3.0,1.1,0.1,Iris-setosa', '15,5.8,4.0,1.2,0.2,Iris-setosa', '16,5.7,4.4,1.5,0.4,Iris-setosa', '17,5.4,3.9,1.3,0.4,Iris-setosa', '18,5.1,3.5,1.4,0.3,Iris-setosa', '19,5.7,3.8,1.7,0.3,Iris-setosa', '20,5.1,3.8,1.5,0.3,Iris-setosa', '21,5.4,3.4,1.7,0.2,Iris-setosa', '22,5.1,3.7,1.5,0.4,Iris-setosa', '23,4.6,3.6,1.0,0.2,Iris-setosa', '24,5.1,3.3,1.7,0.5,Iris-setosa', '25,4.8,3.4,1.9,0.2,Iris-setosa', '26,5.0,3.0,1.6,0.2,Iris-setosa', '27,5.0,3.4,1.6,0.4,Iris-setosa', '28,5.2,3.5,1.5,0.2,Iris-setosa', '29,5.2,3.4,1.4,0.2,Iris-setosa', '30,4.7,3.2,1.6,0.2,Iris-setosa', '31,4.8,3.1,1.6,0.2,Iris-setosa', '32,5.4,3.4,1.5,0.4,Iris-setosa', '33,5.2,4.1,1.5,0.1,Iris-setosa', '34,5.5,4.2,1.4,0.2,Iris-setosa', '35,4.9,3.1,1.5,0.1,Iris-setosa', '36,5.0,3.2,1.2,0.2,Iris-setosa', '37,5.5,3.5,1.3,0.2,Iris-setosa', '38,4.9,3.1,1.5,0.1,Iris-setosa', '39,4.4,3.0,1.3,0.2,Iris-setosa', '40,5.1,3.4,1.5,0.2,Iris-setosa', '41,5.0,3.5,1.3,0.3,Iris-setosa', '42,4.5,2.3,1.3,0.3,Iris-setosa', '43,4.4,3.2,1.3,0.2,Iris-setosa', '44,5.0,3.5,1.6,0.6,Iris-setosa', '45,5.1,3.8,1.9,0.4,Iris-setosa', '46,4.8,3.0,1.4,0.3,Iris-setosa', '47,5.1,3.8,1.6,0.2,Iris-setosa', '48,4.6,3.2,1.4,0.2,Iris-setosa', '49,5.3,3.7,1.5,0.2,Iris-setosa', '50,5.0,3.3,1.4,0.2,Iris-setosa', '51,7.0,3.2,4.7,1.4,Iris-versicolor', '52,6.4,3.2,4.5,1.5,Iris-versicolor', '53,6.9,3.1,4.9,1.5,Iris-versicolor', '54,5.5,2.3,4.0,1.3,Iris-versicolor', '55,6.5,2.8,4.6,1.5,Iris-versicolor', '56,5.7,2.8,4.5,1.3,Iris-versicolor', '57,6.3,3.3,4.7,1.6,Iris-versicolor', '58,4.9,2.4,3.3,1.0,Iris-versicolor', '59,6.6,2.9,4.6,1.3,Iris-versicolor', '60,5.2,2.7,3.9,1.4,Iris-versicolor', '61,5.0,2.0,3.5,1.0,Iris-versicolor', '62,5.9,3.0,4.2,1.5,Iris-versicolor', '63,6.0,2.2,4.0,1.0,Iris-versicolor', '64,6.1,2.9,4.7,1.4,Iris-versicolor', '65,5.6,2.9,3.6,1.3,Iris-versicolor', '66,6.7,3.1,4.4,1.4,Iris-versicolor', '67,5.6,3.0,4.5,1.5,Iris-versicolor', '68,5.8,2.7,4.1,1.0,Iris-versicolor', '69,6.2,2.2,4.5,1.5,Iris-versicolor', '70,5.6,2.5,3.9,1.1,Iris-versicolor', '71,5.9,3.2,4.8,1.8,Iris-versicolor', '72,6.1,2.8,4.0,1.3,Iris-versicolor', '73,6.3,2.5,4.9,1.5,Iris-versicolor', '74,6.1,2.8,4.7,1.2,Iris-versicolor', '75,6.4,2.9,4.3,1.3,Iris-versicolor', '76,6.6,3.0,4.4,1.4,Iris-versicolor', '77,6.8,2.8,4.8,1.4,Iris-versicolor', '78,6.7,3.0,5.0,1.7,Iris-versicolor', '79,6.0,2.9,4.5,1.5,Iris-versicolor', '80,5.7,2.6,3.5,1.0,Iris-versicolor', '81,5.5,2.4,3.8,1.1,Iris-versicolor', '82,5.5,2.4,3.7,1.0,Iris-versicolor', '83,5.8,2.7,3.9,1.2,Iris-versicolor', '84,6.0,2.7,5.1,1.6,Iris-versicolor', '85,5.4,3.0,4.5,1.5,Iris-versicolor', '86,6.0,3.4,4.5,1.6,Iris-versicolor', '87,6.7,3.1,4.7,1.5,Iris-versicolor', '88,6.3,2.3,4.4,1.3,Iris-versicolor', '89,5.6,3.0,4.1,1.3,Iris-versicolor', '90,5.5,2.5,4.0,1.3,Iris-versicolor', '91,5.5,2.6,4.4,1.2,Iris-versicolor', '92,6.1,3.0,4.6,1.4,Iris-versicolor', '93,5.8,2.6,4.0,1.2,Iris-versicolor', '94,5.0,2.3,3.3,1.0,Iris-versicolor', '95,5.6,2.7,4.2,1.3,Iris-versicolor', '96,5.7,3.0,4.2,1.2,Iris-versicolor', '97,5.7,2.9,4.2,1.3,Iris-versicolor', '98,6.2,2.9,4.3,1.3,Iris-versicolor', '99,5.1,2.5,3.0,1.1,Iris-versicolor', '100,5.7,2.8,4.1,1.3,Iris-versicolor', '101,6.3,3.3,6.0,2.5,Iris-virginica', '102,5.8,2.7,5.1,1.9,Iris-virginica', '103,7.1,3.0,5.9,2.1,Iris-virginica', '104,6.3,2.9,5.6,1.8,Iris-virginica', '105,6.5,3.0,5.8,2.2,Iris-virginica', '106,7.6,3.0,6.6,2.1,Iris-virginica', '107,4.9,2.5,4.5,1.7,Iris-virginica', '108,7.3,2.9,6.3,1.8,Iris-virginica', '109,6.7,2.5,5.8,1.8,Iris-virginica', '110,7.2,3.6,6.1,2.5,Iris-virginica', '111,6.5,3.2,5.1,2.0,Iris-virginica', '112,6.4,2.7,5.3,1.9,Iris-virginica', '113,6.8,3.0,5.5,2.1,Iris-virginica', '114,5.7,2.5,5.0,2.0,Iris-virginica', '115,5.8,2.8,5.1,2.4,Iris-virginica', '116,6.4,3.2,5.3,2.3,Iris-virginica', '117,6.5,3.0,5.5,1.8,Iris-virginica', '118,7.7,3.8,6.7,2.2,Iris-virginica', '119,7.7,2.6,6.9,2.3,Iris-virginica', '120,6.0,2.2,5.0,1.5,Iris-virginica', '121,6.9,3.2,5.7,2.3,Iris-virginica', '122,5.6,2.8,4.9,2.0,Iris-virginica', '123,7.7,2.8,6.7,2.0,Iris-virginica', '124,6.3,2.7,4.9,1.8,Iris-virginica', '125,6.7,3.3,5.7,2.1,Iris-virginica', '126,7.2,3.2,6.0,1.8,Iris-virginica', '127,6.2,2.8,4.8,1.8,Iris-virginica', '128,6.1,3.0,4.9,1.8,Iris-virginica', '129,6.4,2.8,5.6,2.1,Iris-virginica', '130,7.2,3.0,5.8,1.6,Iris-virginica', '131,7.4,2.8,6.1,1.9,Iris-virginica', '132,7.9,3.8,6.4,2.0,Iris-virginica', '133,6.4,2.8,5.6,2.2,Iris-virginica', '134,6.3,2.8,5.1,1.5,Iris-virginica', '135,6.1,2.6,5.6,1.4,Iris-virginica', '136,7.7,3.0,6.1,2.3,Iris-virginica', '137,6.3,3.4,5.6,2.4,Iris-virginica', '138,6.4,3.1,5.5,1.8,Iris-virginica', '139,6.0,3.0,4.8,1.8,Iris-virginica', '140,6.9,3.1,5.4,2.1,Iris-virginica', '141,6.7,3.1,5.6,2.4,Iris-virginica', '142,6.9,3.1,5.1,2.3,Iris-virginica', '143,5.8,2.7,5.1,1.9,Iris-virginica', '144,6.8,3.2,5.9,2.3,Iris-virginica', '145,6.7,3.3,5.7,2.5,Iris-virginica', '146,6.7,3.0,5.2,2.3,Iris-virginica', '147,6.3,2.5,5.0,1.9,Iris-virginica', '148,6.5,3.0,5.2,2.0,Iris-virginica', '149,6.2,3.4,5.4,2.3,Iris-virginica', '150,5.9,3.0,5.1,1.8,Iris-virginica']\n"
          ]
        }
      ]
    },
    {
      "cell_type": "code",
      "metadata": {
        "id": "vDTFG50XP9Xt",
        "outputId": "ff78d5c5-b6b9-4efd-9420-252401522437",
        "colab": {
          "base_uri": "https://localhost:8080/",
          "height": 46
        }
      },
      "source": [
        "ok.check('e03_4.py')"
      ],
      "execution_count": null,
      "outputs": [
        {
          "output_type": "execute_result",
          "data": {
            "text/plain": [
              "<gofer.ok.OKTestsResult at 0x7f6f29223ac0>"
            ],
            "text/html": [
              "\n",
              "    \n",
              "    \n",
              "        <p>All tests passed!</p>\n",
              "    \n",
              "    "
            ]
          },
          "metadata": {},
          "execution_count": 198
        }
      ]
    },
    {
      "cell_type": "markdown",
      "metadata": {
        "id": "xjcb4NF-Skxg"
      },
      "source": [
        "# 5 Separação por Vírgulas\n",
        "\n",
        "Crie uma nova lista em uma variável de nome `d2` onde cada elemento dessa lista seja uma sublista contendo as strings correspondentes a cada dado da string original, usando a vírgula como separador.\n",
        "\n",
        "Por exemplo, transforme isso:\n",
        "\n",
        "`'14,4.3,3.0,1.1,0.1,Iris-setosa'`\n",
        "\n",
        "nisso:\n",
        "\n",
        "`['14', '4.3', '3.0', '1.1', '0.1', 'Iris-setosa']`\n",
        "\n",
        "Faça isso para todos elementos, na mesma ordem da lista original, gravando o resultado em `d2`.\n"
      ]
    },
    {
      "cell_type": "code",
      "metadata": {
        "id": "s08w5UV6Tij9",
        "outputId": "09f530dd-54cf-4981-8bb8-00effeb8544a",
        "colab": {
          "base_uri": "https://localhost:8080/"
        }
      },
      "source": [
        "# Nova lista d2 para armazenar as sublistas\n",
        "d2 = []\n",
        "\n",
        "# Iteração sobre os elementos em d1\n",
        "for elemento in d1:\n",
        "    # Usando a função split(',') para separar os dados por vírgulas\n",
        "    dados_separados = elemento.split(',')\n",
        "\n",
        "    # Adicionando a lista de dados separados à lista d2\n",
        "    d2.append(dados_separados)\n",
        "\n",
        "# Agora d2 contém as sublistas de dados separados por vírgulas\n",
        "print(d2)"
      ],
      "execution_count": null,
      "outputs": [
        {
          "output_type": "stream",
          "name": "stdout",
          "text": [
            "[['1', '5.1', '3.5', '1.4', '0.2', 'Iris-setosa'], ['2', '4.9', '3.0', '1.4', '0.2', 'Iris-setosa'], ['3', '4.7', '3.2', '1.3', '0.2', 'Iris-setosa'], ['4', '4.6', '3.1', '1.5', '0.2', 'Iris-setosa'], ['5', '5.0', '3.6', '1.4', '0.2', 'Iris-setosa'], ['6', '5.4', '3.9', '1.7', '0.4', 'Iris-setosa'], ['7', '4.6', '3.4', '1.4', '0.3', 'Iris-setosa'], ['8', '5.0', '3.4', '1.5', '0.2', 'Iris-setosa'], ['9', '4.4', '2.9', '1.4', '0.2', 'Iris-setosa'], ['10', '4.9', '3.1', '1.5', '0.1', 'Iris-setosa'], ['11', '5.4', '3.7', '1.5', '0.2', 'Iris-setosa'], ['12', '4.8', '3.4', '1.6', '0.2', 'Iris-setosa'], ['13', '4.8', '3.0', '1.4', '0.1', 'Iris-setosa'], ['14', '4.3', '3.0', '1.1', '0.1', 'Iris-setosa'], ['15', '5.8', '4.0', '1.2', '0.2', 'Iris-setosa'], ['16', '5.7', '4.4', '1.5', '0.4', 'Iris-setosa'], ['17', '5.4', '3.9', '1.3', '0.4', 'Iris-setosa'], ['18', '5.1', '3.5', '1.4', '0.3', 'Iris-setosa'], ['19', '5.7', '3.8', '1.7', '0.3', 'Iris-setosa'], ['20', '5.1', '3.8', '1.5', '0.3', 'Iris-setosa'], ['21', '5.4', '3.4', '1.7', '0.2', 'Iris-setosa'], ['22', '5.1', '3.7', '1.5', '0.4', 'Iris-setosa'], ['23', '4.6', '3.6', '1.0', '0.2', 'Iris-setosa'], ['24', '5.1', '3.3', '1.7', '0.5', 'Iris-setosa'], ['25', '4.8', '3.4', '1.9', '0.2', 'Iris-setosa'], ['26', '5.0', '3.0', '1.6', '0.2', 'Iris-setosa'], ['27', '5.0', '3.4', '1.6', '0.4', 'Iris-setosa'], ['28', '5.2', '3.5', '1.5', '0.2', 'Iris-setosa'], ['29', '5.2', '3.4', '1.4', '0.2', 'Iris-setosa'], ['30', '4.7', '3.2', '1.6', '0.2', 'Iris-setosa'], ['31', '4.8', '3.1', '1.6', '0.2', 'Iris-setosa'], ['32', '5.4', '3.4', '1.5', '0.4', 'Iris-setosa'], ['33', '5.2', '4.1', '1.5', '0.1', 'Iris-setosa'], ['34', '5.5', '4.2', '1.4', '0.2', 'Iris-setosa'], ['35', '4.9', '3.1', '1.5', '0.1', 'Iris-setosa'], ['36', '5.0', '3.2', '1.2', '0.2', 'Iris-setosa'], ['37', '5.5', '3.5', '1.3', '0.2', 'Iris-setosa'], ['38', '4.9', '3.1', '1.5', '0.1', 'Iris-setosa'], ['39', '4.4', '3.0', '1.3', '0.2', 'Iris-setosa'], ['40', '5.1', '3.4', '1.5', '0.2', 'Iris-setosa'], ['41', '5.0', '3.5', '1.3', '0.3', 'Iris-setosa'], ['42', '4.5', '2.3', '1.3', '0.3', 'Iris-setosa'], ['43', '4.4', '3.2', '1.3', '0.2', 'Iris-setosa'], ['44', '5.0', '3.5', '1.6', '0.6', 'Iris-setosa'], ['45', '5.1', '3.8', '1.9', '0.4', 'Iris-setosa'], ['46', '4.8', '3.0', '1.4', '0.3', 'Iris-setosa'], ['47', '5.1', '3.8', '1.6', '0.2', 'Iris-setosa'], ['48', '4.6', '3.2', '1.4', '0.2', 'Iris-setosa'], ['49', '5.3', '3.7', '1.5', '0.2', 'Iris-setosa'], ['50', '5.0', '3.3', '1.4', '0.2', 'Iris-setosa'], ['51', '7.0', '3.2', '4.7', '1.4', 'Iris-versicolor'], ['52', '6.4', '3.2', '4.5', '1.5', 'Iris-versicolor'], ['53', '6.9', '3.1', '4.9', '1.5', 'Iris-versicolor'], ['54', '5.5', '2.3', '4.0', '1.3', 'Iris-versicolor'], ['55', '6.5', '2.8', '4.6', '1.5', 'Iris-versicolor'], ['56', '5.7', '2.8', '4.5', '1.3', 'Iris-versicolor'], ['57', '6.3', '3.3', '4.7', '1.6', 'Iris-versicolor'], ['58', '4.9', '2.4', '3.3', '1.0', 'Iris-versicolor'], ['59', '6.6', '2.9', '4.6', '1.3', 'Iris-versicolor'], ['60', '5.2', '2.7', '3.9', '1.4', 'Iris-versicolor'], ['61', '5.0', '2.0', '3.5', '1.0', 'Iris-versicolor'], ['62', '5.9', '3.0', '4.2', '1.5', 'Iris-versicolor'], ['63', '6.0', '2.2', '4.0', '1.0', 'Iris-versicolor'], ['64', '6.1', '2.9', '4.7', '1.4', 'Iris-versicolor'], ['65', '5.6', '2.9', '3.6', '1.3', 'Iris-versicolor'], ['66', '6.7', '3.1', '4.4', '1.4', 'Iris-versicolor'], ['67', '5.6', '3.0', '4.5', '1.5', 'Iris-versicolor'], ['68', '5.8', '2.7', '4.1', '1.0', 'Iris-versicolor'], ['69', '6.2', '2.2', '4.5', '1.5', 'Iris-versicolor'], ['70', '5.6', '2.5', '3.9', '1.1', 'Iris-versicolor'], ['71', '5.9', '3.2', '4.8', '1.8', 'Iris-versicolor'], ['72', '6.1', '2.8', '4.0', '1.3', 'Iris-versicolor'], ['73', '6.3', '2.5', '4.9', '1.5', 'Iris-versicolor'], ['74', '6.1', '2.8', '4.7', '1.2', 'Iris-versicolor'], ['75', '6.4', '2.9', '4.3', '1.3', 'Iris-versicolor'], ['76', '6.6', '3.0', '4.4', '1.4', 'Iris-versicolor'], ['77', '6.8', '2.8', '4.8', '1.4', 'Iris-versicolor'], ['78', '6.7', '3.0', '5.0', '1.7', 'Iris-versicolor'], ['79', '6.0', '2.9', '4.5', '1.5', 'Iris-versicolor'], ['80', '5.7', '2.6', '3.5', '1.0', 'Iris-versicolor'], ['81', '5.5', '2.4', '3.8', '1.1', 'Iris-versicolor'], ['82', '5.5', '2.4', '3.7', '1.0', 'Iris-versicolor'], ['83', '5.8', '2.7', '3.9', '1.2', 'Iris-versicolor'], ['84', '6.0', '2.7', '5.1', '1.6', 'Iris-versicolor'], ['85', '5.4', '3.0', '4.5', '1.5', 'Iris-versicolor'], ['86', '6.0', '3.4', '4.5', '1.6', 'Iris-versicolor'], ['87', '6.7', '3.1', '4.7', '1.5', 'Iris-versicolor'], ['88', '6.3', '2.3', '4.4', '1.3', 'Iris-versicolor'], ['89', '5.6', '3.0', '4.1', '1.3', 'Iris-versicolor'], ['90', '5.5', '2.5', '4.0', '1.3', 'Iris-versicolor'], ['91', '5.5', '2.6', '4.4', '1.2', 'Iris-versicolor'], ['92', '6.1', '3.0', '4.6', '1.4', 'Iris-versicolor'], ['93', '5.8', '2.6', '4.0', '1.2', 'Iris-versicolor'], ['94', '5.0', '2.3', '3.3', '1.0', 'Iris-versicolor'], ['95', '5.6', '2.7', '4.2', '1.3', 'Iris-versicolor'], ['96', '5.7', '3.0', '4.2', '1.2', 'Iris-versicolor'], ['97', '5.7', '2.9', '4.2', '1.3', 'Iris-versicolor'], ['98', '6.2', '2.9', '4.3', '1.3', 'Iris-versicolor'], ['99', '5.1', '2.5', '3.0', '1.1', 'Iris-versicolor'], ['100', '5.7', '2.8', '4.1', '1.3', 'Iris-versicolor'], ['101', '6.3', '3.3', '6.0', '2.5', 'Iris-virginica'], ['102', '5.8', '2.7', '5.1', '1.9', 'Iris-virginica'], ['103', '7.1', '3.0', '5.9', '2.1', 'Iris-virginica'], ['104', '6.3', '2.9', '5.6', '1.8', 'Iris-virginica'], ['105', '6.5', '3.0', '5.8', '2.2', 'Iris-virginica'], ['106', '7.6', '3.0', '6.6', '2.1', 'Iris-virginica'], ['107', '4.9', '2.5', '4.5', '1.7', 'Iris-virginica'], ['108', '7.3', '2.9', '6.3', '1.8', 'Iris-virginica'], ['109', '6.7', '2.5', '5.8', '1.8', 'Iris-virginica'], ['110', '7.2', '3.6', '6.1', '2.5', 'Iris-virginica'], ['111', '6.5', '3.2', '5.1', '2.0', 'Iris-virginica'], ['112', '6.4', '2.7', '5.3', '1.9', 'Iris-virginica'], ['113', '6.8', '3.0', '5.5', '2.1', 'Iris-virginica'], ['114', '5.7', '2.5', '5.0', '2.0', 'Iris-virginica'], ['115', '5.8', '2.8', '5.1', '2.4', 'Iris-virginica'], ['116', '6.4', '3.2', '5.3', '2.3', 'Iris-virginica'], ['117', '6.5', '3.0', '5.5', '1.8', 'Iris-virginica'], ['118', '7.7', '3.8', '6.7', '2.2', 'Iris-virginica'], ['119', '7.7', '2.6', '6.9', '2.3', 'Iris-virginica'], ['120', '6.0', '2.2', '5.0', '1.5', 'Iris-virginica'], ['121', '6.9', '3.2', '5.7', '2.3', 'Iris-virginica'], ['122', '5.6', '2.8', '4.9', '2.0', 'Iris-virginica'], ['123', '7.7', '2.8', '6.7', '2.0', 'Iris-virginica'], ['124', '6.3', '2.7', '4.9', '1.8', 'Iris-virginica'], ['125', '6.7', '3.3', '5.7', '2.1', 'Iris-virginica'], ['126', '7.2', '3.2', '6.0', '1.8', 'Iris-virginica'], ['127', '6.2', '2.8', '4.8', '1.8', 'Iris-virginica'], ['128', '6.1', '3.0', '4.9', '1.8', 'Iris-virginica'], ['129', '6.4', '2.8', '5.6', '2.1', 'Iris-virginica'], ['130', '7.2', '3.0', '5.8', '1.6', 'Iris-virginica'], ['131', '7.4', '2.8', '6.1', '1.9', 'Iris-virginica'], ['132', '7.9', '3.8', '6.4', '2.0', 'Iris-virginica'], ['133', '6.4', '2.8', '5.6', '2.2', 'Iris-virginica'], ['134', '6.3', '2.8', '5.1', '1.5', 'Iris-virginica'], ['135', '6.1', '2.6', '5.6', '1.4', 'Iris-virginica'], ['136', '7.7', '3.0', '6.1', '2.3', 'Iris-virginica'], ['137', '6.3', '3.4', '5.6', '2.4', 'Iris-virginica'], ['138', '6.4', '3.1', '5.5', '1.8', 'Iris-virginica'], ['139', '6.0', '3.0', '4.8', '1.8', 'Iris-virginica'], ['140', '6.9', '3.1', '5.4', '2.1', 'Iris-virginica'], ['141', '6.7', '3.1', '5.6', '2.4', 'Iris-virginica'], ['142', '6.9', '3.1', '5.1', '2.3', 'Iris-virginica'], ['143', '5.8', '2.7', '5.1', '1.9', 'Iris-virginica'], ['144', '6.8', '3.2', '5.9', '2.3', 'Iris-virginica'], ['145', '6.7', '3.3', '5.7', '2.5', 'Iris-virginica'], ['146', '6.7', '3.0', '5.2', '2.3', 'Iris-virginica'], ['147', '6.3', '2.5', '5.0', '1.9', 'Iris-virginica'], ['148', '6.5', '3.0', '5.2', '2.0', 'Iris-virginica'], ['149', '6.2', '3.4', '5.4', '2.3', 'Iris-virginica'], ['150', '5.9', '3.0', '5.1', '1.8', 'Iris-virginica']]\n"
          ]
        }
      ]
    },
    {
      "cell_type": "code",
      "metadata": {
        "id": "7S7f_WeTUN_g",
        "outputId": "ebaf767d-55a1-4d25-f7ac-39b1a3adc34e",
        "colab": {
          "base_uri": "https://localhost:8080/",
          "height": 46
        }
      },
      "source": [
        "ok.check('e03_5.py')"
      ],
      "execution_count": null,
      "outputs": [
        {
          "output_type": "execute_result",
          "data": {
            "text/plain": [
              "<gofer.ok.OKTestsResult at 0x7f6f29222470>"
            ],
            "text/html": [
              "\n",
              "    \n",
              "    \n",
              "        <p>All tests passed!</p>\n",
              "    \n",
              "    "
            ]
          },
          "metadata": {},
          "execution_count": 200
        }
      ]
    },
    {
      "cell_type": "markdown",
      "metadata": {
        "id": "bczh-ZCWVNyX"
      },
      "source": [
        "# 6 Entradas de Treinamento\n",
        "\n",
        "Crie uma matriz no formato `array` do NumPy, numa variável de nome `d3`, contendo todos os dados da segunda, terceira, quarta e quinta colunas de `d2` transformados para o formato ponto flutuante (convertendo de string para número). Não inclua nem a primeira coluna (que é o id), nem a última coluna nessa conversão. Essa será a matriz de entradas."
      ]
    },
    {
      "cell_type": "code",
      "metadata": {
        "id": "18CrGLTJVMlG",
        "outputId": "9b07564a-9691-48e6-c807-37a47873fdd7",
        "colab": {
          "base_uri": "https://localhost:8080/"
        }
      },
      "source": [
        "import numpy as np\n",
        "\n",
        "# Inicializando uma lista vazia para armazenar os dados convertidos\n",
        "dados_convertidos = []\n",
        "\n",
        "# Iterando sobre as sublistas em d2\n",
        "for sublista in d2:\n",
        "    # Convertendo os elementos das colunas 2, 3, 4 e 5 para float\n",
        "    colunas_numericas = [float(sublista[i]) for i in range(1, 5)]  # Colunas 2, 3, 4 e 5 correspondem às posições 1, 2, 3 e 4 na lista\n",
        "\n",
        "    # Adicionando as colunas convertidas à lista de dados convertidos\n",
        "    dados_convertidos.append(colunas_numericas)\n",
        "\n",
        "# Convertendo a lista de dados convertidos em uma matriz NumPy\n",
        "d3 = np.array(dados_convertidos)\n",
        "\n",
        "# Agora d3 é a matriz de entradas no formato de ponto flutuante\n",
        "print(d3)"
      ],
      "execution_count": null,
      "outputs": [
        {
          "output_type": "stream",
          "name": "stdout",
          "text": [
            "[[5.1 3.5 1.4 0.2]\n",
            " [4.9 3.  1.4 0.2]\n",
            " [4.7 3.2 1.3 0.2]\n",
            " [4.6 3.1 1.5 0.2]\n",
            " [5.  3.6 1.4 0.2]\n",
            " [5.4 3.9 1.7 0.4]\n",
            " [4.6 3.4 1.4 0.3]\n",
            " [5.  3.4 1.5 0.2]\n",
            " [4.4 2.9 1.4 0.2]\n",
            " [4.9 3.1 1.5 0.1]\n",
            " [5.4 3.7 1.5 0.2]\n",
            " [4.8 3.4 1.6 0.2]\n",
            " [4.8 3.  1.4 0.1]\n",
            " [4.3 3.  1.1 0.1]\n",
            " [5.8 4.  1.2 0.2]\n",
            " [5.7 4.4 1.5 0.4]\n",
            " [5.4 3.9 1.3 0.4]\n",
            " [5.1 3.5 1.4 0.3]\n",
            " [5.7 3.8 1.7 0.3]\n",
            " [5.1 3.8 1.5 0.3]\n",
            " [5.4 3.4 1.7 0.2]\n",
            " [5.1 3.7 1.5 0.4]\n",
            " [4.6 3.6 1.  0.2]\n",
            " [5.1 3.3 1.7 0.5]\n",
            " [4.8 3.4 1.9 0.2]\n",
            " [5.  3.  1.6 0.2]\n",
            " [5.  3.4 1.6 0.4]\n",
            " [5.2 3.5 1.5 0.2]\n",
            " [5.2 3.4 1.4 0.2]\n",
            " [4.7 3.2 1.6 0.2]\n",
            " [4.8 3.1 1.6 0.2]\n",
            " [5.4 3.4 1.5 0.4]\n",
            " [5.2 4.1 1.5 0.1]\n",
            " [5.5 4.2 1.4 0.2]\n",
            " [4.9 3.1 1.5 0.1]\n",
            " [5.  3.2 1.2 0.2]\n",
            " [5.5 3.5 1.3 0.2]\n",
            " [4.9 3.1 1.5 0.1]\n",
            " [4.4 3.  1.3 0.2]\n",
            " [5.1 3.4 1.5 0.2]\n",
            " [5.  3.5 1.3 0.3]\n",
            " [4.5 2.3 1.3 0.3]\n",
            " [4.4 3.2 1.3 0.2]\n",
            " [5.  3.5 1.6 0.6]\n",
            " [5.1 3.8 1.9 0.4]\n",
            " [4.8 3.  1.4 0.3]\n",
            " [5.1 3.8 1.6 0.2]\n",
            " [4.6 3.2 1.4 0.2]\n",
            " [5.3 3.7 1.5 0.2]\n",
            " [5.  3.3 1.4 0.2]\n",
            " [7.  3.2 4.7 1.4]\n",
            " [6.4 3.2 4.5 1.5]\n",
            " [6.9 3.1 4.9 1.5]\n",
            " [5.5 2.3 4.  1.3]\n",
            " [6.5 2.8 4.6 1.5]\n",
            " [5.7 2.8 4.5 1.3]\n",
            " [6.3 3.3 4.7 1.6]\n",
            " [4.9 2.4 3.3 1. ]\n",
            " [6.6 2.9 4.6 1.3]\n",
            " [5.2 2.7 3.9 1.4]\n",
            " [5.  2.  3.5 1. ]\n",
            " [5.9 3.  4.2 1.5]\n",
            " [6.  2.2 4.  1. ]\n",
            " [6.1 2.9 4.7 1.4]\n",
            " [5.6 2.9 3.6 1.3]\n",
            " [6.7 3.1 4.4 1.4]\n",
            " [5.6 3.  4.5 1.5]\n",
            " [5.8 2.7 4.1 1. ]\n",
            " [6.2 2.2 4.5 1.5]\n",
            " [5.6 2.5 3.9 1.1]\n",
            " [5.9 3.2 4.8 1.8]\n",
            " [6.1 2.8 4.  1.3]\n",
            " [6.3 2.5 4.9 1.5]\n",
            " [6.1 2.8 4.7 1.2]\n",
            " [6.4 2.9 4.3 1.3]\n",
            " [6.6 3.  4.4 1.4]\n",
            " [6.8 2.8 4.8 1.4]\n",
            " [6.7 3.  5.  1.7]\n",
            " [6.  2.9 4.5 1.5]\n",
            " [5.7 2.6 3.5 1. ]\n",
            " [5.5 2.4 3.8 1.1]\n",
            " [5.5 2.4 3.7 1. ]\n",
            " [5.8 2.7 3.9 1.2]\n",
            " [6.  2.7 5.1 1.6]\n",
            " [5.4 3.  4.5 1.5]\n",
            " [6.  3.4 4.5 1.6]\n",
            " [6.7 3.1 4.7 1.5]\n",
            " [6.3 2.3 4.4 1.3]\n",
            " [5.6 3.  4.1 1.3]\n",
            " [5.5 2.5 4.  1.3]\n",
            " [5.5 2.6 4.4 1.2]\n",
            " [6.1 3.  4.6 1.4]\n",
            " [5.8 2.6 4.  1.2]\n",
            " [5.  2.3 3.3 1. ]\n",
            " [5.6 2.7 4.2 1.3]\n",
            " [5.7 3.  4.2 1.2]\n",
            " [5.7 2.9 4.2 1.3]\n",
            " [6.2 2.9 4.3 1.3]\n",
            " [5.1 2.5 3.  1.1]\n",
            " [5.7 2.8 4.1 1.3]\n",
            " [6.3 3.3 6.  2.5]\n",
            " [5.8 2.7 5.1 1.9]\n",
            " [7.1 3.  5.9 2.1]\n",
            " [6.3 2.9 5.6 1.8]\n",
            " [6.5 3.  5.8 2.2]\n",
            " [7.6 3.  6.6 2.1]\n",
            " [4.9 2.5 4.5 1.7]\n",
            " [7.3 2.9 6.3 1.8]\n",
            " [6.7 2.5 5.8 1.8]\n",
            " [7.2 3.6 6.1 2.5]\n",
            " [6.5 3.2 5.1 2. ]\n",
            " [6.4 2.7 5.3 1.9]\n",
            " [6.8 3.  5.5 2.1]\n",
            " [5.7 2.5 5.  2. ]\n",
            " [5.8 2.8 5.1 2.4]\n",
            " [6.4 3.2 5.3 2.3]\n",
            " [6.5 3.  5.5 1.8]\n",
            " [7.7 3.8 6.7 2.2]\n",
            " [7.7 2.6 6.9 2.3]\n",
            " [6.  2.2 5.  1.5]\n",
            " [6.9 3.2 5.7 2.3]\n",
            " [5.6 2.8 4.9 2. ]\n",
            " [7.7 2.8 6.7 2. ]\n",
            " [6.3 2.7 4.9 1.8]\n",
            " [6.7 3.3 5.7 2.1]\n",
            " [7.2 3.2 6.  1.8]\n",
            " [6.2 2.8 4.8 1.8]\n",
            " [6.1 3.  4.9 1.8]\n",
            " [6.4 2.8 5.6 2.1]\n",
            " [7.2 3.  5.8 1.6]\n",
            " [7.4 2.8 6.1 1.9]\n",
            " [7.9 3.8 6.4 2. ]\n",
            " [6.4 2.8 5.6 2.2]\n",
            " [6.3 2.8 5.1 1.5]\n",
            " [6.1 2.6 5.6 1.4]\n",
            " [7.7 3.  6.1 2.3]\n",
            " [6.3 3.4 5.6 2.4]\n",
            " [6.4 3.1 5.5 1.8]\n",
            " [6.  3.  4.8 1.8]\n",
            " [6.9 3.1 5.4 2.1]\n",
            " [6.7 3.1 5.6 2.4]\n",
            " [6.9 3.1 5.1 2.3]\n",
            " [5.8 2.7 5.1 1.9]\n",
            " [6.8 3.2 5.9 2.3]\n",
            " [6.7 3.3 5.7 2.5]\n",
            " [6.7 3.  5.2 2.3]\n",
            " [6.3 2.5 5.  1.9]\n",
            " [6.5 3.  5.2 2. ]\n",
            " [6.2 3.4 5.4 2.3]\n",
            " [5.9 3.  5.1 1.8]]\n"
          ]
        }
      ]
    },
    {
      "cell_type": "code",
      "metadata": {
        "id": "SZDaonjRW_Yk",
        "outputId": "3b0a8eba-a40e-4fd7-b9a0-fdfd037210ba",
        "colab": {
          "base_uri": "https://localhost:8080/",
          "height": 46
        }
      },
      "source": [
        "ok.check('e03_6.py')"
      ],
      "execution_count": null,
      "outputs": [
        {
          "output_type": "execute_result",
          "data": {
            "text/plain": [
              "<gofer.ok.OKTestsResult at 0x7f6f29220190>"
            ],
            "text/html": [
              "\n",
              "    \n",
              "    \n",
              "        <p>All tests passed!</p>\n",
              "    \n",
              "    "
            ]
          },
          "metadata": {},
          "execution_count": 202
        }
      ]
    },
    {
      "cell_type": "markdown",
      "metadata": {
        "id": "4RPaGiqvX2R7"
      },
      "source": [
        "# 7 Saídas Desejadas\n",
        "\n",
        "Crie um `array` do NumPy para as saídas desejadas, no formado _one-hot_. Para isso utilize as strings da última coluna de `d2`, verificando qual espécie de planta se refere cada string:\n",
        "\n",
        " `'Iris-setosa'` $\\rightarrow$ `[1.0, 0.0, 0.0]`\n",
        "\n",
        " `'Iris-versicolor'` $\\rightarrow$ `[0.0, 1.0, 0.0]`\n",
        "\n",
        " `'Iris-virginica'` $\\rightarrow$ `[0.0, 0.0, 1.0]`\n",
        "\n",
        " Grave o resultado em um `array` do NumPy de nome `d4`, com o mesmo número de linhas de `d3`, onde cada linha de `d4` corresponde ao vetor _one-hot_ da saída desejada da respectiva linha de entradas de `d4`."
      ]
    },
    {
      "cell_type": "code",
      "metadata": {
        "id": "BOUZLeZaY2cr",
        "outputId": "2838df0b-ddde-4137-ccfe-7a26113cfce3",
        "colab": {
          "base_uri": "https://localhost:8080/"
        }
      },
      "source": [
        "# Criando um dicionário para mapear as espécies para vetores one-hot\n",
        "mapeamento_especies = {\n",
        "    'Iris-setosa': [1.0, 0.0, 0.0],\n",
        "    'Iris-versicolor': [0.0, 1.0, 0.0],\n",
        "    'Iris-virginica': [0.0, 0.0, 1.0]\n",
        "}\n",
        "\n",
        "# Inicializando uma lista vazia para armazenar as saídas desejadas\n",
        "saidas_desejadas = []\n",
        "\n",
        "# Iterando sobre as strings da última coluna de d2 e mapeie para vetores one-hot\n",
        "for linha in d2:\n",
        "    especie = linha[-1]  # A última coluna contém a espécie\n",
        "    vetor_one_hot = mapeamento_especies[especie]\n",
        "    saidas_desejadas.append(vetor_one_hot)\n",
        "\n",
        "# Convertendo a lista de saídas desejadas em um array do NumPy\n",
        "d4 = np.array(saidas_desejadas)\n",
        "\n",
        "# Agora d4 contém as saídas desejadas no formato one-hot\n",
        "print(d4)"
      ],
      "execution_count": null,
      "outputs": [
        {
          "output_type": "stream",
          "name": "stdout",
          "text": [
            "[[1. 0. 0.]\n",
            " [1. 0. 0.]\n",
            " [1. 0. 0.]\n",
            " [1. 0. 0.]\n",
            " [1. 0. 0.]\n",
            " [1. 0. 0.]\n",
            " [1. 0. 0.]\n",
            " [1. 0. 0.]\n",
            " [1. 0. 0.]\n",
            " [1. 0. 0.]\n",
            " [1. 0. 0.]\n",
            " [1. 0. 0.]\n",
            " [1. 0. 0.]\n",
            " [1. 0. 0.]\n",
            " [1. 0. 0.]\n",
            " [1. 0. 0.]\n",
            " [1. 0. 0.]\n",
            " [1. 0. 0.]\n",
            " [1. 0. 0.]\n",
            " [1. 0. 0.]\n",
            " [1. 0. 0.]\n",
            " [1. 0. 0.]\n",
            " [1. 0. 0.]\n",
            " [1. 0. 0.]\n",
            " [1. 0. 0.]\n",
            " [1. 0. 0.]\n",
            " [1. 0. 0.]\n",
            " [1. 0. 0.]\n",
            " [1. 0. 0.]\n",
            " [1. 0. 0.]\n",
            " [1. 0. 0.]\n",
            " [1. 0. 0.]\n",
            " [1. 0. 0.]\n",
            " [1. 0. 0.]\n",
            " [1. 0. 0.]\n",
            " [1. 0. 0.]\n",
            " [1. 0. 0.]\n",
            " [1. 0. 0.]\n",
            " [1. 0. 0.]\n",
            " [1. 0. 0.]\n",
            " [1. 0. 0.]\n",
            " [1. 0. 0.]\n",
            " [1. 0. 0.]\n",
            " [1. 0. 0.]\n",
            " [1. 0. 0.]\n",
            " [1. 0. 0.]\n",
            " [1. 0. 0.]\n",
            " [1. 0. 0.]\n",
            " [1. 0. 0.]\n",
            " [1. 0. 0.]\n",
            " [0. 1. 0.]\n",
            " [0. 1. 0.]\n",
            " [0. 1. 0.]\n",
            " [0. 1. 0.]\n",
            " [0. 1. 0.]\n",
            " [0. 1. 0.]\n",
            " [0. 1. 0.]\n",
            " [0. 1. 0.]\n",
            " [0. 1. 0.]\n",
            " [0. 1. 0.]\n",
            " [0. 1. 0.]\n",
            " [0. 1. 0.]\n",
            " [0. 1. 0.]\n",
            " [0. 1. 0.]\n",
            " [0. 1. 0.]\n",
            " [0. 1. 0.]\n",
            " [0. 1. 0.]\n",
            " [0. 1. 0.]\n",
            " [0. 1. 0.]\n",
            " [0. 1. 0.]\n",
            " [0. 1. 0.]\n",
            " [0. 1. 0.]\n",
            " [0. 1. 0.]\n",
            " [0. 1. 0.]\n",
            " [0. 1. 0.]\n",
            " [0. 1. 0.]\n",
            " [0. 1. 0.]\n",
            " [0. 1. 0.]\n",
            " [0. 1. 0.]\n",
            " [0. 1. 0.]\n",
            " [0. 1. 0.]\n",
            " [0. 1. 0.]\n",
            " [0. 1. 0.]\n",
            " [0. 1. 0.]\n",
            " [0. 1. 0.]\n",
            " [0. 1. 0.]\n",
            " [0. 1. 0.]\n",
            " [0. 1. 0.]\n",
            " [0. 1. 0.]\n",
            " [0. 1. 0.]\n",
            " [0. 1. 0.]\n",
            " [0. 1. 0.]\n",
            " [0. 1. 0.]\n",
            " [0. 1. 0.]\n",
            " [0. 1. 0.]\n",
            " [0. 1. 0.]\n",
            " [0. 1. 0.]\n",
            " [0. 1. 0.]\n",
            " [0. 1. 0.]\n",
            " [0. 1. 0.]\n",
            " [0. 0. 1.]\n",
            " [0. 0. 1.]\n",
            " [0. 0. 1.]\n",
            " [0. 0. 1.]\n",
            " [0. 0. 1.]\n",
            " [0. 0. 1.]\n",
            " [0. 0. 1.]\n",
            " [0. 0. 1.]\n",
            " [0. 0. 1.]\n",
            " [0. 0. 1.]\n",
            " [0. 0. 1.]\n",
            " [0. 0. 1.]\n",
            " [0. 0. 1.]\n",
            " [0. 0. 1.]\n",
            " [0. 0. 1.]\n",
            " [0. 0. 1.]\n",
            " [0. 0. 1.]\n",
            " [0. 0. 1.]\n",
            " [0. 0. 1.]\n",
            " [0. 0. 1.]\n",
            " [0. 0. 1.]\n",
            " [0. 0. 1.]\n",
            " [0. 0. 1.]\n",
            " [0. 0. 1.]\n",
            " [0. 0. 1.]\n",
            " [0. 0. 1.]\n",
            " [0. 0. 1.]\n",
            " [0. 0. 1.]\n",
            " [0. 0. 1.]\n",
            " [0. 0. 1.]\n",
            " [0. 0. 1.]\n",
            " [0. 0. 1.]\n",
            " [0. 0. 1.]\n",
            " [0. 0. 1.]\n",
            " [0. 0. 1.]\n",
            " [0. 0. 1.]\n",
            " [0. 0. 1.]\n",
            " [0. 0. 1.]\n",
            " [0. 0. 1.]\n",
            " [0. 0. 1.]\n",
            " [0. 0. 1.]\n",
            " [0. 0. 1.]\n",
            " [0. 0. 1.]\n",
            " [0. 0. 1.]\n",
            " [0. 0. 1.]\n",
            " [0. 0. 1.]\n",
            " [0. 0. 1.]\n",
            " [0. 0. 1.]\n",
            " [0. 0. 1.]\n",
            " [0. 0. 1.]]\n"
          ]
        }
      ]
    },
    {
      "cell_type": "code",
      "metadata": {
        "id": "jwvATLI4cKue",
        "outputId": "a29b44be-691b-42b5-ae28-da7019093bf1",
        "colab": {
          "base_uri": "https://localhost:8080/",
          "height": 46
        }
      },
      "source": [
        "ok.check('e03_7.py')"
      ],
      "execution_count": null,
      "outputs": [
        {
          "output_type": "execute_result",
          "data": {
            "text/plain": [
              "<gofer.ok.OKTestsResult at 0x7f6f41c0e4a0>"
            ],
            "text/html": [
              "\n",
              "    \n",
              "    \n",
              "        <p>All tests passed!</p>\n",
              "    \n",
              "    "
            ]
          },
          "metadata": {},
          "execution_count": 206
        }
      ]
    },
    {
      "cell_type": "markdown",
      "metadata": {
        "id": "M2hG7fHQccol"
      },
      "source": [
        "# 8 Normalização das Entradas\n",
        "\n",
        "Encontre o valor máximo e mínimo para cada uma das quatro colunas da matriz de entradas. Normalize os valores das entradas no intervalo entre zero e um, salvando o resultado em um `array` do NumPy de nome `d5`."
      ]
    },
    {
      "cell_type": "code",
      "metadata": {
        "id": "6LJLMP4GdNaB",
        "outputId": "f21e6ce2-7840-4a67-a555-3f5b0faff8ea",
        "colab": {
          "base_uri": "https://localhost:8080/"
        }
      },
      "source": [
        "# Encontrando os valores máximos e mínimos para cada coluna\n",
        "minimos = np.min(d3, axis=0)\n",
        "maximos = np.max(d3, axis=0)\n",
        "\n",
        "# Normalizando os valores das entradas para o intervalo entre 0 e 1\n",
        "d5 = (d3 - minimos) / (maximos - minimos)\n",
        "\n",
        "# Agora d5 contém as entradas normalizadas\n",
        "print(d5)"
      ],
      "execution_count": null,
      "outputs": [
        {
          "output_type": "stream",
          "name": "stdout",
          "text": [
            "[[0.22222222 0.625      0.06779661 0.04166667]\n",
            " [0.16666667 0.41666667 0.06779661 0.04166667]\n",
            " [0.11111111 0.5        0.05084746 0.04166667]\n",
            " [0.08333333 0.45833333 0.08474576 0.04166667]\n",
            " [0.19444444 0.66666667 0.06779661 0.04166667]\n",
            " [0.30555556 0.79166667 0.11864407 0.125     ]\n",
            " [0.08333333 0.58333333 0.06779661 0.08333333]\n",
            " [0.19444444 0.58333333 0.08474576 0.04166667]\n",
            " [0.02777778 0.375      0.06779661 0.04166667]\n",
            " [0.16666667 0.45833333 0.08474576 0.        ]\n",
            " [0.30555556 0.70833333 0.08474576 0.04166667]\n",
            " [0.13888889 0.58333333 0.10169492 0.04166667]\n",
            " [0.13888889 0.41666667 0.06779661 0.        ]\n",
            " [0.         0.41666667 0.01694915 0.        ]\n",
            " [0.41666667 0.83333333 0.03389831 0.04166667]\n",
            " [0.38888889 1.         0.08474576 0.125     ]\n",
            " [0.30555556 0.79166667 0.05084746 0.125     ]\n",
            " [0.22222222 0.625      0.06779661 0.08333333]\n",
            " [0.38888889 0.75       0.11864407 0.08333333]\n",
            " [0.22222222 0.75       0.08474576 0.08333333]\n",
            " [0.30555556 0.58333333 0.11864407 0.04166667]\n",
            " [0.22222222 0.70833333 0.08474576 0.125     ]\n",
            " [0.08333333 0.66666667 0.         0.04166667]\n",
            " [0.22222222 0.54166667 0.11864407 0.16666667]\n",
            " [0.13888889 0.58333333 0.15254237 0.04166667]\n",
            " [0.19444444 0.41666667 0.10169492 0.04166667]\n",
            " [0.19444444 0.58333333 0.10169492 0.125     ]\n",
            " [0.25       0.625      0.08474576 0.04166667]\n",
            " [0.25       0.58333333 0.06779661 0.04166667]\n",
            " [0.11111111 0.5        0.10169492 0.04166667]\n",
            " [0.13888889 0.45833333 0.10169492 0.04166667]\n",
            " [0.30555556 0.58333333 0.08474576 0.125     ]\n",
            " [0.25       0.875      0.08474576 0.        ]\n",
            " [0.33333333 0.91666667 0.06779661 0.04166667]\n",
            " [0.16666667 0.45833333 0.08474576 0.        ]\n",
            " [0.19444444 0.5        0.03389831 0.04166667]\n",
            " [0.33333333 0.625      0.05084746 0.04166667]\n",
            " [0.16666667 0.45833333 0.08474576 0.        ]\n",
            " [0.02777778 0.41666667 0.05084746 0.04166667]\n",
            " [0.22222222 0.58333333 0.08474576 0.04166667]\n",
            " [0.19444444 0.625      0.05084746 0.08333333]\n",
            " [0.05555556 0.125      0.05084746 0.08333333]\n",
            " [0.02777778 0.5        0.05084746 0.04166667]\n",
            " [0.19444444 0.625      0.10169492 0.20833333]\n",
            " [0.22222222 0.75       0.15254237 0.125     ]\n",
            " [0.13888889 0.41666667 0.06779661 0.08333333]\n",
            " [0.22222222 0.75       0.10169492 0.04166667]\n",
            " [0.08333333 0.5        0.06779661 0.04166667]\n",
            " [0.27777778 0.70833333 0.08474576 0.04166667]\n",
            " [0.19444444 0.54166667 0.06779661 0.04166667]\n",
            " [0.75       0.5        0.62711864 0.54166667]\n",
            " [0.58333333 0.5        0.59322034 0.58333333]\n",
            " [0.72222222 0.45833333 0.66101695 0.58333333]\n",
            " [0.33333333 0.125      0.50847458 0.5       ]\n",
            " [0.61111111 0.33333333 0.61016949 0.58333333]\n",
            " [0.38888889 0.33333333 0.59322034 0.5       ]\n",
            " [0.55555556 0.54166667 0.62711864 0.625     ]\n",
            " [0.16666667 0.16666667 0.38983051 0.375     ]\n",
            " [0.63888889 0.375      0.61016949 0.5       ]\n",
            " [0.25       0.29166667 0.49152542 0.54166667]\n",
            " [0.19444444 0.         0.42372881 0.375     ]\n",
            " [0.44444444 0.41666667 0.54237288 0.58333333]\n",
            " [0.47222222 0.08333333 0.50847458 0.375     ]\n",
            " [0.5        0.375      0.62711864 0.54166667]\n",
            " [0.36111111 0.375      0.44067797 0.5       ]\n",
            " [0.66666667 0.45833333 0.57627119 0.54166667]\n",
            " [0.36111111 0.41666667 0.59322034 0.58333333]\n",
            " [0.41666667 0.29166667 0.52542373 0.375     ]\n",
            " [0.52777778 0.08333333 0.59322034 0.58333333]\n",
            " [0.36111111 0.20833333 0.49152542 0.41666667]\n",
            " [0.44444444 0.5        0.6440678  0.70833333]\n",
            " [0.5        0.33333333 0.50847458 0.5       ]\n",
            " [0.55555556 0.20833333 0.66101695 0.58333333]\n",
            " [0.5        0.33333333 0.62711864 0.45833333]\n",
            " [0.58333333 0.375      0.55932203 0.5       ]\n",
            " [0.63888889 0.41666667 0.57627119 0.54166667]\n",
            " [0.69444444 0.33333333 0.6440678  0.54166667]\n",
            " [0.66666667 0.41666667 0.6779661  0.66666667]\n",
            " [0.47222222 0.375      0.59322034 0.58333333]\n",
            " [0.38888889 0.25       0.42372881 0.375     ]\n",
            " [0.33333333 0.16666667 0.47457627 0.41666667]\n",
            " [0.33333333 0.16666667 0.45762712 0.375     ]\n",
            " [0.41666667 0.29166667 0.49152542 0.45833333]\n",
            " [0.47222222 0.29166667 0.69491525 0.625     ]\n",
            " [0.30555556 0.41666667 0.59322034 0.58333333]\n",
            " [0.47222222 0.58333333 0.59322034 0.625     ]\n",
            " [0.66666667 0.45833333 0.62711864 0.58333333]\n",
            " [0.55555556 0.125      0.57627119 0.5       ]\n",
            " [0.36111111 0.41666667 0.52542373 0.5       ]\n",
            " [0.33333333 0.20833333 0.50847458 0.5       ]\n",
            " [0.33333333 0.25       0.57627119 0.45833333]\n",
            " [0.5        0.41666667 0.61016949 0.54166667]\n",
            " [0.41666667 0.25       0.50847458 0.45833333]\n",
            " [0.19444444 0.125      0.38983051 0.375     ]\n",
            " [0.36111111 0.29166667 0.54237288 0.5       ]\n",
            " [0.38888889 0.41666667 0.54237288 0.45833333]\n",
            " [0.38888889 0.375      0.54237288 0.5       ]\n",
            " [0.52777778 0.375      0.55932203 0.5       ]\n",
            " [0.22222222 0.20833333 0.33898305 0.41666667]\n",
            " [0.38888889 0.33333333 0.52542373 0.5       ]\n",
            " [0.55555556 0.54166667 0.84745763 1.        ]\n",
            " [0.41666667 0.29166667 0.69491525 0.75      ]\n",
            " [0.77777778 0.41666667 0.83050847 0.83333333]\n",
            " [0.55555556 0.375      0.77966102 0.70833333]\n",
            " [0.61111111 0.41666667 0.81355932 0.875     ]\n",
            " [0.91666667 0.41666667 0.94915254 0.83333333]\n",
            " [0.16666667 0.20833333 0.59322034 0.66666667]\n",
            " [0.83333333 0.375      0.89830508 0.70833333]\n",
            " [0.66666667 0.20833333 0.81355932 0.70833333]\n",
            " [0.80555556 0.66666667 0.86440678 1.        ]\n",
            " [0.61111111 0.5        0.69491525 0.79166667]\n",
            " [0.58333333 0.29166667 0.72881356 0.75      ]\n",
            " [0.69444444 0.41666667 0.76271186 0.83333333]\n",
            " [0.38888889 0.20833333 0.6779661  0.79166667]\n",
            " [0.41666667 0.33333333 0.69491525 0.95833333]\n",
            " [0.58333333 0.5        0.72881356 0.91666667]\n",
            " [0.61111111 0.41666667 0.76271186 0.70833333]\n",
            " [0.94444444 0.75       0.96610169 0.875     ]\n",
            " [0.94444444 0.25       1.         0.91666667]\n",
            " [0.47222222 0.08333333 0.6779661  0.58333333]\n",
            " [0.72222222 0.5        0.79661017 0.91666667]\n",
            " [0.36111111 0.33333333 0.66101695 0.79166667]\n",
            " [0.94444444 0.33333333 0.96610169 0.79166667]\n",
            " [0.55555556 0.29166667 0.66101695 0.70833333]\n",
            " [0.66666667 0.54166667 0.79661017 0.83333333]\n",
            " [0.80555556 0.5        0.84745763 0.70833333]\n",
            " [0.52777778 0.33333333 0.6440678  0.70833333]\n",
            " [0.5        0.41666667 0.66101695 0.70833333]\n",
            " [0.58333333 0.33333333 0.77966102 0.83333333]\n",
            " [0.80555556 0.41666667 0.81355932 0.625     ]\n",
            " [0.86111111 0.33333333 0.86440678 0.75      ]\n",
            " [1.         0.75       0.91525424 0.79166667]\n",
            " [0.58333333 0.33333333 0.77966102 0.875     ]\n",
            " [0.55555556 0.33333333 0.69491525 0.58333333]\n",
            " [0.5        0.25       0.77966102 0.54166667]\n",
            " [0.94444444 0.41666667 0.86440678 0.91666667]\n",
            " [0.55555556 0.58333333 0.77966102 0.95833333]\n",
            " [0.58333333 0.45833333 0.76271186 0.70833333]\n",
            " [0.47222222 0.41666667 0.6440678  0.70833333]\n",
            " [0.72222222 0.45833333 0.74576271 0.83333333]\n",
            " [0.66666667 0.45833333 0.77966102 0.95833333]\n",
            " [0.72222222 0.45833333 0.69491525 0.91666667]\n",
            " [0.41666667 0.29166667 0.69491525 0.75      ]\n",
            " [0.69444444 0.5        0.83050847 0.91666667]\n",
            " [0.66666667 0.54166667 0.79661017 1.        ]\n",
            " [0.66666667 0.41666667 0.71186441 0.91666667]\n",
            " [0.55555556 0.20833333 0.6779661  0.75      ]\n",
            " [0.61111111 0.41666667 0.71186441 0.79166667]\n",
            " [0.52777778 0.58333333 0.74576271 0.91666667]\n",
            " [0.44444444 0.41666667 0.69491525 0.70833333]]\n"
          ]
        }
      ]
    },
    {
      "cell_type": "code",
      "metadata": {
        "id": "2Y3LHDt9e4C_",
        "outputId": "1d440416-dabe-4732-84e8-ab31f9e40cc2",
        "colab": {
          "base_uri": "https://localhost:8080/",
          "height": 46
        }
      },
      "source": [
        "ok.check('e03_8.py')"
      ],
      "execution_count": null,
      "outputs": [
        {
          "output_type": "execute_result",
          "data": {
            "text/plain": [
              "<gofer.ok.OKTestsResult at 0x7f6f292231f0>"
            ],
            "text/html": [
              "\n",
              "    \n",
              "    \n",
              "        <p>All tests passed!</p>\n",
              "    \n",
              "    "
            ]
          },
          "metadata": {},
          "execution_count": 208
        }
      ]
    },
    {
      "cell_type": "markdown",
      "metadata": {
        "id": "2JMfjj63gdsZ"
      },
      "source": [
        "# 9 Embaralhamento dos Dados\n",
        "\n",
        "Misture as linhas dos dados dos valores de entradas de treinamento contidos em `d5` de forma aleatória. Faça o mesmo com as linhas das saídas desejadas em `d4`, de forma a manter a correspondência entre ambos. Chame a `array` resultante de dados de treinamento embaralhado de `x` e a `array` correspondente de saídas desejadas de `y`."
      ]
    },
    {
      "cell_type": "code",
      "metadata": {
        "id": "u0weu3mshbro"
      },
      "source": [
        "# Combinando as entradas e saídas em um único conjunto de dados\n",
        "dados_embaralhados = list(zip(d5, d4))\n",
        "\n",
        "# Embaralhando os dados de forma aleatória\n",
        "np.random.shuffle(dados_embaralhados)\n",
        "\n",
        "# Separando novamente as entradas e saídas embaralhadas\n",
        "x, y = zip(*dados_embaralhados)\n",
        "\n",
        "# Convertendo x e y de volta para arrays do NumPy\n",
        "x = np.array(x)\n",
        "y = np.array(y)\n",
        "\n",
        "# Agora, x contém os dados de treinamento embaralhados, e y as saídas desejadas correspondentes"
      ],
      "execution_count": null,
      "outputs": []
    },
    {
      "cell_type": "code",
      "metadata": {
        "id": "g1OinS58n2eV",
        "outputId": "8b2da9dc-317d-4bc2-8d9c-d4fb96396d57",
        "colab": {
          "base_uri": "https://localhost:8080/",
          "height": 46
        }
      },
      "source": [
        "ok.check('e03_9.py')"
      ],
      "execution_count": null,
      "outputs": [
        {
          "output_type": "execute_result",
          "data": {
            "text/plain": [
              "<gofer.ok.OKTestsResult at 0x7f6f41c0dbd0>"
            ],
            "text/html": [
              "\n",
              "    \n",
              "    \n",
              "        <p>All tests passed!</p>\n",
              "    \n",
              "    "
            ]
          },
          "metadata": {},
          "execution_count": 215
        }
      ]
    },
    {
      "cell_type": "markdown",
      "metadata": {
        "id": "g7RxpU4CoscS"
      },
      "source": [
        "# 10 Separação de Dados de Treinamento e Validação\n",
        "\n",
        "Separe os pares de dados de treinamento e validação nas proporções 90%/10%, respectivamente. Chame a entrada e saída desejada dos pares de treinamento de `x_train` e `y_train`, e use os nomes `x_test` e `y_test` para os dados de validação. Os dados de validação devem corresponder às linhas finais dos pares de `array` originais `x` e `y`."
      ]
    },
    {
      "cell_type": "code",
      "metadata": {
        "id": "cKtuZjXfphhe"
      },
      "source": [
        "# Determinando o tamanho do conjunto de validação (10% dos dados)\n",
        "percentagem_validacao = 0.10\n",
        "tamanho_validacao = int(len(x) * percentagem_validacao)\n",
        "\n",
        "# Separando os dados em treinamento e validação\n",
        "x_train = x[:-tamanho_validacao]\n",
        "y_train = y[:-tamanho_validacao]\n",
        "x_test = x[-tamanho_validacao:]\n",
        "y_test = y[-tamanho_validacao:]\n",
        "\n",
        "# Agora, x_train e y_train contêm os dados de treinamento, enquanto x_test e y_test contêm os dados de validação"
      ],
      "execution_count": null,
      "outputs": []
    },
    {
      "cell_type": "code",
      "metadata": {
        "id": "jLfamQPqpu3w",
        "outputId": "e0e21831-2c28-4c9c-b654-1cd700de2c05",
        "colab": {
          "base_uri": "https://localhost:8080/",
          "height": 46
        }
      },
      "source": [
        "ok.check('e03_10.py')"
      ],
      "execution_count": null,
      "outputs": [
        {
          "output_type": "execute_result",
          "data": {
            "text/plain": [
              "<gofer.ok.OKTestsResult at 0x7f6f29220b80>"
            ],
            "text/html": [
              "\n",
              "    \n",
              "    \n",
              "        <p>All tests passed!</p>\n",
              "    \n",
              "    "
            ]
          },
          "metadata": {},
          "execution_count": 217
        }
      ]
    }
  ]
}
